{
 "cells": [
  {
   "cell_type": "markdown",
   "source": [
    "### Часть 1. Первичная обработка данных."
   ],
   "metadata": {
    "collapsed": false
   },
   "id": "db336d3f23b4f3ef"
  },
  {
   "cell_type": "code",
   "execution_count": 1,
   "outputs": [],
   "source": [
    "import pandas as pd\n",
    "import numpy as np"
   ],
   "metadata": {
    "collapsed": false,
    "ExecuteTime": {
     "end_time": "2023-12-03T11:43:49.517400700Z",
     "start_time": "2023-12-03T11:43:49.020624800Z"
    }
   },
   "id": "2c71c7a27e319e3"
  },
  {
   "cell_type": "code",
   "execution_count": 2,
   "outputs": [],
   "source": [
    "# Определяем имена признаков\n",
    "\n",
    "col_names = ['id', 'cycle', 'setting1', 'setting2', 'setting3', \n",
    "             's1', 's2', 's3', 's4', 's5', 's6', 's7', 's8', 's9', 's10', 's11', 's12', 's13', 's14', 's15', 's16', 's17', 's18', 's19', 's20', 's21']\n"
   ],
   "metadata": {
    "collapsed": false,
    "ExecuteTime": {
     "end_time": "2023-12-03T11:43:49.531363300Z",
     "start_time": "2023-12-03T11:43:49.518398400Z"
    }
   },
   "id": "d4df9d0fb6603d7b"
  },
  {
   "cell_type": "code",
   "execution_count": 3,
   "outputs": [
    {
     "data": {
      "text/plain": "        id  cycle  setting1  setting2  setting3      s1      s2       s3  \\\n0        1      1   -0.0007   -0.0004     100.0  518.67  641.82  1589.70   \n1        1      2    0.0019   -0.0003     100.0  518.67  642.15  1591.82   \n2        1      3   -0.0043    0.0003     100.0  518.67  642.35  1587.99   \n3        1      4    0.0007    0.0000     100.0  518.67  642.35  1582.79   \n4        1      5   -0.0019   -0.0002     100.0  518.67  642.37  1582.85   \n...    ...    ...       ...       ...       ...     ...     ...      ...   \n20626  100    196   -0.0004   -0.0003     100.0  518.67  643.49  1597.98   \n20627  100    197   -0.0016   -0.0005     100.0  518.67  643.54  1604.50   \n20628  100    198    0.0004    0.0000     100.0  518.67  643.42  1602.46   \n20629  100    199   -0.0011    0.0003     100.0  518.67  643.23  1605.26   \n20630  100    200   -0.0032   -0.0005     100.0  518.67  643.85  1600.38   \n\n            s4     s5  ...     s15   s16  s17   s18    s19    s20      s21  \\\n0      1400.60  14.62  ...  8.4195  0.03  392  2388  100.0  39.06  23.4190   \n1      1403.14  14.62  ...  8.4318  0.03  392  2388  100.0  39.00  23.4236   \n2      1404.20  14.62  ...  8.4178  0.03  390  2388  100.0  38.95  23.3442   \n3      1401.87  14.62  ...  8.3682  0.03  392  2388  100.0  38.88  23.3739   \n4      1406.22  14.62  ...  8.4294  0.03  393  2388  100.0  38.90  23.4044   \n...        ...    ...  ...     ...   ...  ...   ...    ...    ...      ...   \n20626  1428.63  14.62  ...  8.4956  0.03  397  2388  100.0  38.49  22.9735   \n20627  1433.58  14.62  ...  8.5139  0.03  395  2388  100.0  38.30  23.1594   \n20628  1428.18  14.62  ...  8.5646  0.03  398  2388  100.0  38.44  22.9333   \n20629  1426.53  14.62  ...  8.5389  0.03  395  2388  100.0  38.29  23.0640   \n20630  1432.14  14.62  ...  8.5036  0.03  396  2388  100.0  38.37  23.0522   \n\n       TTF  label_bnc  label_mcc  \n0      191          0          0  \n1      190          0          0  \n2      189          0          0  \n3      188          0          0  \n4      187          0          0  \n...    ...        ...        ...  \n20626    4          1          2  \n20627    3          1          2  \n20628    2          1          2  \n20629    1          1          2  \n20630    0          1          2  \n\n[20631 rows x 29 columns]",
      "text/html": "<div>\n<style scoped>\n    .dataframe tbody tr th:only-of-type {\n        vertical-align: middle;\n    }\n\n    .dataframe tbody tr th {\n        vertical-align: top;\n    }\n\n    .dataframe thead th {\n        text-align: right;\n    }\n</style>\n<table border=\"1\" class=\"dataframe\">\n  <thead>\n    <tr style=\"text-align: right;\">\n      <th></th>\n      <th>id</th>\n      <th>cycle</th>\n      <th>setting1</th>\n      <th>setting2</th>\n      <th>setting3</th>\n      <th>s1</th>\n      <th>s2</th>\n      <th>s3</th>\n      <th>s4</th>\n      <th>s5</th>\n      <th>...</th>\n      <th>s15</th>\n      <th>s16</th>\n      <th>s17</th>\n      <th>s18</th>\n      <th>s19</th>\n      <th>s20</th>\n      <th>s21</th>\n      <th>TTF</th>\n      <th>label_bnc</th>\n      <th>label_mcc</th>\n    </tr>\n  </thead>\n  <tbody>\n    <tr>\n      <th>0</th>\n      <td>1</td>\n      <td>1</td>\n      <td>-0.0007</td>\n      <td>-0.0004</td>\n      <td>100.0</td>\n      <td>518.67</td>\n      <td>641.82</td>\n      <td>1589.70</td>\n      <td>1400.60</td>\n      <td>14.62</td>\n      <td>...</td>\n      <td>8.4195</td>\n      <td>0.03</td>\n      <td>392</td>\n      <td>2388</td>\n      <td>100.0</td>\n      <td>39.06</td>\n      <td>23.4190</td>\n      <td>191</td>\n      <td>0</td>\n      <td>0</td>\n    </tr>\n    <tr>\n      <th>1</th>\n      <td>1</td>\n      <td>2</td>\n      <td>0.0019</td>\n      <td>-0.0003</td>\n      <td>100.0</td>\n      <td>518.67</td>\n      <td>642.15</td>\n      <td>1591.82</td>\n      <td>1403.14</td>\n      <td>14.62</td>\n      <td>...</td>\n      <td>8.4318</td>\n      <td>0.03</td>\n      <td>392</td>\n      <td>2388</td>\n      <td>100.0</td>\n      <td>39.00</td>\n      <td>23.4236</td>\n      <td>190</td>\n      <td>0</td>\n      <td>0</td>\n    </tr>\n    <tr>\n      <th>2</th>\n      <td>1</td>\n      <td>3</td>\n      <td>-0.0043</td>\n      <td>0.0003</td>\n      <td>100.0</td>\n      <td>518.67</td>\n      <td>642.35</td>\n      <td>1587.99</td>\n      <td>1404.20</td>\n      <td>14.62</td>\n      <td>...</td>\n      <td>8.4178</td>\n      <td>0.03</td>\n      <td>390</td>\n      <td>2388</td>\n      <td>100.0</td>\n      <td>38.95</td>\n      <td>23.3442</td>\n      <td>189</td>\n      <td>0</td>\n      <td>0</td>\n    </tr>\n    <tr>\n      <th>3</th>\n      <td>1</td>\n      <td>4</td>\n      <td>0.0007</td>\n      <td>0.0000</td>\n      <td>100.0</td>\n      <td>518.67</td>\n      <td>642.35</td>\n      <td>1582.79</td>\n      <td>1401.87</td>\n      <td>14.62</td>\n      <td>...</td>\n      <td>8.3682</td>\n      <td>0.03</td>\n      <td>392</td>\n      <td>2388</td>\n      <td>100.0</td>\n      <td>38.88</td>\n      <td>23.3739</td>\n      <td>188</td>\n      <td>0</td>\n      <td>0</td>\n    </tr>\n    <tr>\n      <th>4</th>\n      <td>1</td>\n      <td>5</td>\n      <td>-0.0019</td>\n      <td>-0.0002</td>\n      <td>100.0</td>\n      <td>518.67</td>\n      <td>642.37</td>\n      <td>1582.85</td>\n      <td>1406.22</td>\n      <td>14.62</td>\n      <td>...</td>\n      <td>8.4294</td>\n      <td>0.03</td>\n      <td>393</td>\n      <td>2388</td>\n      <td>100.0</td>\n      <td>38.90</td>\n      <td>23.4044</td>\n      <td>187</td>\n      <td>0</td>\n      <td>0</td>\n    </tr>\n    <tr>\n      <th>...</th>\n      <td>...</td>\n      <td>...</td>\n      <td>...</td>\n      <td>...</td>\n      <td>...</td>\n      <td>...</td>\n      <td>...</td>\n      <td>...</td>\n      <td>...</td>\n      <td>...</td>\n      <td>...</td>\n      <td>...</td>\n      <td>...</td>\n      <td>...</td>\n      <td>...</td>\n      <td>...</td>\n      <td>...</td>\n      <td>...</td>\n      <td>...</td>\n      <td>...</td>\n      <td>...</td>\n    </tr>\n    <tr>\n      <th>20626</th>\n      <td>100</td>\n      <td>196</td>\n      <td>-0.0004</td>\n      <td>-0.0003</td>\n      <td>100.0</td>\n      <td>518.67</td>\n      <td>643.49</td>\n      <td>1597.98</td>\n      <td>1428.63</td>\n      <td>14.62</td>\n      <td>...</td>\n      <td>8.4956</td>\n      <td>0.03</td>\n      <td>397</td>\n      <td>2388</td>\n      <td>100.0</td>\n      <td>38.49</td>\n      <td>22.9735</td>\n      <td>4</td>\n      <td>1</td>\n      <td>2</td>\n    </tr>\n    <tr>\n      <th>20627</th>\n      <td>100</td>\n      <td>197</td>\n      <td>-0.0016</td>\n      <td>-0.0005</td>\n      <td>100.0</td>\n      <td>518.67</td>\n      <td>643.54</td>\n      <td>1604.50</td>\n      <td>1433.58</td>\n      <td>14.62</td>\n      <td>...</td>\n      <td>8.5139</td>\n      <td>0.03</td>\n      <td>395</td>\n      <td>2388</td>\n      <td>100.0</td>\n      <td>38.30</td>\n      <td>23.1594</td>\n      <td>3</td>\n      <td>1</td>\n      <td>2</td>\n    </tr>\n    <tr>\n      <th>20628</th>\n      <td>100</td>\n      <td>198</td>\n      <td>0.0004</td>\n      <td>0.0000</td>\n      <td>100.0</td>\n      <td>518.67</td>\n      <td>643.42</td>\n      <td>1602.46</td>\n      <td>1428.18</td>\n      <td>14.62</td>\n      <td>...</td>\n      <td>8.5646</td>\n      <td>0.03</td>\n      <td>398</td>\n      <td>2388</td>\n      <td>100.0</td>\n      <td>38.44</td>\n      <td>22.9333</td>\n      <td>2</td>\n      <td>1</td>\n      <td>2</td>\n    </tr>\n    <tr>\n      <th>20629</th>\n      <td>100</td>\n      <td>199</td>\n      <td>-0.0011</td>\n      <td>0.0003</td>\n      <td>100.0</td>\n      <td>518.67</td>\n      <td>643.23</td>\n      <td>1605.26</td>\n      <td>1426.53</td>\n      <td>14.62</td>\n      <td>...</td>\n      <td>8.5389</td>\n      <td>0.03</td>\n      <td>395</td>\n      <td>2388</td>\n      <td>100.0</td>\n      <td>38.29</td>\n      <td>23.0640</td>\n      <td>1</td>\n      <td>1</td>\n      <td>2</td>\n    </tr>\n    <tr>\n      <th>20630</th>\n      <td>100</td>\n      <td>200</td>\n      <td>-0.0032</td>\n      <td>-0.0005</td>\n      <td>100.0</td>\n      <td>518.67</td>\n      <td>643.85</td>\n      <td>1600.38</td>\n      <td>1432.14</td>\n      <td>14.62</td>\n      <td>...</td>\n      <td>8.5036</td>\n      <td>0.03</td>\n      <td>396</td>\n      <td>2388</td>\n      <td>100.0</td>\n      <td>38.37</td>\n      <td>23.0522</td>\n      <td>0</td>\n      <td>1</td>\n      <td>2</td>\n    </tr>\n  </tbody>\n</table>\n<p>20631 rows × 29 columns</p>\n</div>"
     },
     "execution_count": 3,
     "metadata": {},
     "output_type": "execute_result"
    }
   ],
   "source": [
    "# Первичная обработка обучающих данных\n",
    "\n",
    "df_train = pd.read_csv('./PM_train.txt', sep=' ', header=None)\n",
    "df_train.drop([26, 27], axis=1, inplace=True)\n",
    "df_train.columns = col_names\n",
    "\n",
    "# создание метки TTF\n",
    "\n",
    "df_max_cycle = pd.DataFrame(df_train.groupby('id').agg({'cycle': 'max'}))\n",
    "df_max_cycle.reset_index(inplace=True)\n",
    "df_max_cycle.columns = ['id', 'last_cycle']\n",
    "df_train = pd.merge(df_train, df_max_cycle, on = 'id')\n",
    "df_train['TTF'] = df_train['last_cycle'] - df_train['cycle']\n",
    "df_train.drop(['last_cycle'], axis=1, inplace=True)\n",
    "\n",
    "# создание меток классификационных меток\n",
    "window_1 = 15\n",
    "window_2 = 30\n",
    "\n",
    "# Создание метки бинарной классификации\n",
    "df_train['label_bnc'] = df_train['TTF'].apply(lambda x: 1 if x <= window_1 else 0)\n",
    "\n",
    "# Создание метки мультиклассовой классификации\n",
    "df_train['label_mcc'] = df_train['TTF'].apply(lambda x: 2 if x <= window_2 else 1 if x <= window_1 else 0)\n",
    "\n",
    "df_train"
   ],
   "metadata": {
    "collapsed": false,
    "ExecuteTime": {
     "end_time": "2023-12-03T11:43:49.697443400Z",
     "start_time": "2023-12-03T11:43:49.533358500Z"
    }
   },
   "id": "e2d87effaf1fed1c"
  },
  {
   "cell_type": "code",
   "execution_count": 4,
   "outputs": [
    {
     "data": {
      "text/plain": "        id  cycle  setting1  setting2  setting3      s1      s2       s3  \\\n0        1      1    0.0023    0.0003     100.0  518.67  643.02  1585.29   \n1        1      2   -0.0027   -0.0003     100.0  518.67  641.71  1588.45   \n2        1      3    0.0003    0.0001     100.0  518.67  642.46  1586.94   \n3        1      4    0.0042    0.0000     100.0  518.67  642.44  1584.12   \n4        1      5    0.0014    0.0000     100.0  518.67  642.51  1587.19   \n...    ...    ...       ...       ...       ...     ...     ...      ...   \n13091  100    194    0.0049    0.0000     100.0  518.67  643.24  1599.45   \n13092  100    195   -0.0011   -0.0001     100.0  518.67  643.22  1595.69   \n13093  100    196   -0.0006   -0.0003     100.0  518.67  643.44  1593.15   \n13094  100    197   -0.0038    0.0001     100.0  518.67  643.26  1594.99   \n13095  100    198    0.0013    0.0003     100.0  518.67  642.95  1601.62   \n\n            s4     s5  ...     s15   s16  s17   s18    s19    s20      s21  \\\n0      1398.21  14.62  ...  8.4052  0.03  392  2388  100.0  38.86  23.3735   \n1      1395.42  14.62  ...  8.3803  0.03  393  2388  100.0  39.02  23.3916   \n2      1401.34  14.62  ...  8.4441  0.03  393  2388  100.0  39.08  23.4166   \n3      1406.42  14.62  ...  8.3917  0.03  391  2388  100.0  39.00  23.3737   \n4      1401.92  14.62  ...  8.4031  0.03  390  2388  100.0  38.99  23.4130   \n...        ...    ...  ...     ...   ...  ...   ...    ...    ...      ...   \n13091  1415.79  14.62  ...  8.4715  0.03  394  2388  100.0  38.65  23.1974   \n13092  1422.05  14.62  ...  8.4512  0.03  395  2388  100.0  38.57  23.2771   \n13093  1406.82  14.62  ...  8.4569  0.03  395  2388  100.0  38.62  23.2051   \n13094  1419.36  14.62  ...  8.4711  0.03  395  2388  100.0  38.66  23.2699   \n13095  1424.99  14.62  ...  8.4903  0.03  396  2388  100.0  38.70  23.1855   \n\n       TTF  label_bnc  label_mcc  \n0      142          0          0  \n1      141          0          0  \n2      140          0          0  \n3      139          0          0  \n4      138          0          0  \n...    ...        ...        ...  \n13091   24          0          2  \n13092   23          0          2  \n13093   22          0          2  \n13094   21          0          2  \n13095   20          0          2  \n\n[13096 rows x 29 columns]",
      "text/html": "<div>\n<style scoped>\n    .dataframe tbody tr th:only-of-type {\n        vertical-align: middle;\n    }\n\n    .dataframe tbody tr th {\n        vertical-align: top;\n    }\n\n    .dataframe thead th {\n        text-align: right;\n    }\n</style>\n<table border=\"1\" class=\"dataframe\">\n  <thead>\n    <tr style=\"text-align: right;\">\n      <th></th>\n      <th>id</th>\n      <th>cycle</th>\n      <th>setting1</th>\n      <th>setting2</th>\n      <th>setting3</th>\n      <th>s1</th>\n      <th>s2</th>\n      <th>s3</th>\n      <th>s4</th>\n      <th>s5</th>\n      <th>...</th>\n      <th>s15</th>\n      <th>s16</th>\n      <th>s17</th>\n      <th>s18</th>\n      <th>s19</th>\n      <th>s20</th>\n      <th>s21</th>\n      <th>TTF</th>\n      <th>label_bnc</th>\n      <th>label_mcc</th>\n    </tr>\n  </thead>\n  <tbody>\n    <tr>\n      <th>0</th>\n      <td>1</td>\n      <td>1</td>\n      <td>0.0023</td>\n      <td>0.0003</td>\n      <td>100.0</td>\n      <td>518.67</td>\n      <td>643.02</td>\n      <td>1585.29</td>\n      <td>1398.21</td>\n      <td>14.62</td>\n      <td>...</td>\n      <td>8.4052</td>\n      <td>0.03</td>\n      <td>392</td>\n      <td>2388</td>\n      <td>100.0</td>\n      <td>38.86</td>\n      <td>23.3735</td>\n      <td>142</td>\n      <td>0</td>\n      <td>0</td>\n    </tr>\n    <tr>\n      <th>1</th>\n      <td>1</td>\n      <td>2</td>\n      <td>-0.0027</td>\n      <td>-0.0003</td>\n      <td>100.0</td>\n      <td>518.67</td>\n      <td>641.71</td>\n      <td>1588.45</td>\n      <td>1395.42</td>\n      <td>14.62</td>\n      <td>...</td>\n      <td>8.3803</td>\n      <td>0.03</td>\n      <td>393</td>\n      <td>2388</td>\n      <td>100.0</td>\n      <td>39.02</td>\n      <td>23.3916</td>\n      <td>141</td>\n      <td>0</td>\n      <td>0</td>\n    </tr>\n    <tr>\n      <th>2</th>\n      <td>1</td>\n      <td>3</td>\n      <td>0.0003</td>\n      <td>0.0001</td>\n      <td>100.0</td>\n      <td>518.67</td>\n      <td>642.46</td>\n      <td>1586.94</td>\n      <td>1401.34</td>\n      <td>14.62</td>\n      <td>...</td>\n      <td>8.4441</td>\n      <td>0.03</td>\n      <td>393</td>\n      <td>2388</td>\n      <td>100.0</td>\n      <td>39.08</td>\n      <td>23.4166</td>\n      <td>140</td>\n      <td>0</td>\n      <td>0</td>\n    </tr>\n    <tr>\n      <th>3</th>\n      <td>1</td>\n      <td>4</td>\n      <td>0.0042</td>\n      <td>0.0000</td>\n      <td>100.0</td>\n      <td>518.67</td>\n      <td>642.44</td>\n      <td>1584.12</td>\n      <td>1406.42</td>\n      <td>14.62</td>\n      <td>...</td>\n      <td>8.3917</td>\n      <td>0.03</td>\n      <td>391</td>\n      <td>2388</td>\n      <td>100.0</td>\n      <td>39.00</td>\n      <td>23.3737</td>\n      <td>139</td>\n      <td>0</td>\n      <td>0</td>\n    </tr>\n    <tr>\n      <th>4</th>\n      <td>1</td>\n      <td>5</td>\n      <td>0.0014</td>\n      <td>0.0000</td>\n      <td>100.0</td>\n      <td>518.67</td>\n      <td>642.51</td>\n      <td>1587.19</td>\n      <td>1401.92</td>\n      <td>14.62</td>\n      <td>...</td>\n      <td>8.4031</td>\n      <td>0.03</td>\n      <td>390</td>\n      <td>2388</td>\n      <td>100.0</td>\n      <td>38.99</td>\n      <td>23.4130</td>\n      <td>138</td>\n      <td>0</td>\n      <td>0</td>\n    </tr>\n    <tr>\n      <th>...</th>\n      <td>...</td>\n      <td>...</td>\n      <td>...</td>\n      <td>...</td>\n      <td>...</td>\n      <td>...</td>\n      <td>...</td>\n      <td>...</td>\n      <td>...</td>\n      <td>...</td>\n      <td>...</td>\n      <td>...</td>\n      <td>...</td>\n      <td>...</td>\n      <td>...</td>\n      <td>...</td>\n      <td>...</td>\n      <td>...</td>\n      <td>...</td>\n      <td>...</td>\n      <td>...</td>\n    </tr>\n    <tr>\n      <th>13091</th>\n      <td>100</td>\n      <td>194</td>\n      <td>0.0049</td>\n      <td>0.0000</td>\n      <td>100.0</td>\n      <td>518.67</td>\n      <td>643.24</td>\n      <td>1599.45</td>\n      <td>1415.79</td>\n      <td>14.62</td>\n      <td>...</td>\n      <td>8.4715</td>\n      <td>0.03</td>\n      <td>394</td>\n      <td>2388</td>\n      <td>100.0</td>\n      <td>38.65</td>\n      <td>23.1974</td>\n      <td>24</td>\n      <td>0</td>\n      <td>2</td>\n    </tr>\n    <tr>\n      <th>13092</th>\n      <td>100</td>\n      <td>195</td>\n      <td>-0.0011</td>\n      <td>-0.0001</td>\n      <td>100.0</td>\n      <td>518.67</td>\n      <td>643.22</td>\n      <td>1595.69</td>\n      <td>1422.05</td>\n      <td>14.62</td>\n      <td>...</td>\n      <td>8.4512</td>\n      <td>0.03</td>\n      <td>395</td>\n      <td>2388</td>\n      <td>100.0</td>\n      <td>38.57</td>\n      <td>23.2771</td>\n      <td>23</td>\n      <td>0</td>\n      <td>2</td>\n    </tr>\n    <tr>\n      <th>13093</th>\n      <td>100</td>\n      <td>196</td>\n      <td>-0.0006</td>\n      <td>-0.0003</td>\n      <td>100.0</td>\n      <td>518.67</td>\n      <td>643.44</td>\n      <td>1593.15</td>\n      <td>1406.82</td>\n      <td>14.62</td>\n      <td>...</td>\n      <td>8.4569</td>\n      <td>0.03</td>\n      <td>395</td>\n      <td>2388</td>\n      <td>100.0</td>\n      <td>38.62</td>\n      <td>23.2051</td>\n      <td>22</td>\n      <td>0</td>\n      <td>2</td>\n    </tr>\n    <tr>\n      <th>13094</th>\n      <td>100</td>\n      <td>197</td>\n      <td>-0.0038</td>\n      <td>0.0001</td>\n      <td>100.0</td>\n      <td>518.67</td>\n      <td>643.26</td>\n      <td>1594.99</td>\n      <td>1419.36</td>\n      <td>14.62</td>\n      <td>...</td>\n      <td>8.4711</td>\n      <td>0.03</td>\n      <td>395</td>\n      <td>2388</td>\n      <td>100.0</td>\n      <td>38.66</td>\n      <td>23.2699</td>\n      <td>21</td>\n      <td>0</td>\n      <td>2</td>\n    </tr>\n    <tr>\n      <th>13095</th>\n      <td>100</td>\n      <td>198</td>\n      <td>0.0013</td>\n      <td>0.0003</td>\n      <td>100.0</td>\n      <td>518.67</td>\n      <td>642.95</td>\n      <td>1601.62</td>\n      <td>1424.99</td>\n      <td>14.62</td>\n      <td>...</td>\n      <td>8.4903</td>\n      <td>0.03</td>\n      <td>396</td>\n      <td>2388</td>\n      <td>100.0</td>\n      <td>38.70</td>\n      <td>23.1855</td>\n      <td>20</td>\n      <td>0</td>\n      <td>2</td>\n    </tr>\n  </tbody>\n</table>\n<p>13096 rows × 29 columns</p>\n</div>"
     },
     "execution_count": 4,
     "metadata": {},
     "output_type": "execute_result"
    }
   ],
   "source": [
    "# Первичная обработка тестировочных данных\n",
    "\n",
    "df_test = pd.read_csv('./PM_test.txt', sep=' ', header=None)\n",
    "df_test.drop([26, 27], axis=1, inplace=True)\n",
    "df_test.columns = col_names\n",
    "\n",
    "# Добавляем правдивые данные для тестировочных данных\n",
    "\n",
    "df_truth = pd.read_csv('./PM_truth.txt', sep=' ', header=None)\n",
    "df_truth.drop([1], axis=1, inplace=True)\n",
    "df_truth.columns = ['more']\n",
    "df_truth['id'] = df_truth.index + 1\n",
    "df_test = pd.merge(df_test, df_truth, on='id')\n",
    "\n",
    "# создание метки TTF\n",
    "\n",
    "df_max_cycle = pd.DataFrame(df_test.groupby('id').agg({'cycle': 'max'}))\n",
    "df_max_cycle.reset_index(inplace=True)\n",
    "df_max_cycle.columns = ['id', 'last_cycle']\n",
    "df_test = pd.merge(df_test, df_max_cycle, on='id')\n",
    "df_test['TTF'] = df_test['more'] + df_test['last_cycle'] - df_test['cycle']\n",
    "df_test.drop(['more', 'last_cycle'], axis=1, inplace=True)\n",
    "\n",
    "# Создание метки бинарной классификации\n",
    "df_test['label_bnc'] = df_test['TTF'].apply(lambda x: 1 if x <= window_1 else 0)\n",
    "\n",
    "# Создание метки мультиклассовой классификации\n",
    "df_test['label_mcc'] = df_test['TTF'].apply(lambda x: 2 if x <= window_2 else 1 if x <= window_1 else 0)\n",
    "\n",
    "df_test"
   ],
   "metadata": {
    "collapsed": false,
    "ExecuteTime": {
     "end_time": "2023-12-03T11:43:49.871580Z",
     "start_time": "2023-12-03T11:43:49.689485500Z"
    }
   },
   "id": "af0e7192640e8d8f"
  },
  {
   "cell_type": "markdown",
   "source": [
    "### Часть 2. Предварительный анализ данных"
   ],
   "metadata": {
    "collapsed": false
   },
   "id": "931925ef5eee2ec6"
  },
  {
   "cell_type": "code",
   "execution_count": 5,
   "outputs": [],
   "source": [
    "import matplotlib.pyplot as plt\n",
    "plt.style.use('ggplot')\n",
    "%matplotlib inline"
   ],
   "metadata": {
    "collapsed": false,
    "ExecuteTime": {
     "end_time": "2023-12-03T11:43:50.571818400Z",
     "start_time": "2023-12-03T11:43:49.851633Z"
    }
   },
   "id": "5163cd0bc7f25e31"
  },
  {
   "cell_type": "code",
   "execution_count": 6,
   "outputs": [],
   "source": [
    "# Определяем признаки на анализ\n",
    "\n",
    "features = ['setting1', 'setting2', 'setting3', \n",
    "            's1', 's2', 's3', 's4', 's5', 's6', 's7', 's8', 's9', 's10', 's11', 's12', 's13', 's14', 's15', 's16', 's17', 's18', 's19', 's20', 's21']"
   ],
   "metadata": {
    "collapsed": false,
    "ExecuteTime": {
     "end_time": "2023-12-03T11:43:50.588310400Z",
     "start_time": "2023-12-03T11:43:50.570298600Z"
    }
   },
   "id": "bc21dbd6221646f7"
  },
  {
   "cell_type": "code",
   "execution_count": 7,
   "outputs": [
    {
     "data": {
      "text/plain": "<Axes: title={'center': 'Стандартное отклонение признаков'}>"
     },
     "execution_count": 7,
     "metadata": {},
     "output_type": "execute_result"
    },
    {
     "data": {
      "text/plain": "<Figure size 800x600 with 1 Axes>",
      "image/png": "[encoded data removed]"
     },
     "metadata": {},
     "output_type": "display_data"
    }
   ],
   "source": [
    "# Определим стандартное отклонение признаков по каждому параметру:\n",
    "\n",
    "df_train[features].std().plot(kind='bar', figsize=(8, 6), title='Стандартное отклонение признаков')"
   ],
   "metadata": {
    "collapsed": false,
    "ExecuteTime": {
     "end_time": "2023-12-03T11:43:50.981154600Z",
     "start_time": "2023-12-03T11:43:50.582333300Z"
    }
   },
   "id": "c9c39e196b4eacf0"
  },
  {
   "cell_type": "code",
   "execution_count": 8,
   "outputs": [
    {
     "data": {
      "text/plain": "       index   id  int      float\n0          0    1   47  62.295093\n1          1    1   83  97.101632\n2          2    1   38  74.081637\n3          3    1   53  61.891733\n4          4    1   76  37.188878\n...      ...  ...  ...        ...\n20626  20626  100   31  40.441705\n20627  20627  100   63  35.112457\n20628  20628  100   19  26.182042\n20629  20629  100   94  11.552807\n20630  20630  100   29  58.339293\n\n[20631 rows x 4 columns]",
      "text/html": "<div>\n<style scoped>\n    .dataframe tbody tr th:only-of-type {\n        vertical-align: middle;\n    }\n\n    .dataframe tbody tr th {\n        vertical-align: top;\n    }\n\n    .dataframe thead th {\n        text-align: right;\n    }\n</style>\n<table border=\"1\" class=\"dataframe\">\n  <thead>\n    <tr style=\"text-align: right;\">\n      <th></th>\n      <th>index</th>\n      <th>id</th>\n      <th>int</th>\n      <th>float</th>\n    </tr>\n  </thead>\n  <tbody>\n    <tr>\n      <th>0</th>\n      <td>0</td>\n      <td>1</td>\n      <td>47</td>\n      <td>62.295093</td>\n    </tr>\n    <tr>\n      <th>1</th>\n      <td>1</td>\n      <td>1</td>\n      <td>83</td>\n      <td>97.101632</td>\n    </tr>\n    <tr>\n      <th>2</th>\n      <td>2</td>\n      <td>1</td>\n      <td>38</td>\n      <td>74.081637</td>\n    </tr>\n    <tr>\n      <th>3</th>\n      <td>3</td>\n      <td>1</td>\n      <td>53</td>\n      <td>61.891733</td>\n    </tr>\n    <tr>\n      <th>4</th>\n      <td>4</td>\n      <td>1</td>\n      <td>76</td>\n      <td>37.188878</td>\n    </tr>\n    <tr>\n      <th>...</th>\n      <td>...</td>\n      <td>...</td>\n      <td>...</td>\n      <td>...</td>\n    </tr>\n    <tr>\n      <th>20626</th>\n      <td>20626</td>\n      <td>100</td>\n      <td>31</td>\n      <td>40.441705</td>\n    </tr>\n    <tr>\n      <th>20627</th>\n      <td>20627</td>\n      <td>100</td>\n      <td>63</td>\n      <td>35.112457</td>\n    </tr>\n    <tr>\n      <th>20628</th>\n      <td>20628</td>\n      <td>100</td>\n      <td>19</td>\n      <td>26.182042</td>\n    </tr>\n    <tr>\n      <th>20629</th>\n      <td>20629</td>\n      <td>100</td>\n      <td>94</td>\n      <td>11.552807</td>\n    </tr>\n    <tr>\n      <th>20630</th>\n      <td>20630</td>\n      <td>100</td>\n      <td>29</td>\n      <td>58.339293</td>\n    </tr>\n  </tbody>\n</table>\n<p>20631 rows × 4 columns</p>\n</div>"
     },
     "execution_count": 8,
     "metadata": {},
     "output_type": "execute_result"
    }
   ],
   "source": [
    "df_num = pd.DataFrame()\n",
    "df_num['id'] = df_train['id']\n",
    "df_num['index'] = df_num.index\n",
    "\n",
    "np.random.seed(1234)\n",
    "df_num['int'] = np.random.randint(0, 100, len(df_num['id']))\n",
    "df_num['float'] = np.random.uniform(0, 100, len(df_num['id']))\n",
    "df_num = df_num[['index', 'id', 'int', 'float']]\n",
    "\n",
    "pd.set_option('display.max_columns', None)\n",
    "pd.set_option('display.expand_frame_repr', False)\n",
    "df_num"
   ],
   "metadata": {
    "collapsed": false,
    "ExecuteTime": {
     "end_time": "2023-12-03T11:43:51.053618800Z",
     "start_time": "2023-12-03T11:43:50.982151400Z"
    }
   },
   "id": "17eba63bdd47acc0"
  },
  {
   "cell_type": "code",
   "execution_count": 8,
   "outputs": [],
   "source": [],
   "metadata": {
    "collapsed": false,
    "ExecuteTime": {
     "end_time": "2023-12-03T11:43:51.054615600Z",
     "start_time": "2023-12-03T11:43:51.010077300Z"
    }
   },
   "id": "729371e5ed2f8497"
  },
  {
   "cell_type": "code",
   "execution_count": 8,
   "outputs": [],
   "source": [],
   "metadata": {
    "collapsed": false,
    "ExecuteTime": {
     "end_time": "2023-12-03T11:43:51.054615600Z",
     "start_time": "2023-12-03T11:43:51.028684500Z"
    }
   },
   "id": "fab44a7b889f0f64"
  }
 ],
 "metadata": {
  "kernelspec": {
   "display_name": "Python 3",
   "language": "python",
   "name": "python3"
  },
  "language_info": {
   "codemirror_mode": {
    "name": "ipython",
    "version": 2
   },
   "file_extension": ".py",
   "mimetype": "text/x-python",
   "name": "python",
   "nbconvert_exporter": "python",
   "pygments_lexer": "ipython2",
   "version": "2.7.6"
  }
 },
 "nbformat": 4,
 "nbformat_minor": 5
}
