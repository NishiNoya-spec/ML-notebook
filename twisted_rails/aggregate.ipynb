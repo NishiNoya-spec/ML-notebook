{
 "cells": [
  {
   "cell_type": "code",
   "execution_count": 7,
   "id": "initial_id",
   "metadata": {
    "collapsed": true,
    "ExecuteTime": {
     "end_time": "2023-12-10T11:21:05.593633900Z",
     "start_time": "2023-12-10T11:21:05.551121700Z"
    }
   },
   "outputs": [],
   "source": [
    "import pandas as pd\n",
    "import numpy as np\n",
    "\n",
    "import matplotlib.pyplot as plt\n",
    "plt.style.use('ggplot')\n",
    "%matplotlib inline\n"
   ]
  },
  {
   "cell_type": "code",
   "execution_count": 8,
   "outputs": [
    {
     "data": {
      "text/plain": "    billet_points 20231102181150t 20231102213249t 20231102224155t  \\\n0             0,0           103,0            96,0           125,0   \n1             0,1           103,0           155,0           125,0   \n2             0,2           131,0           155,0           152,0   \n3             0,4           260,0            74,0           152,0   \n4             0,5           260,0            74,0           345,0   \n..            ...             ...             ...             ...   \n314          40,1           705,0           614,0           691,0   \n315          40,2           705,0           614,0           691,0   \n316          40,5           705,0           614,0           691,0   \n317          40,6           705,0           614,0           691,0   \n318          40,7           705,0           614,0           691,0   \n\n    20231103000416t 20231103010034t 20231103030433t 20231103035336t  \\\n0             109,0            95,0           122,0           104,0   \n1              90,0            95,0           132,0           112,5   \n2              90,0            70,0           142,0           121,0   \n3             100,0            70,0           142,0           174,5   \n4             100,0            70,0           246,0           228,0   \n..              ...             ...             ...             ...   \n314           636,0           642,0           658,0           629,0   \n315           636,0           642,0           658,0           629,0   \n316           636,0           636,0           658,0           629,0   \n317           636,0           634,0           658,0           629,0   \n318           636,0           634,0           658,0           629,0   \n\n    20231103044016t 20231103052913t  ... 20231128024855t 20231128212418t  \\\n0             122,0           110,0  ...           205,0           121,0   \n1              93,0           110,0  ...           139,5           121,0   \n2              93,0           148,0  ...            74,0           146,0   \n3             119,0           148,0  ...           254,0           146,0   \n4             119,0           217,0  ...           254,0           222,0   \n..              ...             ...  ...             ...             ...   \n314           674,0           615,0  ...           700,0           700,0   \n315           674,0           615,0  ...           700,0           700,0   \n316           674,0           615,0  ...           700,0           700,0   \n317           674,0           615,0  ...           700,0           700,0   \n318           674,0           615,0  ...           718,0           700,0   \n\n    20231128225206t 20231128233150t 20231129002723t 20231129012055t  \\\n0             109,0           141,0           135,0           143,0   \n1             109,0           141,0           135,0           143,0   \n2             129,0           141,0           135,0           155,0   \n3             197,5            76,0           160,0           167,0   \n4             266,0            76,0           160,0           264,0   \n..              ...             ...             ...             ...   \n314           635,0           764,0           668,0           665,5   \n315           635,0           764,0           668,0          651,75   \n316           635,0          686,75           651,5           638,0   \n317           635,0           661,0          643,25           638,0   \n318           635,0           661,0           635,0           638,0   \n\n    20231129020039t 20231129024241t 20231129033802t    20231129041810t  \n0             106,0           102,0            85,0              104,0  \n1              84,0           102,0            85,0              131,0  \n2              84,0            80,0           104,5              131,0  \n3             261,0            80,0           124,0              206,0  \n4             261,0           226,5           124,0              206,0  \n..              ...             ...             ...                ...  \n314           729,0          737,25           694,0              722,0  \n315           729,0           715,5           694,0              722,0  \n316           729,0           672,0           693,0              722,0  \n317           729,0           672,0           693,0              722,0  \n318           729,0           672,0           693,0  711,3333333333334  \n\n[319 rows x 223 columns]",
      "text/html": "<div>\n<style scoped>\n    .dataframe tbody tr th:only-of-type {\n        vertical-align: middle;\n    }\n\n    .dataframe tbody tr th {\n        vertical-align: top;\n    }\n\n    .dataframe thead th {\n        text-align: right;\n    }\n</style>\n<table border=\"1\" class=\"dataframe\">\n  <thead>\n    <tr style=\"text-align: right;\">\n      <th></th>\n      <th>billet_points</th>\n      <th>20231102181150t</th>\n      <th>20231102213249t</th>\n      <th>20231102224155t</th>\n      <th>20231103000416t</th>\n      <th>20231103010034t</th>\n      <th>20231103030433t</th>\n      <th>20231103035336t</th>\n      <th>20231103044016t</th>\n      <th>20231103052913t</th>\n      <th>...</th>\n      <th>20231128024855t</th>\n      <th>20231128212418t</th>\n      <th>20231128225206t</th>\n      <th>20231128233150t</th>\n      <th>20231129002723t</th>\n      <th>20231129012055t</th>\n      <th>20231129020039t</th>\n      <th>20231129024241t</th>\n      <th>20231129033802t</th>\n      <th>20231129041810t</th>\n    </tr>\n  </thead>\n  <tbody>\n    <tr>\n      <th>0</th>\n      <td>0,0</td>\n      <td>103,0</td>\n      <td>96,0</td>\n      <td>125,0</td>\n      <td>109,0</td>\n      <td>95,0</td>\n      <td>122,0</td>\n      <td>104,0</td>\n      <td>122,0</td>\n      <td>110,0</td>\n      <td>...</td>\n      <td>205,0</td>\n      <td>121,0</td>\n      <td>109,0</td>\n      <td>141,0</td>\n      <td>135,0</td>\n      <td>143,0</td>\n      <td>106,0</td>\n      <td>102,0</td>\n      <td>85,0</td>\n      <td>104,0</td>\n    </tr>\n    <tr>\n      <th>1</th>\n      <td>0,1</td>\n      <td>103,0</td>\n      <td>155,0</td>\n      <td>125,0</td>\n      <td>90,0</td>\n      <td>95,0</td>\n      <td>132,0</td>\n      <td>112,5</td>\n      <td>93,0</td>\n      <td>110,0</td>\n      <td>...</td>\n      <td>139,5</td>\n      <td>121,0</td>\n      <td>109,0</td>\n      <td>141,0</td>\n      <td>135,0</td>\n      <td>143,0</td>\n      <td>84,0</td>\n      <td>102,0</td>\n      <td>85,0</td>\n      <td>131,0</td>\n    </tr>\n    <tr>\n      <th>2</th>\n      <td>0,2</td>\n      <td>131,0</td>\n      <td>155,0</td>\n      <td>152,0</td>\n      <td>90,0</td>\n      <td>70,0</td>\n      <td>142,0</td>\n      <td>121,0</td>\n      <td>93,0</td>\n      <td>148,0</td>\n      <td>...</td>\n      <td>74,0</td>\n      <td>146,0</td>\n      <td>129,0</td>\n      <td>141,0</td>\n      <td>135,0</td>\n      <td>155,0</td>\n      <td>84,0</td>\n      <td>80,0</td>\n      <td>104,5</td>\n      <td>131,0</td>\n    </tr>\n    <tr>\n      <th>3</th>\n      <td>0,4</td>\n      <td>260,0</td>\n      <td>74,0</td>\n      <td>152,0</td>\n      <td>100,0</td>\n      <td>70,0</td>\n      <td>142,0</td>\n      <td>174,5</td>\n      <td>119,0</td>\n      <td>148,0</td>\n      <td>...</td>\n      <td>254,0</td>\n      <td>146,0</td>\n      <td>197,5</td>\n      <td>76,0</td>\n      <td>160,0</td>\n      <td>167,0</td>\n      <td>261,0</td>\n      <td>80,0</td>\n      <td>124,0</td>\n      <td>206,0</td>\n    </tr>\n    <tr>\n      <th>4</th>\n      <td>0,5</td>\n      <td>260,0</td>\n      <td>74,0</td>\n      <td>345,0</td>\n      <td>100,0</td>\n      <td>70,0</td>\n      <td>246,0</td>\n      <td>228,0</td>\n      <td>119,0</td>\n      <td>217,0</td>\n      <td>...</td>\n      <td>254,0</td>\n      <td>222,0</td>\n      <td>266,0</td>\n      <td>76,0</td>\n      <td>160,0</td>\n      <td>264,0</td>\n      <td>261,0</td>\n      <td>226,5</td>\n      <td>124,0</td>\n      <td>206,0</td>\n    </tr>\n    <tr>\n      <th>...</th>\n      <td>...</td>\n      <td>...</td>\n      <td>...</td>\n      <td>...</td>\n      <td>...</td>\n      <td>...</td>\n      <td>...</td>\n      <td>...</td>\n      <td>...</td>\n      <td>...</td>\n      <td>...</td>\n      <td>...</td>\n      <td>...</td>\n      <td>...</td>\n      <td>...</td>\n      <td>...</td>\n      <td>...</td>\n      <td>...</td>\n      <td>...</td>\n      <td>...</td>\n      <td>...</td>\n    </tr>\n    <tr>\n      <th>314</th>\n      <td>40,1</td>\n      <td>705,0</td>\n      <td>614,0</td>\n      <td>691,0</td>\n      <td>636,0</td>\n      <td>642,0</td>\n      <td>658,0</td>\n      <td>629,0</td>\n      <td>674,0</td>\n      <td>615,0</td>\n      <td>...</td>\n      <td>700,0</td>\n      <td>700,0</td>\n      <td>635,0</td>\n      <td>764,0</td>\n      <td>668,0</td>\n      <td>665,5</td>\n      <td>729,0</td>\n      <td>737,25</td>\n      <td>694,0</td>\n      <td>722,0</td>\n    </tr>\n    <tr>\n      <th>315</th>\n      <td>40,2</td>\n      <td>705,0</td>\n      <td>614,0</td>\n      <td>691,0</td>\n      <td>636,0</td>\n      <td>642,0</td>\n      <td>658,0</td>\n      <td>629,0</td>\n      <td>674,0</td>\n      <td>615,0</td>\n      <td>...</td>\n      <td>700,0</td>\n      <td>700,0</td>\n      <td>635,0</td>\n      <td>764,0</td>\n      <td>668,0</td>\n      <td>651,75</td>\n      <td>729,0</td>\n      <td>715,5</td>\n      <td>694,0</td>\n      <td>722,0</td>\n    </tr>\n    <tr>\n      <th>316</th>\n      <td>40,5</td>\n      <td>705,0</td>\n      <td>614,0</td>\n      <td>691,0</td>\n      <td>636,0</td>\n      <td>636,0</td>\n      <td>658,0</td>\n      <td>629,0</td>\n      <td>674,0</td>\n      <td>615,0</td>\n      <td>...</td>\n      <td>700,0</td>\n      <td>700,0</td>\n      <td>635,0</td>\n      <td>686,75</td>\n      <td>651,5</td>\n      <td>638,0</td>\n      <td>729,0</td>\n      <td>672,0</td>\n      <td>693,0</td>\n      <td>722,0</td>\n    </tr>\n    <tr>\n      <th>317</th>\n      <td>40,6</td>\n      <td>705,0</td>\n      <td>614,0</td>\n      <td>691,0</td>\n      <td>636,0</td>\n      <td>634,0</td>\n      <td>658,0</td>\n      <td>629,0</td>\n      <td>674,0</td>\n      <td>615,0</td>\n      <td>...</td>\n      <td>700,0</td>\n      <td>700,0</td>\n      <td>635,0</td>\n      <td>661,0</td>\n      <td>643,25</td>\n      <td>638,0</td>\n      <td>729,0</td>\n      <td>672,0</td>\n      <td>693,0</td>\n      <td>722,0</td>\n    </tr>\n    <tr>\n      <th>318</th>\n      <td>40,7</td>\n      <td>705,0</td>\n      <td>614,0</td>\n      <td>691,0</td>\n      <td>636,0</td>\n      <td>634,0</td>\n      <td>658,0</td>\n      <td>629,0</td>\n      <td>674,0</td>\n      <td>615,0</td>\n      <td>...</td>\n      <td>718,0</td>\n      <td>700,0</td>\n      <td>635,0</td>\n      <td>661,0</td>\n      <td>635,0</td>\n      <td>638,0</td>\n      <td>729,0</td>\n      <td>672,0</td>\n      <td>693,0</td>\n      <td>711,3333333333334</td>\n    </tr>\n  </tbody>\n</table>\n<p>319 rows × 223 columns</p>\n</div>"
     },
     "execution_count": 8,
     "metadata": {},
     "output_type": "execute_result"
    }
   ],
   "source": [
    "file_path = '../twisted_rails/data/forward/current.csv'\n",
    "data = pd.read_csv(file_path, sep=';')\n",
    "\n",
    "data"
   ],
   "metadata": {
    "collapsed": false,
    "ExecuteTime": {
     "end_time": "2023-12-10T11:21:05.639946100Z",
     "start_time": "2023-12-10T11:21:05.564086500Z"
    }
   },
   "id": "7a4a66edbdf9abc4"
  },
  {
   "cell_type": "code",
   "execution_count": 9,
   "outputs": [
    {
     "data": {
      "text/plain": "billet_points      object\n20231102181150t    object\n20231102213249t    object\n20231102224155t    object\n20231103000416t    object\n                    ...  \n20231129012055t    object\n20231129020039t    object\n20231129024241t    object\n20231129033802t    object\n20231129041810t    object\nLength: 223, dtype: object"
     },
     "execution_count": 9,
     "metadata": {},
     "output_type": "execute_result"
    }
   ],
   "source": [
    "# x = data.iloc[:, 0]\n",
    "# y_columns = data.columns[1:]\n",
    "# \n",
    "# for i in range(0, len(y_columns), 10):\n",
    "#     current_columns = y_columns[i:i+10]\n",
    "#     for column in current_columns:\n",
    "#         y = data[column]\n",
    "#         plt.plot(x, y, label=column)\n",
    "#         \n",
    "#         plt.show()\n",
    "\n",
    "data.dtypes"
   ],
   "metadata": {
    "collapsed": false,
    "ExecuteTime": {
     "end_time": "2023-12-10T11:21:05.660400400Z",
     "start_time": "2023-12-10T11:21:05.639946100Z"
    }
   },
   "id": "719d41a42fb88ac7"
  }
 ],
 "metadata": {
  "kernelspec": {
   "display_name": "Python 3",
   "language": "python",
   "name": "python3"
  },
  "language_info": {
   "codemirror_mode": {
    "name": "ipython",
    "version": 2
   },
   "file_extension": ".py",
   "mimetype": "text/x-python",
   "name": "python",
   "nbconvert_exporter": "python",
   "pygments_lexer": "ipython2",
   "version": "2.7.6"
  }
 },
 "nbformat": 4,
 "nbformat_minor": 5
}
