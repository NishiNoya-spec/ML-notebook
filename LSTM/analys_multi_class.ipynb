{
 "cells": [
  {
   "cell_type": "code",
   "execution_count": 1,
   "id": "initial_id",
   "metadata": {
    "collapsed": true,
    "ExecuteTime": {
     "end_time": "2023-12-03T10:25:15.202637600Z",
     "start_time": "2023-12-03T10:25:07.912144600Z"
    }
   },
   "outputs": [],
   "source": [
    "from tensorflow import keras\n",
    "import pandas as pd\n",
    "import numpy as np\n",
    "import matplotlib.pyplot as plt\n",
    "import seaborn as sns\n",
    "from sklearn import preprocessing\n",
    "from sklearn.metrics import confusion_matrix, recall_score, precision_score\n",
    "from keras.models import Sequential\n",
    "from keras.layers import Dense, Dropout, LSTM, Activation\n",
    "from keras.utils import to_categorical\n"
   ]
  },
  {
   "cell_type": "code",
   "execution_count": 2,
   "outputs": [],
   "source": [
    "# Закладка семян для воспроизводимости\n",
    "np.random.seed(1234)  \n",
    "PYTHONHASHSEED = 0"
   ],
   "metadata": {
    "collapsed": false,
    "ExecuteTime": {
     "end_time": "2023-12-03T10:25:15.219595300Z",
     "start_time": "2023-12-03T10:25:15.206627900Z"
    }
   },
   "id": "8e93a2f72bcde225"
  },
  {
   "cell_type": "code",
   "execution_count": 3,
   "outputs": [],
   "source": [
    "# Подготовка обучающей даты\n",
    "\n",
    "# Чтение обучающей даты\n",
    "train_df = pd.read_csv('./data/PM_train.txt', sep=\" \", header=None)\n",
    "train_df.drop(train_df.columns[[26, 27]], axis=1, inplace=True)\n",
    "train_df.columns = ['id', 'cycle', 'setting1', 'setting2', 'setting3', 's1', 's2', 's3',\n",
    "                     's4', 's5', 's6', 's7', 's8', 's9', 's10', 's11', 's12', 's13', 's14',\n",
    "                     's15', 's16', 's17', 's18', 's19', 's20', 's21']"
   ],
   "metadata": {
    "collapsed": false,
    "ExecuteTime": {
     "end_time": "2023-12-03T10:25:15.355395800Z",
     "start_time": "2023-12-03T10:25:15.226573700Z"
    }
   },
   "id": "dfa53cddc9da54e0"
  },
  {
   "cell_type": "code",
   "execution_count": 4,
   "outputs": [],
   "source": [
    "# Подготовка тестировочной даты\n",
    "\n",
    "# Чтение тестировочной даты\n",
    "test_df = pd.read_csv('./data/PM_test.txt', sep=\" \", header=None)\n",
    "test_df.drop(test_df.columns[[26, 27]], axis=1, inplace=True)\n",
    "test_df.columns = ['id', 'cycle', 'setting1', 'setting2', 'setting3', 's1', 's2', 's3',\n",
    "                     's4', 's5', 's6', 's7', 's8', 's9', 's10', 's11', 's12', 's13', 's14',\n",
    "                     's15', 's16', 's17', 's18', 's19', 's20', 's21']"
   ],
   "metadata": {
    "collapsed": false,
    "ExecuteTime": {
     "end_time": "2023-12-03T10:25:15.417382700Z",
     "start_time": "2023-12-03T10:25:15.359385100Z"
    }
   },
   "id": "ccf94fc69e75c853"
  },
  {
   "cell_type": "code",
   "execution_count": 5,
   "outputs": [],
   "source": [
    "# Подготовка правдивой даты\n",
    "\n",
    "# Чтение правдивой даты\n",
    "truth_df = pd.read_csv('./data/PM_truth.txt', sep=\" \", header=None)\n",
    "truth_df.drop(truth_df.columns[[1]], axis=1, inplace=True)"
   ],
   "metadata": {
    "collapsed": false,
    "ExecuteTime": {
     "end_time": "2023-12-03T10:25:15.432346800Z",
     "start_time": "2023-12-03T10:25:15.421371Z"
    }
   },
   "id": "5080cf748cc4f1b5"
  },
  {
   "cell_type": "code",
   "execution_count": 6,
   "outputs": [],
   "source": [
    "# Создание столбца RUL для обучающих данных\n",
    "\n",
    "# Создание DataFrame с максимальными значениями 'cycle' для каждого 'id'\n",
    "rul = pd.DataFrame(train_df.groupby('id')['cycle'].max()).reset_index()\n",
    "\n",
    "# Задание названий столбцов для DataFrame 'rul'\n",
    "rul.columns = ['id', 'max']\n",
    "\n",
    "# Слияние DataFrame 'train_df' с DataFrame 'rul' по столбцу 'id'\n",
    "train_df = train_df.merge(rul, on=['id'], how='left')\n",
    "\n",
    "# Создание столбца 'RUL', содержащего разницу между 'max' и 'cycle'\n",
    "train_df['RUL'] = train_df['max'] - train_df['cycle']\n",
    "\n",
    "# Удаление столбца 'max' из DataFrame 'train_df'\n",
    "train_df.drop('max', axis=1, inplace=True)"
   ],
   "metadata": {
    "collapsed": false,
    "ExecuteTime": {
     "end_time": "2023-12-03T10:25:15.478811900Z",
     "start_time": "2023-12-03T10:25:15.436332900Z"
    }
   },
   "id": "684d953b6c03b341"
  },
  {
   "cell_type": "code",
   "execution_count": 7,
   "outputs": [],
   "source": [
    "train_df.head()\n",
    "# Генерация столбцов меток для обучающих данных\n",
    "w1 = 30  # Задание значения для порога w1\n",
    "w0 = 15  # Задание значения для порога w0\n",
    "\n",
    "# Создание столбца 'label1'. Если 'RUL' меньше или равно w1, то значение становится 1, иначе 0\n",
    "train_df['label1'] = np.where(train_df['RUL'] <= w1, 1, 0)\n",
    "\n",
    "# Создание столбца 'label2', который копирует значения из 'label1'\n",
    "train_df['label2'] = train_df['label1']\n",
    "\n",
    "# Обновление значений столбца 'label2'. Если 'RUL' меньше или равно w0, то значение становится 2\n",
    "train_df.loc[train_df['RUL'] <= w0, 'label2'] = 2"
   ],
   "metadata": {
    "collapsed": false,
    "ExecuteTime": {
     "end_time": "2023-12-03T10:25:15.500752300Z",
     "start_time": "2023-12-03T10:25:15.480805400Z"
    }
   },
   "id": "653b33c81f27b4ab"
  },
  {
   "cell_type": "code",
   "execution_count": 8,
   "outputs": [],
   "source": [
    "# MinMax нормализация обучающих данных\n",
    "train_df['cycle_norm'] = train_df['cycle']  # Создание нового столбца 'cycle_norm', который копирует значения из столбца 'cycle'\n",
    "\n",
    "# Определение столбцов для нормализации, исключая ненужные столбцы\n",
    "cols_normalize = train_df.columns.difference(['id','cycle','RUL','label1','label2'])\n",
    "\n",
    "# Создание экземпляра MinMaxScaler для нормализации данных\n",
    "min_max_scaler = preprocessing.MinMaxScaler()\n",
    "\n",
    "# Нормализация выбранных столбцов с помощью метода fit_transform\n",
    "norm_train_df = pd.DataFrame(min_max_scaler.fit_transform(train_df[cols_normalize]), \n",
    "                             columns=cols_normalize, \n",
    "                             index=train_df.index)\n",
    "\n",
    "# Объединение нормализованных данных с исходными данными\n",
    "join_df = train_df[train_df.columns.difference(cols_normalize)].join(norm_train_df)\n",
    "\n",
    "# Обновление DataFrame train_df с объединенными данными и переиндексацией столбцов\n",
    "train_df = join_df.reindex(columns = train_df.columns)"
   ],
   "metadata": {
    "collapsed": false,
    "ExecuteTime": {
     "end_time": "2023-12-03T10:25:15.542640800Z",
     "start_time": "2023-12-03T10:25:15.502747100Z"
    }
   },
   "id": "94a9828a2bb229ce"
  },
  {
   "cell_type": "code",
   "execution_count": 9,
   "outputs": [],
   "source": [
    "# MinMax нормализация тренировочных данных\n",
    "\n",
    "# Создание нового столбца 'cycle_norm', который копирует значения из столбца 'cycle' в test_df\n",
    "test_df['cycle_norm'] = test_df['cycle']\n",
    "\n",
    "# Нормализация тестовых данных test_df с помощью метода transform\n",
    "norm_test_df = pd.DataFrame(min_max_scaler.transform(test_df[cols_normalize]), \n",
    "                            columns=cols_normalize, \n",
    "                            index=test_df.index)\n",
    "\n",
    "# Объединение нормализованных данных с оставшимися данными в test_df\n",
    "test_join_df = test_df[test_df.columns.difference(cols_normalize)].join(norm_test_df)\n",
    "\n",
    "# Обновление DataFrame test_df с объединенными данными и переиндексацией столбцов\n",
    "test_df = test_join_df.reindex(columns=test_df.columns)\n",
    "\n",
    "# Сброс индексов источника данных для обучения и удаление старых индексов из test_df\n",
    "test_df = test_df.reset_index(drop=True)"
   ],
   "metadata": {
    "collapsed": false,
    "ExecuteTime": {
     "end_time": "2023-12-03T10:25:15.578544Z",
     "start_time": "2023-12-03T10:25:15.542640800Z"
    }
   },
   "id": "b20cc83a2ea0cdcf"
  },
  {
   "cell_type": "code",
   "execution_count": 10,
   "outputs": [],
   "source": [
    "# Создание столбца RUL и столбцов меток для тестировочных данных\n",
    "\n",
    "# Создание столбца 'max' для тестовых данных\n",
    "rul = pd.DataFrame(test_df.groupby('id')['cycle'].max()).reset_index()\n",
    "\n",
    "# Задание названий столбцов для DataFrame 'rul'\n",
    "rul.columns = ['id', 'max']\n",
    "\n",
    "# Изменение названия столбца в DataFrame 'truth_df'\n",
    "truth_df.columns = ['more']\n",
    "\n",
    "# Создание столбца 'id' в DataFrame 'truth_df' с помощью индексов и увеличение его значений на 1\n",
    "truth_df['id'] = truth_df.index + 1\n",
    "\n",
    "# Создание столбца 'max' в DataFrame 'truth_df', который является суммой 'max' из DataFrame 'rul' и столбца 'more' из DataFrame 'truth_df'\n",
    "truth_df['max'] = rul['max'] + truth_df['more']\n",
    "\n",
    "# Удаление столбца 'more' из DataFrame 'truth_df'\n",
    "truth_df.drop('more', axis=1, inplace=True)\n",
    "\n",
    "# Генерация столбца 'RUL' в test_df, который представляет разницу между 'max' и 'cycle'\n",
    "test_df = test_df.merge(truth_df, on=['id'], how='left')\n",
    "test_df['RUL'] = test_df['max'] - test_df['cycle']\n",
    "\n",
    "# Удаление столбца 'max' из DataFrame 'test_df'\n",
    "test_df.drop('max', axis=1, inplace=True)\n",
    "\n",
    "# Генерация столбцов меток 'label1' и 'label2' для тестовых данных, используя пороговые значения w0 и w1\n",
    "test_df['label1'] = np.where(test_df['RUL'] <= w1, 1, 0)  # Значение 1, если 'RUL' меньше или равно w1, в противном случае 0\n",
    "test_df['label2'] = test_df['label1']  # Копирование значений из 'label1' в 'label2'\n",
    "\n",
    "# Обновление значений в столбце 'label2'. Если 'RUL' меньше или равно w0, то значение становится 2\n",
    "test_df.loc[test_df['RUL'] <= w0, 'label2'] = 2"
   ],
   "metadata": {
    "collapsed": false,
    "ExecuteTime": {
     "end_time": "2023-12-03T10:25:15.624422100Z",
     "start_time": "2023-12-03T10:25:15.573557800Z"
    }
   },
   "id": "4443aaf620f37d60"
  },
  {
   "cell_type": "code",
   "execution_count": 11,
   "outputs": [],
   "source": [
    "# Выбираем большой размер окна в 50 циклов\n",
    "sequence_length = 50"
   ],
   "metadata": {
    "collapsed": false,
    "ExecuteTime": {
     "end_time": "2023-12-03T10:25:15.625418800Z",
     "start_time": "2023-12-03T10:25:15.606470300Z"
    }
   },
   "id": "42d2e7a87ff61c19"
  },
  {
   "cell_type": "code",
   "execution_count": 12,
   "outputs": [],
   "source": [
    "# Функция для преобразования признаков в формат (образцы, временные шаги, признаки)\n",
    "def gen_sequence(id_df, seq_length, seq_cols):\n",
    "    \"\"\"\n",
    "    Функция gen_sequence принимает следующие аргументы:\n",
    "    id_df: DataFrame, который содержит данные для конкретного идентификатора\n",
    "    seq_length: длина последовательности\n",
    "    seq_cols: список столбцов, используемых для создания последовательности\n",
    "    \"\"\"\n",
    "    \"\"\" Рассматриваются только последовательности, которые соответствуют длине окна, без использования заполнения.\n",
    "    Это означает, что при тестировании нам нужно исключить те, которые находятся ниже длины окна. \n",
    "    Альтернативой могло бы быть заполнение последовательностей, чтобы мы могли использовать более короткие \"\"\"\n",
    "\n",
    "    data_array = id_df[seq_cols].values  # Извлечение значений из DataFrame в массив\n",
    "    num_elements = data_array.shape[0]  # Получение количества элементов в массиве\n",
    "\n",
    "    # Цикл для создания последовательностей\n",
    "    for start, stop in zip(range(0, num_elements-seq_length), range(seq_length, num_elements)):\n",
    "        yield data_array[start:stop, :]\n",
    "        # Генерация последовательности от start до stop из массива данных"
   ],
   "metadata": {
    "collapsed": false,
    "ExecuteTime": {
     "end_time": "2023-12-03T10:25:15.644368100Z",
     "start_time": "2023-12-03T10:25:15.621430Z"
    }
   },
   "id": "3ab9721ceeb0a9b3"
  },
  {
   "cell_type": "code",
   "execution_count": 13,
   "outputs": [],
   "source": [
    "# Определение столбцов признаков\n",
    "sensor_cols = ['s' + str(i) for i in range(1,22)]  # Генерация списка столбцов 's1' до 's21'\n",
    "sequence_cols = ['setting1', 'setting2', 'setting3', 'cycle_norm']  # Определение списка столбцов 'setting1', 'setting2', 'setting3' и 'cycle_norm'\n",
    "\n",
    "sequence_cols.extend(sensor_cols)  # Добавление сгенерированных столбцов 's1' до 's21' к списку sequence_cols"
   ],
   "metadata": {
    "collapsed": false,
    "ExecuteTime": {
     "end_time": "2023-12-03T10:25:15.670299300Z",
     "start_time": "2023-12-03T10:25:15.635392900Z"
    }
   },
   "id": "cfcb431e97823252"
  },
  {
   "cell_type": "code",
   "execution_count": 14,
   "outputs": [],
   "source": [
    "# Генератор для последовательностей\n",
    "seq_gen = (list(gen_sequence(train_df[train_df['id']==id], sequence_length, sequence_cols)) \n",
    "           for id in train_df['id'].unique())"
   ],
   "metadata": {
    "collapsed": false,
    "ExecuteTime": {
     "end_time": "2023-12-03T10:25:15.671297200Z",
     "start_time": "2023-12-03T10:25:15.652347200Z"
    }
   },
   "id": "3c069c40f877e05f"
  },
  {
   "cell_type": "code",
   "execution_count": 15,
   "outputs": [
    {
     "data": {
      "text/plain": "(15631, 50, 25)"
     },
     "execution_count": 15,
     "metadata": {},
     "output_type": "execute_result"
    }
   ],
   "source": [
    "# Генерация последовательностей и преобразование их в массив numpy\n",
    "seq_array = np.concatenate(list(seq_gen)).astype(np.float32)  # Объединение списка последовательностей в один массив numpy и преобразование в тип данных np.float32\n",
    "seq_array.shape  # Вывод формы массива"
   ],
   "metadata": {
    "collapsed": false,
    "ExecuteTime": {
     "end_time": "2023-12-03T10:25:15.925483700Z",
     "start_time": "2023-12-03T10:25:15.667306900Z"
    }
   },
   "id": "212dc92f569de99c"
  },
  {
   "cell_type": "code",
   "execution_count": 16,
   "outputs": [],
   "source": [
    "# Функция для генерации меток\n",
    "def gen_labels(id_df, seq_length, label):\n",
    "    data_array = id_df[label].values  # Извлечение значений меток из DataFrame в массив\n",
    "    num_elements = data_array.shape[0]  # Получение количества элементов в массиве\n",
    "    return data_array[seq_length:num_elements, :]  # Возвращение значений меток, начиная с индекса seq_length и до конца массива"
   ],
   "metadata": {
    "collapsed": false,
    "ExecuteTime": {
     "end_time": "2023-12-03T10:25:15.929472400Z",
     "start_time": "2023-12-03T10:25:15.919500300Z"
    }
   },
   "id": "4ae18d034b369176"
  },
  {
   "cell_type": "code",
   "execution_count": 17,
   "outputs": [
    {
     "data": {
      "text/plain": "(15631, 3)"
     },
     "execution_count": 17,
     "metadata": {},
     "output_type": "execute_result"
    }
   ],
   "source": [
    "# Генерация меток\n",
    "label_gen = [gen_labels(train_df[train_df['id']==id], sequence_length, ['label2']) \n",
    "             for id in train_df['id'].unique()]  # Генерация меток для каждого идентификатора в train_df\n",
    "\n",
    "# Преобразование меток в формат one-hot encoding\n",
    "label_array = to_categorical(np.concatenate(label_gen), num_classes=3)\n",
    "\n",
    "# label_array = np.concatenate(label_gen).astype(np.float32)  # Объединение списка меток в один массив numpy и преобразование в тип данных np.float32\n",
    "label_array.shape  # Вывод формы массива меток"
   ],
   "metadata": {
    "collapsed": false,
    "ExecuteTime": {
     "end_time": "2023-12-03T10:25:16.070690400Z",
     "start_time": "2023-12-03T10:25:15.931467700Z"
    }
   },
   "id": "aad6b0d1a948c60a"
  },
  {
   "cell_type": "code",
   "execution_count": 18,
   "outputs": [],
   "source": [
    "# Построение нейронной сети\n",
    "nb_features = seq_array.shape[2]  # Получение количества признаков из размерности seq_array\n",
    "nb_out = label_array.shape[1]  # Получение количества выходных переменных из размерности label_array\n",
    "\n",
    "model = Sequential()  # Инициализация последовательной модели\n",
    "\n",
    "model.add(LSTM(\n",
    "         input_shape=(sequence_length, nb_features),\n",
    "         units=100,\n",
    "         return_sequences=True))  # Добавление слоя LSTM с 100 юнитами, возвращающего последовательности\n",
    "model.add(Dropout(0.2))  # Добавление слоя Dropout для регуляризации\n",
    "\n",
    "model.add(LSTM(\n",
    "          units=50,\n",
    "          return_sequences=False))  # Добавление слоя LSTM с 50 юнитами, не возвращающего последовательности\n",
    "model.add(Dropout(0.2))  # Добавление слоя Dropout для регуляризации\n",
    "\n",
    "model.add(Dense(units=nb_out, activation='softmax'))  # Добавление полносвязного слоя с активацией softmax\n",
    "model.compile(loss='categorical_crossentropy', optimizer='adam', metrics=['accuracy'])  # Компиляция модели с выбранной функцией потерь, оптимизатором и метриками\n"
   ],
   "metadata": {
    "collapsed": false,
    "ExecuteTime": {
     "end_time": "2023-12-03T10:25:16.932323600Z",
     "start_time": "2023-12-03T10:25:16.066700600Z"
    }
   },
   "id": "17c9fd345ed8ce07"
  },
  {
   "cell_type": "code",
   "execution_count": 19,
   "outputs": [
    {
     "name": "stdout",
     "output_type": "stream",
     "text": [
      "Model: \"sequential\"\n",
      "_________________________________________________________________\n",
      " Layer (type)                Output Shape              Param #   \n",
      "=================================================================\n",
      " lstm (LSTM)                 (None, 50, 100)           50400     \n",
      "                                                                 \n",
      " dropout (Dropout)           (None, 50, 100)           0         \n",
      "                                                                 \n",
      " lstm_1 (LSTM)               (None, 50)                30200     \n",
      "                                                                 \n",
      " dropout_1 (Dropout)         (None, 50)                0         \n",
      "                                                                 \n",
      " dense (Dense)               (None, 3)                 153       \n",
      "                                                                 \n",
      "=================================================================\n",
      "Total params: 80753 (315.44 KB)\n",
      "Trainable params: 80753 (315.44 KB)\n",
      "Non-trainable params: 0 (0.00 Byte)\n",
      "_________________________________________________________________\n",
      "None\n"
     ]
    }
   ],
   "source": [
    "print(model.summary())"
   ],
   "metadata": {
    "collapsed": false,
    "ExecuteTime": {
     "end_time": "2023-12-03T10:25:17.029113100Z",
     "start_time": "2023-12-03T10:25:16.927336200Z"
    }
   },
   "id": "65a4665203369e9e"
  },
  {
   "cell_type": "code",
   "execution_count": 20,
   "outputs": [
    {
     "name": "stdout",
     "output_type": "stream",
     "text": [
      "Epoch 1/10\n",
      "75/75 [==============================] - 15s 144ms/step - loss: 0.3794 - accuracy: 0.8607 - val_loss: 0.2203 - val_accuracy: 0.8990\n",
      "Epoch 2/10\n",
      "75/75 [==============================] - 8s 113ms/step - loss: 0.1693 - accuracy: 0.9295 - val_loss: 0.1200 - val_accuracy: 0.9527\n",
      "Epoch 3/10\n",
      "75/75 [==============================] - 8s 113ms/step - loss: 0.1323 - accuracy: 0.9449 - val_loss: 0.1198 - val_accuracy: 0.9540\n",
      "Epoch 4/10\n",
      "75/75 [==============================] - 10s 131ms/step - loss: 0.1134 - accuracy: 0.9518 - val_loss: 0.1341 - val_accuracy: 0.9309\n"
     ]
    },
    {
     "data": {
      "text/plain": "<keras.src.callbacks.History at 0x20696369040>"
     },
     "execution_count": 20,
     "metadata": {},
     "output_type": "execute_result"
    }
   ],
   "source": [
    "# Процесс обучения модели нейронной сети\n",
    "model.fit(seq_array, label_array, epochs=10, batch_size=200, validation_split=0.05, verbose=1,\n",
    "          callbacks = [keras.callbacks.EarlyStopping(monitor='val_loss', min_delta=0, patience=0, verbose=0, mode='auto')])\n",
    "# seq_array: input-data / входные данные\n",
    "# label_array: output-data / выходные данные; предсказания модели\n",
    "# epochs: одна полная итерация по всему набору обучающих данных. Один проход через весь набор данных считается одной эпохой.\n",
    "# batch_size: определяет количество образцов обучающих данных, которые будут переданы в сеть для обработки за один раз.\n",
    "# validation_split=0.05: Доля данных, которая будет использоваться для проверки во время обучения. (Во время каждой эпохи процесс \n",
    "# обучения будет вычислять потери и метрики на валидационном наборе данных, чтобы оценить, как хорошо модель обобщает данные, которые она еще не видела.)\n",
    "# verbose=1: В этом режиме модель будет выводить прогресс обучения для каждой эпохи, включая информацию о потерях и метриках.\n",
    "# callbacks: Список обратных вызовов, которые могут выполняться во время обучения. В данном случае используется обратный вызов \n",
    "# EarlyStopping, который остановит обучение, если значение функции потерь на проверочном наборе данных не улучшается."
   ],
   "metadata": {
    "collapsed": false,
    "ExecuteTime": {
     "end_time": "2023-12-03T10:25:58.803844700Z",
     "start_time": "2023-12-03T10:25:16.973244300Z"
    }
   },
   "id": "a66d3280294ede71"
  },
  {
   "cell_type": "code",
   "execution_count": 21,
   "outputs": [
    {
     "name": "stdout",
     "output_type": "stream",
     "text": [
      "79/79 [==============================] - 4s 46ms/step - loss: 0.1149 - accuracy: 0.9498\n",
      "Accurracy: 0.9498432874679565\n"
     ]
    }
   ],
   "source": [
    "\n",
    "# Оценка производительности модели на обучающем наборе данных. Метод evaluate \n",
    "# вычисляет потери и метрики модели для переданных данных. В данном случае, seq_array \n",
    "# представляет собой входные данные, а label_array - соответствующие этим входным данным метки.\n",
    "\n",
    "scores = model.evaluate(seq_array, label_array, verbose=1, batch_size=200)\n",
    "print('Accurracy: {}'.format(scores[1]))"
   ],
   "metadata": {
    "collapsed": false,
    "ExecuteTime": {
     "end_time": "2023-12-03T10:26:05.360850200Z",
     "start_time": "2023-12-03T10:25:58.806838700Z"
    }
   },
   "id": "9d0d484336e47c9a"
  },
  {
   "cell_type": "code",
   "execution_count": 22,
   "outputs": [
    {
     "name": "stdout",
     "output_type": "stream",
     "text": [
      "79/79 [==============================] - 4s 45ms/step\n",
      "Матрица неточностей\n",
      "- По оси x находятся истинные метки.\n",
      "- По оси y находятся предсказанные метки\n",
      "[[12278   253     0]\n",
      " [  267  1174    59]\n",
      " [    4   205  1391]]\n"
     ]
    }
   ],
   "source": [
    "# Прогнозирование результатов и вычисление матрицы-путаницы на обучающих данных\n",
    "\n",
    "# Матрица путаницы визуализирует точность классификатора, сравнивая фактические и прогнозируемые классы.\n",
    "# Матрица двоичной путаницы состоит из квадратов:\n",
    "\n",
    "#                       Predicted\n",
    "#                   FALSE   |    TRUE\n",
    "#           FALSE    (TN)   |    (FP)\n",
    "#  Actual ------------------|--------------------------\n",
    "#           TRUE     (FN)   |    (TP)\n",
    "\n",
    "# TP: True Positive: прогнозируемые значения, правильно прогнозируемые как фактические положительные\n",
    "# FP: Предсказанные значения неправильно предсказывают фактический положительный результат. т.е. отрицательные значения прогнозируются как положительные\n",
    "# FN: False Negative: положительные значения прогнозируются как отрицательные\n",
    "# TN: True Negative: прогнозируемые значения, правильно прогнозируемые как фактические негативные\n",
    "\n",
    "# использование метода predict для получения вероятностей\n",
    "y_pred_prob = model.predict(seq_array, batch_size=200)\n",
    "y_pred = (y_pred_prob > 0.5).astype(\"float32\")\n",
    "\n",
    "y_pred_single = np.argmax(y_pred, axis=1)\n",
    "\n",
    "# Сохранение истинных меток в y_true\n",
    "y_true = label_array\n",
    "\n",
    "y_true_single = np.argmax(y_true, axis=1)\n",
    "\n",
    "# Вывод структуры матрицы неточностей\n",
    "print('Матрица неточностей\\n- По оси x находятся истинные метки.\\n- По оси y находятся предсказанные метки')\n",
    "\n",
    "# Вычисление матрицы неточностей с использованием функции confusion_matrix из библиотеки sklearn\n",
    "cm = confusion_matrix(y_true_single, y_pred_single)\n",
    "\n",
    "# Вывод матрицы неточностей\n",
    "print(cm)\n"
   ],
   "metadata": {
    "collapsed": false,
    "ExecuteTime": {
     "end_time": "2023-12-03T10:26:10.011665500Z",
     "start_time": "2023-12-03T10:26:05.349880200Z"
    }
   },
   "id": "94b1c49e9f1a852d"
  },
  {
   "cell_type": "code",
   "execution_count": 23,
   "outputs": [
    {
     "data": {
      "text/plain": "array([[0, 0],\n       [0, 0],\n       [0, 0],\n       ...,\n       [2, 2],\n       [2, 2],\n       [2, 2]], dtype=int64)"
     },
     "execution_count": 23,
     "metadata": {},
     "output_type": "execute_result"
    }
   ],
   "source": [
    "combined_array = np.column_stack((y_true_single, y_pred_single))\n",
    "combined_array"
   ],
   "metadata": {
    "collapsed": false,
    "ExecuteTime": {
     "end_time": "2023-12-03T10:26:10.029890200Z",
     "start_time": "2023-12-03T10:26:10.004452100Z"
    }
   },
   "id": "64066bfca07c623a"
  },
  {
   "cell_type": "code",
   "execution_count": 24,
   "outputs": [
    {
     "name": "stdout",
     "output_type": "stream",
     "text": [
      "precision =  [0.97840465 0.71936275 0.95931034] \n",
      " recall =  [0.97981007 0.78266667 0.869375  ]\n"
     ]
    }
   ],
   "source": [
    "# Расчет метрик precision (точность) и recall (полнота)\n",
    "\n",
    "# Precision (точность) - это метрика, которая оценивает долю правильно предсказанных \n",
    "# положительных классов от общего числа классифицированных как положительные. Формула для \n",
    "# вычисления precision: TP / (TP + FP), где TP - истинно положительные прогнозы, \n",
    "# а FP - ложно положительные прогнозы.\n",
    "\n",
    "precision = precision_score(y_true_single, y_pred_single, average=None)\n",
    "\n",
    "# Recall (полнота) - это метрика, которая оценивает долю правильно предсказанных положительных \n",
    "# классов от общего числа реальных положительных классов. Формула для вычисления recall: TP / (TP + FN), \n",
    "# где TP - истинно положительные прогнозы, а FN - ложно отрицательные прогнозы.\n",
    "\n",
    "recall = recall_score(y_true_single, y_pred_single, average=None)\n",
    "\n",
    "print( 'precision = ', precision, '\\n', 'recall = ', recall)"
   ],
   "metadata": {
    "collapsed": false,
    "ExecuteTime": {
     "end_time": "2023-12-03T10:26:10.078780300Z",
     "start_time": "2023-12-03T10:26:10.022909600Z"
    }
   },
   "id": "2c63066cefa32ef8"
  },
  {
   "cell_type": "markdown",
   "source": [
    "Проверим метрики модели на тестировочных данных. Будем производить предсказания на 50 последних временных рядах для каждого двигателя."
   ],
   "metadata": {
    "collapsed": false
   },
   "id": "23ef16cf5274737b"
  },
  {
   "cell_type": "code",
   "execution_count": 25,
   "outputs": [
    {
     "data": {
      "text/plain": "(100, 30, 25)"
     },
     "execution_count": 25,
     "metadata": {},
     "output_type": "execute_result"
    }
   ],
   "source": [
    "# Генерация последовательностей\n",
    "sequence_length_test = 30\n",
    "seq_array_test_last = [test_df[test_df['id']==id][sequence_cols].values[-sequence_length_test:] \n",
    "                       for id in test_df['id'].unique() if len(test_df[test_df['id']==id]) >= sequence_length_test]\n",
    "\n",
    "seq_array_test_last = np.asarray(seq_array_test_last).astype(np.float32)\n",
    "seq_array_test_last.shape"
   ],
   "metadata": {
    "collapsed": false,
    "ExecuteTime": {
     "end_time": "2023-12-03T10:26:10.204332900Z",
     "start_time": "2023-12-03T10:26:10.057836600Z"
    }
   },
   "id": "56d30f519aa220b1"
  },
  {
   "cell_type": "code",
   "execution_count": 26,
   "outputs": [
    {
     "data": {
      "text/plain": "(100, 1)"
     },
     "execution_count": 26,
     "metadata": {},
     "output_type": "execute_result"
    }
   ],
   "source": [
    "# Создаем маску, которая позволяет выбрать только те данные, для которых количество записей по\n",
    "# идентификатору больше или равно значению переменной sequence_length.\n",
    "\n",
    "y_mask = [len(test_df[test_df['id']==id]) >= sequence_length_test for id in test_df['id'].unique()]\n",
    "\n",
    "# Генерация меток\n",
    "label_array_test_last = test_df.groupby('id')['label2'].nth(-1)[y_mask].values\n",
    "label_array_test_last = label_array_test_last.reshape(label_array_test_last.shape[0],1).astype(np.float32)\n",
    "label_array_test_last.shape"
   ],
   "metadata": {
    "collapsed": false,
    "ExecuteTime": {
     "end_time": "2023-12-03T10:26:10.272174Z",
     "start_time": "2023-12-03T10:26:10.206328Z"
    }
   },
   "id": "5615ea12835b01e0"
  },
  {
   "cell_type": "code",
   "execution_count": 27,
   "outputs": [
    {
     "data": {
      "text/plain": "array([[0.],\n       [0.],\n       [0.],\n       [0.],\n       [0.],\n       [0.],\n       [0.],\n       [0.],\n       [0.],\n       [0.],\n       [0.],\n       [0.],\n       [0.],\n       [0.],\n       [0.],\n       [0.],\n       [0.],\n       [1.],\n       [0.],\n       [1.],\n       [0.],\n       [0.],\n       [0.],\n       [1.],\n       [0.],\n       [0.],\n       [0.],\n       [0.],\n       [0.],\n       [0.],\n       [2.],\n       [0.],\n       [0.],\n       [2.],\n       [2.],\n       [1.],\n       [1.],\n       [0.],\n       [0.],\n       [1.],\n       [1.],\n       [2.],\n       [0.],\n       [0.],\n       [0.],\n       [0.],\n       [0.],\n       [0.],\n       [1.],\n       [0.],\n       [0.],\n       [1.],\n       [1.],\n       [0.],\n       [0.],\n       [2.],\n       [0.],\n       [0.],\n       [0.],\n       [0.],\n       [1.],\n       [0.],\n       [0.],\n       [1.],\n       [0.],\n       [2.],\n       [0.],\n       [2.],\n       [0.],\n       [0.],\n       [0.],\n       [0.],\n       [0.],\n       [0.],\n       [0.],\n       [2.],\n       [0.],\n       [0.],\n       [0.],\n       [0.],\n       [2.],\n       [2.],\n       [0.],\n       [0.],\n       [0.],\n       [0.],\n       [0.],\n       [0.],\n       [0.],\n       [1.],\n       [0.],\n       [1.],\n       [0.],\n       [0.],\n       [0.],\n       [0.],\n       [0.],\n       [0.],\n       [0.],\n       [1.]], dtype=float32)"
     },
     "execution_count": 27,
     "metadata": {},
     "output_type": "execute_result"
    }
   ],
   "source": [
    "label_array_test_last"
   ],
   "metadata": {
    "collapsed": false,
    "ExecuteTime": {
     "end_time": "2023-12-03T10:26:10.288563800Z",
     "start_time": "2023-12-03T10:26:10.267187600Z"
    }
   },
   "id": "b9ac148250a0edb0"
  },
  {
   "cell_type": "code",
   "execution_count": 28,
   "outputs": [
    {
     "name": "stdout",
     "output_type": "stream",
     "text": [
      "4/4 - 1s - loss: 3.5327 - accuracy: 0.8200 - 742ms/epoch - 186ms/step\n",
      "Accurracy: 0.8199999928474426\n"
     ]
    }
   ],
   "source": [
    "# Оценка производительности модели на тестировочном наборе данных. Метод evaluate \n",
    "# вычисляет потери и метрики модели для переданных данных. В данном случае, seq_array_test_last \n",
    "# представляет собой входные данные, а label_array_test_last - соответствующие этим входным данным метки.\n",
    "scores_test = model.evaluate(seq_array_test_last, label_array_test_last, verbose=2)\n",
    "print('Accurracy: {}'.format(scores_test[1]))"
   ],
   "metadata": {
    "collapsed": false,
    "ExecuteTime": {
     "end_time": "2023-12-03T10:26:11.113321600Z",
     "start_time": "2023-12-03T10:26:10.282577100Z"
    }
   },
   "id": "b7c74cf2771fb704"
  },
  {
   "cell_type": "code",
   "execution_count": 29,
   "outputs": [
    {
     "name": "stdout",
     "output_type": "stream",
     "text": [
      "1/1 [==============================] - 1s 641ms/step\n",
      "Матрица неточностей\n",
      "- По оси x находятся истинные метки.\n",
      "- По оси y находятся предсказанные метки\n",
      "[[73  1  1]\n",
      " [ 9  3  3]\n",
      " [ 0  1  9]]\n"
     ]
    }
   ],
   "source": [
    "# Прогнозирование результатов и вычисление матрицы-путаницы на тестировочных данных\n",
    "\n",
    "# использование метода predict для получения вероятностей\n",
    "y_pred_test_prob = model.predict(seq_array_test_last, batch_size=200)\n",
    "# преобразование полученных вероятностей в бинарные предсказания с помощью сравнения с пороговым значением 0.5\n",
    "y_pred_test = (y_pred_test_prob > 0.5).astype(\"float32\")\n",
    "\n",
    "y_pred_test_single = np.argmax(y_pred_test, axis=1)\n",
    "\n",
    "# Сохранение истинных меток в y_true\n",
    "\n",
    "y_true_test = label_array_test_last\n",
    "\n",
    "# Вывод структуры матрицы неточностей\n",
    "print('Матрица неточностей\\n- По оси x находятся истинные метки.\\n- По оси y находятся предсказанные метки')\n",
    "cm = confusion_matrix(y_true_test, y_pred_test_single)\n",
    "# Вывод матрицы неточностей\n",
    "print(cm)"
   ],
   "metadata": {
    "collapsed": false,
    "ExecuteTime": {
     "end_time": "2023-12-03T10:26:11.809731300Z",
     "start_time": "2023-12-03T10:26:11.101353200Z"
    }
   },
   "id": "7fe9cd2234ec59e1"
  },
  {
   "cell_type": "code",
   "execution_count": 30,
   "outputs": [
    {
     "data": {
      "text/plain": "array([[0., 0.],\n       [0., 0.],\n       [0., 0.],\n       [0., 0.],\n       [0., 0.],\n       [0., 0.],\n       [0., 0.],\n       [0., 0.],\n       [0., 0.],\n       [0., 0.],\n       [0., 0.],\n       [0., 0.],\n       [0., 0.],\n       [0., 0.],\n       [0., 0.],\n       [0., 0.],\n       [0., 0.],\n       [1., 0.],\n       [0., 0.],\n       [1., 2.],\n       [0., 0.],\n       [0., 0.],\n       [0., 0.],\n       [1., 0.],\n       [0., 0.],\n       [0., 0.],\n       [0., 0.],\n       [0., 0.],\n       [0., 0.],\n       [0., 0.],\n       [2., 2.],\n       [0., 0.],\n       [0., 0.],\n       [2., 2.],\n       [2., 2.],\n       [1., 2.],\n       [1., 0.],\n       [0., 0.],\n       [0., 0.],\n       [1., 1.],\n       [1., 0.],\n       [2., 1.],\n       [0., 0.],\n       [0., 0.],\n       [0., 0.],\n       [0., 0.],\n       [0., 0.],\n       [0., 0.],\n       [1., 1.],\n       [0., 0.],\n       [0., 0.],\n       [1., 0.],\n       [1., 0.],\n       [0., 0.],\n       [0., 0.],\n       [2., 2.],\n       [0., 0.],\n       [0., 0.],\n       [0., 0.],\n       [0., 0.],\n       [1., 0.],\n       [0., 0.],\n       [0., 0.],\n       [1., 0.],\n       [0., 0.],\n       [2., 2.],\n       [0., 0.],\n       [2., 2.],\n       [0., 0.],\n       [0., 0.],\n       [0., 0.],\n       [0., 0.],\n       [0., 0.],\n       [0., 0.],\n       [0., 0.],\n       [2., 2.],\n       [0., 0.],\n       [0., 0.],\n       [0., 0.],\n       [0., 0.],\n       [2., 2.],\n       [2., 2.],\n       [0., 0.],\n       [0., 0.],\n       [0., 0.],\n       [0., 0.],\n       [0., 0.],\n       [0., 0.],\n       [0., 0.],\n       [1., 1.],\n       [0., 2.],\n       [1., 2.],\n       [0., 1.],\n       [0., 0.],\n       [0., 0.],\n       [0., 0.],\n       [0., 0.],\n       [0., 0.],\n       [0., 0.],\n       [1., 0.]])"
     },
     "execution_count": 30,
     "metadata": {},
     "output_type": "execute_result"
    }
   ],
   "source": [
    "combined_array = np.column_stack((y_true_test, y_pred_test_single))\n",
    "combined_array"
   ],
   "metadata": {
    "collapsed": false,
    "ExecuteTime": {
     "end_time": "2023-12-03T10:26:11.861523600Z",
     "start_time": "2023-12-03T10:26:11.801752700Z"
    }
   },
   "id": "d483c3dc3eb89e6c"
  },
  {
   "cell_type": "code",
   "execution_count": 30,
   "outputs": [],
   "source": [],
   "metadata": {
    "collapsed": false,
    "ExecuteTime": {
     "end_time": "2023-12-03T10:26:11.864486300Z",
     "start_time": "2023-12-03T10:26:11.818707200Z"
    }
   },
   "id": "df479f1094ec6ee7"
  }
 ],
 "metadata": {
  "kernelspec": {
   "display_name": "Python 3",
   "language": "python",
   "name": "python3"
  },
  "language_info": {
   "codemirror_mode": {
    "name": "ipython",
    "version": 2
   },
   "file_extension": ".py",
   "mimetype": "text/x-python",
   "name": "python",
   "nbconvert_exporter": "python",
   "pygments_lexer": "ipython2",
   "version": "2.7.6"
  }
 },
 "nbformat": 4,
 "nbformat_minor": 5
}
