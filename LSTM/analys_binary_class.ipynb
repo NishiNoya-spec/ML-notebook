{
 "cells": [
  {
   "cell_type": "code",
   "execution_count": 11,
   "id": "initial_id",
   "metadata": {
    "collapsed": true,
    "ExecuteTime": {
     "end_time": "2023-12-03T14:51:27.576954100Z",
     "start_time": "2023-12-03T14:51:26.577547100Z"
    }
   },
   "outputs": [],
   "source": [
    "import tensorflow as tf\n",
    "from tensorflow import keras\n",
    "import pandas as pd\n",
    "import numpy as np\n",
    "import matplotlib.pyplot as plt\n",
    "import seaborn as sns\n",
    "from sklearn import preprocessing\n",
    "from sklearn.metrics import confusion_matrix, recall_score, precision_score\n",
    "from keras.models import Sequential\n",
    "from keras.layers import Dense, Dropout, LSTM, Activation"
   ]
  },
  {
   "cell_type": "code",
   "execution_count": 12,
   "outputs": [],
   "source": [
    "# Закладка семян для воспроизводимости\n",
    "np.random.seed(1234)  \n",
    "PYTHONHASHSEED = 0"
   ],
   "metadata": {
    "collapsed": false,
    "ExecuteTime": {
     "end_time": "2023-12-03T14:51:27.579945900Z",
     "start_time": "2023-12-03T14:51:26.592507300Z"
    }
   },
   "id": "64e36c6083fc02ea"
  },
  {
   "cell_type": "code",
   "execution_count": 13,
   "outputs": [
    {
     "data": {
      "text/plain": "   id  cycle  setting1  setting2  setting3      s1      s2       s3       s4  \\\n0   1      1   -0.0007   -0.0004     100.0  518.67  641.82  1589.70  1400.60   \n1   1      2    0.0019   -0.0003     100.0  518.67  642.15  1591.82  1403.14   \n2   1      3   -0.0043    0.0003     100.0  518.67  642.35  1587.99  1404.20   \n3   1      4    0.0007    0.0000     100.0  518.67  642.35  1582.79  1401.87   \n4   1      5   -0.0019   -0.0002     100.0  518.67  642.37  1582.85  1406.22   \n\n      s5  ...     s12      s13      s14     s15   s16  s17   s18    s19  \\\n0  14.62  ...  521.66  2388.02  8138.62  8.4195  0.03  392  2388  100.0   \n1  14.62  ...  522.28  2388.07  8131.49  8.4318  0.03  392  2388  100.0   \n2  14.62  ...  522.42  2388.03  8133.23  8.4178  0.03  390  2388  100.0   \n3  14.62  ...  522.86  2388.08  8133.83  8.3682  0.03  392  2388  100.0   \n4  14.62  ...  522.19  2388.04  8133.80  8.4294  0.03  393  2388  100.0   \n\n     s20      s21  \n0  39.06  23.4190  \n1  39.00  23.4236  \n2  38.95  23.3442  \n3  38.88  23.3739  \n4  38.90  23.4044  \n\n[5 rows x 26 columns]",
      "text/html": "<div>\n<style scoped>\n    .dataframe tbody tr th:only-of-type {\n        vertical-align: middle;\n    }\n\n    .dataframe tbody tr th {\n        vertical-align: top;\n    }\n\n    .dataframe thead th {\n        text-align: right;\n    }\n</style>\n<table border=\"1\" class=\"dataframe\">\n  <thead>\n    <tr style=\"text-align: right;\">\n      <th></th>\n      <th>id</th>\n      <th>cycle</th>\n      <th>setting1</th>\n      <th>setting2</th>\n      <th>setting3</th>\n      <th>s1</th>\n      <th>s2</th>\n      <th>s3</th>\n      <th>s4</th>\n      <th>s5</th>\n      <th>...</th>\n      <th>s12</th>\n      <th>s13</th>\n      <th>s14</th>\n      <th>s15</th>\n      <th>s16</th>\n      <th>s17</th>\n      <th>s18</th>\n      <th>s19</th>\n      <th>s20</th>\n      <th>s21</th>\n    </tr>\n  </thead>\n  <tbody>\n    <tr>\n      <th>0</th>\n      <td>1</td>\n      <td>1</td>\n      <td>-0.0007</td>\n      <td>-0.0004</td>\n      <td>100.0</td>\n      <td>518.67</td>\n      <td>641.82</td>\n      <td>1589.70</td>\n      <td>1400.60</td>\n      <td>14.62</td>\n      <td>...</td>\n      <td>521.66</td>\n      <td>2388.02</td>\n      <td>8138.62</td>\n      <td>8.4195</td>\n      <td>0.03</td>\n      <td>392</td>\n      <td>2388</td>\n      <td>100.0</td>\n      <td>39.06</td>\n      <td>23.4190</td>\n    </tr>\n    <tr>\n      <th>1</th>\n      <td>1</td>\n      <td>2</td>\n      <td>0.0019</td>\n      <td>-0.0003</td>\n      <td>100.0</td>\n      <td>518.67</td>\n      <td>642.15</td>\n      <td>1591.82</td>\n      <td>1403.14</td>\n      <td>14.62</td>\n      <td>...</td>\n      <td>522.28</td>\n      <td>2388.07</td>\n      <td>8131.49</td>\n      <td>8.4318</td>\n      <td>0.03</td>\n      <td>392</td>\n      <td>2388</td>\n      <td>100.0</td>\n      <td>39.00</td>\n      <td>23.4236</td>\n    </tr>\n    <tr>\n      <th>2</th>\n      <td>1</td>\n      <td>3</td>\n      <td>-0.0043</td>\n      <td>0.0003</td>\n      <td>100.0</td>\n      <td>518.67</td>\n      <td>642.35</td>\n      <td>1587.99</td>\n      <td>1404.20</td>\n      <td>14.62</td>\n      <td>...</td>\n      <td>522.42</td>\n      <td>2388.03</td>\n      <td>8133.23</td>\n      <td>8.4178</td>\n      <td>0.03</td>\n      <td>390</td>\n      <td>2388</td>\n      <td>100.0</td>\n      <td>38.95</td>\n      <td>23.3442</td>\n    </tr>\n    <tr>\n      <th>3</th>\n      <td>1</td>\n      <td>4</td>\n      <td>0.0007</td>\n      <td>0.0000</td>\n      <td>100.0</td>\n      <td>518.67</td>\n      <td>642.35</td>\n      <td>1582.79</td>\n      <td>1401.87</td>\n      <td>14.62</td>\n      <td>...</td>\n      <td>522.86</td>\n      <td>2388.08</td>\n      <td>8133.83</td>\n      <td>8.3682</td>\n      <td>0.03</td>\n      <td>392</td>\n      <td>2388</td>\n      <td>100.0</td>\n      <td>38.88</td>\n      <td>23.3739</td>\n    </tr>\n    <tr>\n      <th>4</th>\n      <td>1</td>\n      <td>5</td>\n      <td>-0.0019</td>\n      <td>-0.0002</td>\n      <td>100.0</td>\n      <td>518.67</td>\n      <td>642.37</td>\n      <td>1582.85</td>\n      <td>1406.22</td>\n      <td>14.62</td>\n      <td>...</td>\n      <td>522.19</td>\n      <td>2388.04</td>\n      <td>8133.80</td>\n      <td>8.4294</td>\n      <td>0.03</td>\n      <td>393</td>\n      <td>2388</td>\n      <td>100.0</td>\n      <td>38.90</td>\n      <td>23.4044</td>\n    </tr>\n  </tbody>\n</table>\n<p>5 rows × 26 columns</p>\n</div>"
     },
     "execution_count": 13,
     "metadata": {},
     "output_type": "execute_result"
    }
   ],
   "source": [
    "# Подготовка обучающей даты\n",
    "\n",
    "# Чтение обучающей даты\n",
    "train_df = pd.read_csv('../engines_failure/PM_train.txt', sep=\" \", header=None)\n",
    "train_df.drop(train_df.columns[[26, 27]], axis=1, inplace=True)\n",
    "train_df.columns = ['id', 'cycle', 'setting1', 'setting2', 'setting3', 's1', 's2', 's3',\n",
    "                     's4', 's5', 's6', 's7', 's8', 's9', 's10', 's11', 's12', 's13', 's14',\n",
    "                     's15', 's16', 's17', 's18', 's19', 's20', 's21']\n",
    "train_df.head()"
   ],
   "metadata": {
    "collapsed": false,
    "ExecuteTime": {
     "end_time": "2023-12-03T14:51:27.642598900Z",
     "start_time": "2023-12-03T14:51:26.606470200Z"
    }
   },
   "id": "2b555b78394a1e76"
  },
  {
   "cell_type": "code",
   "execution_count": 14,
   "outputs": [
    {
     "data": {
      "text/plain": "   id  cycle  setting1  setting2  setting3      s1      s2       s3       s4  \\\n0   1      1   -0.0007   -0.0004     100.0  518.67  641.82  1589.70  1400.60   \n1   1      2    0.0019   -0.0003     100.0  518.67  642.15  1591.82  1403.14   \n2   1      3   -0.0043    0.0003     100.0  518.67  642.35  1587.99  1404.20   \n3   1      4    0.0007    0.0000     100.0  518.67  642.35  1582.79  1401.87   \n4   1      5   -0.0019   -0.0002     100.0  518.67  642.37  1582.85  1406.22   \n\n      s5  ...     s12      s13      s14     s15   s16  s17   s18    s19  \\\n0  14.62  ...  521.66  2388.02  8138.62  8.4195  0.03  392  2388  100.0   \n1  14.62  ...  522.28  2388.07  8131.49  8.4318  0.03  392  2388  100.0   \n2  14.62  ...  522.42  2388.03  8133.23  8.4178  0.03  390  2388  100.0   \n3  14.62  ...  522.86  2388.08  8133.83  8.3682  0.03  392  2388  100.0   \n4  14.62  ...  522.19  2388.04  8133.80  8.4294  0.03  393  2388  100.0   \n\n     s20      s21  \n0  39.06  23.4190  \n1  39.00  23.4236  \n2  38.95  23.3442  \n3  38.88  23.3739  \n4  38.90  23.4044  \n\n[5 rows x 26 columns]",
      "text/html": "<div>\n<style scoped>\n    .dataframe tbody tr th:only-of-type {\n        vertical-align: middle;\n    }\n\n    .dataframe tbody tr th {\n        vertical-align: top;\n    }\n\n    .dataframe thead th {\n        text-align: right;\n    }\n</style>\n<table border=\"1\" class=\"dataframe\">\n  <thead>\n    <tr style=\"text-align: right;\">\n      <th></th>\n      <th>id</th>\n      <th>cycle</th>\n      <th>setting1</th>\n      <th>setting2</th>\n      <th>setting3</th>\n      <th>s1</th>\n      <th>s2</th>\n      <th>s3</th>\n      <th>s4</th>\n      <th>s5</th>\n      <th>...</th>\n      <th>s12</th>\n      <th>s13</th>\n      <th>s14</th>\n      <th>s15</th>\n      <th>s16</th>\n      <th>s17</th>\n      <th>s18</th>\n      <th>s19</th>\n      <th>s20</th>\n      <th>s21</th>\n    </tr>\n  </thead>\n  <tbody>\n    <tr>\n      <th>0</th>\n      <td>1</td>\n      <td>1</td>\n      <td>-0.0007</td>\n      <td>-0.0004</td>\n      <td>100.0</td>\n      <td>518.67</td>\n      <td>641.82</td>\n      <td>1589.70</td>\n      <td>1400.60</td>\n      <td>14.62</td>\n      <td>...</td>\n      <td>521.66</td>\n      <td>2388.02</td>\n      <td>8138.62</td>\n      <td>8.4195</td>\n      <td>0.03</td>\n      <td>392</td>\n      <td>2388</td>\n      <td>100.0</td>\n      <td>39.06</td>\n      <td>23.4190</td>\n    </tr>\n    <tr>\n      <th>1</th>\n      <td>1</td>\n      <td>2</td>\n      <td>0.0019</td>\n      <td>-0.0003</td>\n      <td>100.0</td>\n      <td>518.67</td>\n      <td>642.15</td>\n      <td>1591.82</td>\n      <td>1403.14</td>\n      <td>14.62</td>\n      <td>...</td>\n      <td>522.28</td>\n      <td>2388.07</td>\n      <td>8131.49</td>\n      <td>8.4318</td>\n      <td>0.03</td>\n      <td>392</td>\n      <td>2388</td>\n      <td>100.0</td>\n      <td>39.00</td>\n      <td>23.4236</td>\n    </tr>\n    <tr>\n      <th>2</th>\n      <td>1</td>\n      <td>3</td>\n      <td>-0.0043</td>\n      <td>0.0003</td>\n      <td>100.0</td>\n      <td>518.67</td>\n      <td>642.35</td>\n      <td>1587.99</td>\n      <td>1404.20</td>\n      <td>14.62</td>\n      <td>...</td>\n      <td>522.42</td>\n      <td>2388.03</td>\n      <td>8133.23</td>\n      <td>8.4178</td>\n      <td>0.03</td>\n      <td>390</td>\n      <td>2388</td>\n      <td>100.0</td>\n      <td>38.95</td>\n      <td>23.3442</td>\n    </tr>\n    <tr>\n      <th>3</th>\n      <td>1</td>\n      <td>4</td>\n      <td>0.0007</td>\n      <td>0.0000</td>\n      <td>100.0</td>\n      <td>518.67</td>\n      <td>642.35</td>\n      <td>1582.79</td>\n      <td>1401.87</td>\n      <td>14.62</td>\n      <td>...</td>\n      <td>522.86</td>\n      <td>2388.08</td>\n      <td>8133.83</td>\n      <td>8.3682</td>\n      <td>0.03</td>\n      <td>392</td>\n      <td>2388</td>\n      <td>100.0</td>\n      <td>38.88</td>\n      <td>23.3739</td>\n    </tr>\n    <tr>\n      <th>4</th>\n      <td>1</td>\n      <td>5</td>\n      <td>-0.0019</td>\n      <td>-0.0002</td>\n      <td>100.0</td>\n      <td>518.67</td>\n      <td>642.37</td>\n      <td>1582.85</td>\n      <td>1406.22</td>\n      <td>14.62</td>\n      <td>...</td>\n      <td>522.19</td>\n      <td>2388.04</td>\n      <td>8133.80</td>\n      <td>8.4294</td>\n      <td>0.03</td>\n      <td>393</td>\n      <td>2388</td>\n      <td>100.0</td>\n      <td>38.90</td>\n      <td>23.4044</td>\n    </tr>\n  </tbody>\n</table>\n<p>5 rows × 26 columns</p>\n</div>"
     },
     "execution_count": 14,
     "metadata": {},
     "output_type": "execute_result"
    }
   ],
   "source": [
    "# Подготовка тестировочной даты\n",
    "\n",
    "# Чтение тестировочной даты\n",
    "test_df = pd.read_csv('../engines_failure/PM_test.txt', sep=\" \", header=None)\n",
    "test_df.drop(test_df.columns[[26, 27]], axis=1, inplace=True)\n",
    "test_df.columns = ['id', 'cycle', 'setting1', 'setting2', 'setting3', 's1', 's2', 's3',\n",
    "                     's4', 's5', 's6', 's7', 's8', 's9', 's10', 's11', 's12', 's13', 's14',\n",
    "                     's15', 's16', 's17', 's18', 's19', 's20', 's21']\n",
    "train_df.head()"
   ],
   "metadata": {
    "collapsed": false,
    "ExecuteTime": {
     "end_time": "2023-12-03T14:51:27.644593400Z",
     "start_time": "2023-12-03T14:51:26.779187200Z"
    }
   },
   "id": "899c5c41f66ee6e8"
  },
  {
   "cell_type": "code",
   "execution_count": 15,
   "outputs": [
    {
     "data": {
      "text/plain": "   ttf\n0  112\n1   98\n2   69\n3   82\n4   91",
      "text/html": "<div>\n<style scoped>\n    .dataframe tbody tr th:only-of-type {\n        vertical-align: middle;\n    }\n\n    .dataframe tbody tr th {\n        vertical-align: top;\n    }\n\n    .dataframe thead th {\n        text-align: right;\n    }\n</style>\n<table border=\"1\" class=\"dataframe\">\n  <thead>\n    <tr style=\"text-align: right;\">\n      <th></th>\n      <th>ttf</th>\n    </tr>\n  </thead>\n  <tbody>\n    <tr>\n      <th>0</th>\n      <td>112</td>\n    </tr>\n    <tr>\n      <th>1</th>\n      <td>98</td>\n    </tr>\n    <tr>\n      <th>2</th>\n      <td>69</td>\n    </tr>\n    <tr>\n      <th>3</th>\n      <td>82</td>\n    </tr>\n    <tr>\n      <th>4</th>\n      <td>91</td>\n    </tr>\n  </tbody>\n</table>\n</div>"
     },
     "execution_count": 15,
     "metadata": {},
     "output_type": "execute_result"
    }
   ],
   "source": [
    "# Подготовка правдивой даты\n",
    "\n",
    "# Чтение правдивой даты\n",
    "truth_df = pd.read_csv('../engines_failure/PM_truth.txt', sep=\" \", header=None)\n",
    "truth_df.drop(truth_df.columns[[1]], axis=1, inplace=True)\n",
    "truth_df.columns = ['ttf']\n",
    "truth_df.head()"
   ],
   "metadata": {
    "collapsed": false,
    "ExecuteTime": {
     "end_time": "2023-12-03T14:51:27.645590600Z",
     "start_time": "2023-12-03T14:51:26.900049900Z"
    }
   },
   "id": "7cd3b175e7cbd0c4"
  },
  {
   "cell_type": "code",
   "execution_count": 16,
   "outputs": [
    {
     "data": {
      "text/plain": "    ttf\n17   28\n19   16\n23   20\n30    8\n33    7\n34   11\n35   19\n36   21\n39   28\n40   18\n41   10\n48   21\n51   29\n52   26\n55   15\n60   21\n63   28\n65   14\n67    8\n75   10\n80    8\n81    9\n89   28\n91   20\n99   20",
      "text/html": "<div>\n<style scoped>\n    .dataframe tbody tr th:only-of-type {\n        vertical-align: middle;\n    }\n\n    .dataframe tbody tr th {\n        vertical-align: top;\n    }\n\n    .dataframe thead th {\n        text-align: right;\n    }\n</style>\n<table border=\"1\" class=\"dataframe\">\n  <thead>\n    <tr style=\"text-align: right;\">\n      <th></th>\n      <th>ttf</th>\n    </tr>\n  </thead>\n  <tbody>\n    <tr>\n      <th>17</th>\n      <td>28</td>\n    </tr>\n    <tr>\n      <th>19</th>\n      <td>16</td>\n    </tr>\n    <tr>\n      <th>23</th>\n      <td>20</td>\n    </tr>\n    <tr>\n      <th>30</th>\n      <td>8</td>\n    </tr>\n    <tr>\n      <th>33</th>\n      <td>7</td>\n    </tr>\n    <tr>\n      <th>34</th>\n      <td>11</td>\n    </tr>\n    <tr>\n      <th>35</th>\n      <td>19</td>\n    </tr>\n    <tr>\n      <th>36</th>\n      <td>21</td>\n    </tr>\n    <tr>\n      <th>39</th>\n      <td>28</td>\n    </tr>\n    <tr>\n      <th>40</th>\n      <td>18</td>\n    </tr>\n    <tr>\n      <th>41</th>\n      <td>10</td>\n    </tr>\n    <tr>\n      <th>48</th>\n      <td>21</td>\n    </tr>\n    <tr>\n      <th>51</th>\n      <td>29</td>\n    </tr>\n    <tr>\n      <th>52</th>\n      <td>26</td>\n    </tr>\n    <tr>\n      <th>55</th>\n      <td>15</td>\n    </tr>\n    <tr>\n      <th>60</th>\n      <td>21</td>\n    </tr>\n    <tr>\n      <th>63</th>\n      <td>28</td>\n    </tr>\n    <tr>\n      <th>65</th>\n      <td>14</td>\n    </tr>\n    <tr>\n      <th>67</th>\n      <td>8</td>\n    </tr>\n    <tr>\n      <th>75</th>\n      <td>10</td>\n    </tr>\n    <tr>\n      <th>80</th>\n      <td>8</td>\n    </tr>\n    <tr>\n      <th>81</th>\n      <td>9</td>\n    </tr>\n    <tr>\n      <th>89</th>\n      <td>28</td>\n    </tr>\n    <tr>\n      <th>91</th>\n      <td>20</td>\n    </tr>\n    <tr>\n      <th>99</th>\n      <td>20</td>\n    </tr>\n  </tbody>\n</table>\n</div>"
     },
     "execution_count": 16,
     "metadata": {},
     "output_type": "execute_result"
    }
   ],
   "source": [
    "truth_df[truth_df['ttf'] <= 30]"
   ],
   "metadata": {
    "collapsed": false,
    "ExecuteTime": {
     "end_time": "2023-12-03T14:51:27.646587800Z",
     "start_time": "2023-12-03T14:51:26.934021400Z"
    }
   },
   "id": "116b543084e038dc"
  },
  {
   "cell_type": "code",
   "execution_count": 17,
   "outputs": [
    {
     "data": {
      "text/plain": "   id  cycle  setting1  setting2  setting3      s1      s2       s3       s4  \\\n0   1      1   -0.0007   -0.0004     100.0  518.67  641.82  1589.70  1400.60   \n1   1      2    0.0019   -0.0003     100.0  518.67  642.15  1591.82  1403.14   \n2   1      3   -0.0043    0.0003     100.0  518.67  642.35  1587.99  1404.20   \n3   1      4    0.0007    0.0000     100.0  518.67  642.35  1582.79  1401.87   \n4   1      5   -0.0019   -0.0002     100.0  518.67  642.37  1582.85  1406.22   \n\n      s5  ...      s13      s14     s15   s16  s17   s18    s19    s20  \\\n0  14.62  ...  2388.02  8138.62  8.4195  0.03  392  2388  100.0  39.06   \n1  14.62  ...  2388.07  8131.49  8.4318  0.03  392  2388  100.0  39.00   \n2  14.62  ...  2388.03  8133.23  8.4178  0.03  390  2388  100.0  38.95   \n3  14.62  ...  2388.08  8133.83  8.3682  0.03  392  2388  100.0  38.88   \n4  14.62  ...  2388.04  8133.80  8.4294  0.03  393  2388  100.0  38.90   \n\n       s21  RUL  \n0  23.4190  191  \n1  23.4236  190  \n2  23.3442  189  \n3  23.3739  188  \n4  23.4044  187  \n\n[5 rows x 27 columns]",
      "text/html": "<div>\n<style scoped>\n    .dataframe tbody tr th:only-of-type {\n        vertical-align: middle;\n    }\n\n    .dataframe tbody tr th {\n        vertical-align: top;\n    }\n\n    .dataframe thead th {\n        text-align: right;\n    }\n</style>\n<table border=\"1\" class=\"dataframe\">\n  <thead>\n    <tr style=\"text-align: right;\">\n      <th></th>\n      <th>id</th>\n      <th>cycle</th>\n      <th>setting1</th>\n      <th>setting2</th>\n      <th>setting3</th>\n      <th>s1</th>\n      <th>s2</th>\n      <th>s3</th>\n      <th>s4</th>\n      <th>s5</th>\n      <th>...</th>\n      <th>s13</th>\n      <th>s14</th>\n      <th>s15</th>\n      <th>s16</th>\n      <th>s17</th>\n      <th>s18</th>\n      <th>s19</th>\n      <th>s20</th>\n      <th>s21</th>\n      <th>RUL</th>\n    </tr>\n  </thead>\n  <tbody>\n    <tr>\n      <th>0</th>\n      <td>1</td>\n      <td>1</td>\n      <td>-0.0007</td>\n      <td>-0.0004</td>\n      <td>100.0</td>\n      <td>518.67</td>\n      <td>641.82</td>\n      <td>1589.70</td>\n      <td>1400.60</td>\n      <td>14.62</td>\n      <td>...</td>\n      <td>2388.02</td>\n      <td>8138.62</td>\n      <td>8.4195</td>\n      <td>0.03</td>\n      <td>392</td>\n      <td>2388</td>\n      <td>100.0</td>\n      <td>39.06</td>\n      <td>23.4190</td>\n      <td>191</td>\n    </tr>\n    <tr>\n      <th>1</th>\n      <td>1</td>\n      <td>2</td>\n      <td>0.0019</td>\n      <td>-0.0003</td>\n      <td>100.0</td>\n      <td>518.67</td>\n      <td>642.15</td>\n      <td>1591.82</td>\n      <td>1403.14</td>\n      <td>14.62</td>\n      <td>...</td>\n      <td>2388.07</td>\n      <td>8131.49</td>\n      <td>8.4318</td>\n      <td>0.03</td>\n      <td>392</td>\n      <td>2388</td>\n      <td>100.0</td>\n      <td>39.00</td>\n      <td>23.4236</td>\n      <td>190</td>\n    </tr>\n    <tr>\n      <th>2</th>\n      <td>1</td>\n      <td>3</td>\n      <td>-0.0043</td>\n      <td>0.0003</td>\n      <td>100.0</td>\n      <td>518.67</td>\n      <td>642.35</td>\n      <td>1587.99</td>\n      <td>1404.20</td>\n      <td>14.62</td>\n      <td>...</td>\n      <td>2388.03</td>\n      <td>8133.23</td>\n      <td>8.4178</td>\n      <td>0.03</td>\n      <td>390</td>\n      <td>2388</td>\n      <td>100.0</td>\n      <td>38.95</td>\n      <td>23.3442</td>\n      <td>189</td>\n    </tr>\n    <tr>\n      <th>3</th>\n      <td>1</td>\n      <td>4</td>\n      <td>0.0007</td>\n      <td>0.0000</td>\n      <td>100.0</td>\n      <td>518.67</td>\n      <td>642.35</td>\n      <td>1582.79</td>\n      <td>1401.87</td>\n      <td>14.62</td>\n      <td>...</td>\n      <td>2388.08</td>\n      <td>8133.83</td>\n      <td>8.3682</td>\n      <td>0.03</td>\n      <td>392</td>\n      <td>2388</td>\n      <td>100.0</td>\n      <td>38.88</td>\n      <td>23.3739</td>\n      <td>188</td>\n    </tr>\n    <tr>\n      <th>4</th>\n      <td>1</td>\n      <td>5</td>\n      <td>-0.0019</td>\n      <td>-0.0002</td>\n      <td>100.0</td>\n      <td>518.67</td>\n      <td>642.37</td>\n      <td>1582.85</td>\n      <td>1406.22</td>\n      <td>14.62</td>\n      <td>...</td>\n      <td>2388.04</td>\n      <td>8133.80</td>\n      <td>8.4294</td>\n      <td>0.03</td>\n      <td>393</td>\n      <td>2388</td>\n      <td>100.0</td>\n      <td>38.90</td>\n      <td>23.4044</td>\n      <td>187</td>\n    </tr>\n  </tbody>\n</table>\n<p>5 rows × 27 columns</p>\n</div>"
     },
     "execution_count": 17,
     "metadata": {},
     "output_type": "execute_result"
    }
   ],
   "source": [
    "# Создание столбца RUL для обучающих данных\n",
    "\n",
    "# Создание DataFrame с максимальными значениями 'cycle' для каждого 'id'\n",
    "rul = pd.DataFrame(train_df.groupby('id')['cycle'].max()).reset_index()\n",
    "\n",
    "# Задание названий столбцов для DataFrame 'rul'\n",
    "rul.columns = ['id', 'max']\n",
    "\n",
    "# Слияние DataFrame 'train_df' с DataFrame 'rul' по столбцу 'id'\n",
    "train_df = train_df.merge(rul, on=['id'], how='left')\n",
    "\n",
    "# Создание столбца 'RUL', содержащего разницу между 'max' и 'cycle'\n",
    "train_df['RUL'] = train_df['max'] - train_df['cycle']\n",
    "\n",
    "# Удаление столбца 'max' из DataFrame 'train_df'\n",
    "train_df.drop('max', axis=1, inplace=True)\n",
    "\n",
    "# Вывод первых нескольких строк DataFrame для проверки изменений\n",
    "train_df.head()"
   ],
   "metadata": {
    "collapsed": false,
    "ExecuteTime": {
     "end_time": "2023-12-03T14:51:27.647585200Z",
     "start_time": "2023-12-03T14:51:26.962964100Z"
    }
   },
   "id": "91acadf582d1fa98"
  },
  {
   "cell_type": "code",
   "execution_count": 18,
   "outputs": [
    {
     "data": {
      "text/plain": "   id  cycle  setting1  setting2  setting3      s1      s2       s3       s4  \\\n0   1      1   -0.0007   -0.0004     100.0  518.67  641.82  1589.70  1400.60   \n1   1      2    0.0019   -0.0003     100.0  518.67  642.15  1591.82  1403.14   \n2   1      3   -0.0043    0.0003     100.0  518.67  642.35  1587.99  1404.20   \n3   1      4    0.0007    0.0000     100.0  518.67  642.35  1582.79  1401.87   \n4   1      5   -0.0019   -0.0002     100.0  518.67  642.37  1582.85  1406.22   \n\n      s5  ...     s15   s16  s17   s18    s19    s20      s21  RUL  label1  \\\n0  14.62  ...  8.4195  0.03  392  2388  100.0  39.06  23.4190  191       0   \n1  14.62  ...  8.4318  0.03  392  2388  100.0  39.00  23.4236  190       0   \n2  14.62  ...  8.4178  0.03  390  2388  100.0  38.95  23.3442  189       0   \n3  14.62  ...  8.3682  0.03  392  2388  100.0  38.88  23.3739  188       0   \n4  14.62  ...  8.4294  0.03  393  2388  100.0  38.90  23.4044  187       0   \n\n   label2  \n0       0  \n1       0  \n2       0  \n3       0  \n4       0  \n\n[5 rows x 29 columns]",
      "text/html": "<div>\n<style scoped>\n    .dataframe tbody tr th:only-of-type {\n        vertical-align: middle;\n    }\n\n    .dataframe tbody tr th {\n        vertical-align: top;\n    }\n\n    .dataframe thead th {\n        text-align: right;\n    }\n</style>\n<table border=\"1\" class=\"dataframe\">\n  <thead>\n    <tr style=\"text-align: right;\">\n      <th></th>\n      <th>id</th>\n      <th>cycle</th>\n      <th>setting1</th>\n      <th>setting2</th>\n      <th>setting3</th>\n      <th>s1</th>\n      <th>s2</th>\n      <th>s3</th>\n      <th>s4</th>\n      <th>s5</th>\n      <th>...</th>\n      <th>s15</th>\n      <th>s16</th>\n      <th>s17</th>\n      <th>s18</th>\n      <th>s19</th>\n      <th>s20</th>\n      <th>s21</th>\n      <th>RUL</th>\n      <th>label1</th>\n      <th>label2</th>\n    </tr>\n  </thead>\n  <tbody>\n    <tr>\n      <th>0</th>\n      <td>1</td>\n      <td>1</td>\n      <td>-0.0007</td>\n      <td>-0.0004</td>\n      <td>100.0</td>\n      <td>518.67</td>\n      <td>641.82</td>\n      <td>1589.70</td>\n      <td>1400.60</td>\n      <td>14.62</td>\n      <td>...</td>\n      <td>8.4195</td>\n      <td>0.03</td>\n      <td>392</td>\n      <td>2388</td>\n      <td>100.0</td>\n      <td>39.06</td>\n      <td>23.4190</td>\n      <td>191</td>\n      <td>0</td>\n      <td>0</td>\n    </tr>\n    <tr>\n      <th>1</th>\n      <td>1</td>\n      <td>2</td>\n      <td>0.0019</td>\n      <td>-0.0003</td>\n      <td>100.0</td>\n      <td>518.67</td>\n      <td>642.15</td>\n      <td>1591.82</td>\n      <td>1403.14</td>\n      <td>14.62</td>\n      <td>...</td>\n      <td>8.4318</td>\n      <td>0.03</td>\n      <td>392</td>\n      <td>2388</td>\n      <td>100.0</td>\n      <td>39.00</td>\n      <td>23.4236</td>\n      <td>190</td>\n      <td>0</td>\n      <td>0</td>\n    </tr>\n    <tr>\n      <th>2</th>\n      <td>1</td>\n      <td>3</td>\n      <td>-0.0043</td>\n      <td>0.0003</td>\n      <td>100.0</td>\n      <td>518.67</td>\n      <td>642.35</td>\n      <td>1587.99</td>\n      <td>1404.20</td>\n      <td>14.62</td>\n      <td>...</td>\n      <td>8.4178</td>\n      <td>0.03</td>\n      <td>390</td>\n      <td>2388</td>\n      <td>100.0</td>\n      <td>38.95</td>\n      <td>23.3442</td>\n      <td>189</td>\n      <td>0</td>\n      <td>0</td>\n    </tr>\n    <tr>\n      <th>3</th>\n      <td>1</td>\n      <td>4</td>\n      <td>0.0007</td>\n      <td>0.0000</td>\n      <td>100.0</td>\n      <td>518.67</td>\n      <td>642.35</td>\n      <td>1582.79</td>\n      <td>1401.87</td>\n      <td>14.62</td>\n      <td>...</td>\n      <td>8.3682</td>\n      <td>0.03</td>\n      <td>392</td>\n      <td>2388</td>\n      <td>100.0</td>\n      <td>38.88</td>\n      <td>23.3739</td>\n      <td>188</td>\n      <td>0</td>\n      <td>0</td>\n    </tr>\n    <tr>\n      <th>4</th>\n      <td>1</td>\n      <td>5</td>\n      <td>-0.0019</td>\n      <td>-0.0002</td>\n      <td>100.0</td>\n      <td>518.67</td>\n      <td>642.37</td>\n      <td>1582.85</td>\n      <td>1406.22</td>\n      <td>14.62</td>\n      <td>...</td>\n      <td>8.4294</td>\n      <td>0.03</td>\n      <td>393</td>\n      <td>2388</td>\n      <td>100.0</td>\n      <td>38.90</td>\n      <td>23.4044</td>\n      <td>187</td>\n      <td>0</td>\n      <td>0</td>\n    </tr>\n  </tbody>\n</table>\n<p>5 rows × 29 columns</p>\n</div>"
     },
     "execution_count": 18,
     "metadata": {},
     "output_type": "execute_result"
    }
   ],
   "source": [
    "# Генерация столбцов меток для обучающих данных\n",
    "w1 = 30  # Задание значения для порога w1\n",
    "w0 = 15  # Задание значения для порога w0\n",
    "\n",
    "# Создание столбца 'label1'. Если 'RUL' меньше или равно w1, то значение становится 1, иначе 0\n",
    "train_df['label1'] = np.where(train_df['RUL'] <= w1, 1, 0)\n",
    "\n",
    "# Создание столбца 'label2', который копирует значения из 'label1'\n",
    "train_df['label2'] = train_df['label1']\n",
    "\n",
    "# Обновление значений столбца 'label2'. Если 'RUL' меньше или равно w0, то значение становится 2\n",
    "train_df.loc[train_df['RUL'] <= w0, 'label2'] = 2\n",
    "\n",
    "# Вывод первых нескольких строк DataFrame для проверки изменений\n",
    "train_df.head()"
   ],
   "metadata": {
    "collapsed": false,
    "ExecuteTime": {
     "end_time": "2023-12-03T14:51:27.654566500Z",
     "start_time": "2023-12-03T14:51:27.038803300Z"
    }
   },
   "id": "2d6664366742c84b"
  },
  {
   "cell_type": "code",
   "execution_count": 19,
   "outputs": [
    {
     "data": {
      "text/plain": "     id  cycle  setting1  setting2  setting3      s1      s2       s3  \\\n185   1    186    0.0027   -0.0003     100.0  518.67  643.51  1595.16   \n186   1    187   -0.0047   -0.0000     100.0  518.67  643.32  1592.10   \n187   1    188   -0.0067    0.0003     100.0  518.67  643.75  1602.38   \n188   1    189   -0.0006    0.0002     100.0  518.67  644.18  1596.17   \n189   1    190   -0.0027    0.0001     100.0  518.67  643.64  1599.22   \n190   1    191   -0.0000   -0.0004     100.0  518.67  643.34  1602.36   \n191   1    192    0.0009   -0.0000     100.0  518.67  643.54  1601.41   \n\n          s4     s5  ...     s15   s16  s17   s18    s19    s20      s21  RUL  \\\n185  1426.30  14.62  ...  8.5227  0.03  397  2388  100.0  38.47  23.0564    6   \n186  1427.27  14.62  ...  8.5218  0.03  396  2388  100.0  38.42  23.0822    5   \n187  1422.78  14.62  ...  8.5207  0.03  396  2388  100.0  38.51  22.9588    4   \n188  1428.01  14.62  ...  8.5183  0.03  395  2388  100.0  38.48  23.1127    3   \n189  1425.95  14.62  ...  8.5223  0.03  398  2388  100.0  38.49  23.0675    2   \n190  1425.77  14.62  ...  8.5174  0.03  394  2388  100.0  38.45  23.1295    1   \n191  1427.20  14.62  ...  8.5113  0.03  396  2388  100.0  38.48  22.9649    0   \n\n     label1  label2  \n185       1       2  \n186       1       2  \n187       1       2  \n188       1       2  \n189       1       2  \n190       1       2  \n191       1       2  \n\n[7 rows x 29 columns]",
      "text/html": "<div>\n<style scoped>\n    .dataframe tbody tr th:only-of-type {\n        vertical-align: middle;\n    }\n\n    .dataframe tbody tr th {\n        vertical-align: top;\n    }\n\n    .dataframe thead th {\n        text-align: right;\n    }\n</style>\n<table border=\"1\" class=\"dataframe\">\n  <thead>\n    <tr style=\"text-align: right;\">\n      <th></th>\n      <th>id</th>\n      <th>cycle</th>\n      <th>setting1</th>\n      <th>setting2</th>\n      <th>setting3</th>\n      <th>s1</th>\n      <th>s2</th>\n      <th>s3</th>\n      <th>s4</th>\n      <th>s5</th>\n      <th>...</th>\n      <th>s15</th>\n      <th>s16</th>\n      <th>s17</th>\n      <th>s18</th>\n      <th>s19</th>\n      <th>s20</th>\n      <th>s21</th>\n      <th>RUL</th>\n      <th>label1</th>\n      <th>label2</th>\n    </tr>\n  </thead>\n  <tbody>\n    <tr>\n      <th>185</th>\n      <td>1</td>\n      <td>186</td>\n      <td>0.0027</td>\n      <td>-0.0003</td>\n      <td>100.0</td>\n      <td>518.67</td>\n      <td>643.51</td>\n      <td>1595.16</td>\n      <td>1426.30</td>\n      <td>14.62</td>\n      <td>...</td>\n      <td>8.5227</td>\n      <td>0.03</td>\n      <td>397</td>\n      <td>2388</td>\n      <td>100.0</td>\n      <td>38.47</td>\n      <td>23.0564</td>\n      <td>6</td>\n      <td>1</td>\n      <td>2</td>\n    </tr>\n    <tr>\n      <th>186</th>\n      <td>1</td>\n      <td>187</td>\n      <td>-0.0047</td>\n      <td>-0.0000</td>\n      <td>100.0</td>\n      <td>518.67</td>\n      <td>643.32</td>\n      <td>1592.10</td>\n      <td>1427.27</td>\n      <td>14.62</td>\n      <td>...</td>\n      <td>8.5218</td>\n      <td>0.03</td>\n      <td>396</td>\n      <td>2388</td>\n      <td>100.0</td>\n      <td>38.42</td>\n      <td>23.0822</td>\n      <td>5</td>\n      <td>1</td>\n      <td>2</td>\n    </tr>\n    <tr>\n      <th>187</th>\n      <td>1</td>\n      <td>188</td>\n      <td>-0.0067</td>\n      <td>0.0003</td>\n      <td>100.0</td>\n      <td>518.67</td>\n      <td>643.75</td>\n      <td>1602.38</td>\n      <td>1422.78</td>\n      <td>14.62</td>\n      <td>...</td>\n      <td>8.5207</td>\n      <td>0.03</td>\n      <td>396</td>\n      <td>2388</td>\n      <td>100.0</td>\n      <td>38.51</td>\n      <td>22.9588</td>\n      <td>4</td>\n      <td>1</td>\n      <td>2</td>\n    </tr>\n    <tr>\n      <th>188</th>\n      <td>1</td>\n      <td>189</td>\n      <td>-0.0006</td>\n      <td>0.0002</td>\n      <td>100.0</td>\n      <td>518.67</td>\n      <td>644.18</td>\n      <td>1596.17</td>\n      <td>1428.01</td>\n      <td>14.62</td>\n      <td>...</td>\n      <td>8.5183</td>\n      <td>0.03</td>\n      <td>395</td>\n      <td>2388</td>\n      <td>100.0</td>\n      <td>38.48</td>\n      <td>23.1127</td>\n      <td>3</td>\n      <td>1</td>\n      <td>2</td>\n    </tr>\n    <tr>\n      <th>189</th>\n      <td>1</td>\n      <td>190</td>\n      <td>-0.0027</td>\n      <td>0.0001</td>\n      <td>100.0</td>\n      <td>518.67</td>\n      <td>643.64</td>\n      <td>1599.22</td>\n      <td>1425.95</td>\n      <td>14.62</td>\n      <td>...</td>\n      <td>8.5223</td>\n      <td>0.03</td>\n      <td>398</td>\n      <td>2388</td>\n      <td>100.0</td>\n      <td>38.49</td>\n      <td>23.0675</td>\n      <td>2</td>\n      <td>1</td>\n      <td>2</td>\n    </tr>\n    <tr>\n      <th>190</th>\n      <td>1</td>\n      <td>191</td>\n      <td>-0.0000</td>\n      <td>-0.0004</td>\n      <td>100.0</td>\n      <td>518.67</td>\n      <td>643.34</td>\n      <td>1602.36</td>\n      <td>1425.77</td>\n      <td>14.62</td>\n      <td>...</td>\n      <td>8.5174</td>\n      <td>0.03</td>\n      <td>394</td>\n      <td>2388</td>\n      <td>100.0</td>\n      <td>38.45</td>\n      <td>23.1295</td>\n      <td>1</td>\n      <td>1</td>\n      <td>2</td>\n    </tr>\n    <tr>\n      <th>191</th>\n      <td>1</td>\n      <td>192</td>\n      <td>0.0009</td>\n      <td>-0.0000</td>\n      <td>100.0</td>\n      <td>518.67</td>\n      <td>643.54</td>\n      <td>1601.41</td>\n      <td>1427.20</td>\n      <td>14.62</td>\n      <td>...</td>\n      <td>8.5113</td>\n      <td>0.03</td>\n      <td>396</td>\n      <td>2388</td>\n      <td>100.0</td>\n      <td>38.48</td>\n      <td>22.9649</td>\n      <td>0</td>\n      <td>1</td>\n      <td>2</td>\n    </tr>\n  </tbody>\n</table>\n<p>7 rows × 29 columns</p>\n</div>"
     },
     "execution_count": 19,
     "metadata": {},
     "output_type": "execute_result"
    }
   ],
   "source": [
    "train_df[(train_df['id'] == 1) & (train_df['cycle'] >= 186)]"
   ],
   "metadata": {
    "collapsed": false,
    "ExecuteTime": {
     "end_time": "2023-12-03T14:51:27.655563800Z",
     "start_time": "2023-12-03T14:51:27.099661800Z"
    }
   },
   "id": "9f76098bda33b461"
  },
  {
   "cell_type": "code",
   "execution_count": 20,
   "outputs": [
    {
     "data": {
      "text/plain": "   id  cycle  setting1  setting2  setting3   s1        s2        s3        s4  \\\n0   1      1  0.459770  0.166667       0.0  0.0  0.183735  0.406802  0.309757   \n1   1      2  0.609195  0.250000       0.0  0.0  0.283133  0.453019  0.352633   \n2   1      3  0.252874  0.750000       0.0  0.0  0.343373  0.369523  0.370527   \n3   1      4  0.540230  0.500000       0.0  0.0  0.343373  0.256159  0.331195   \n4   1      5  0.390805  0.333333       0.0  0.0  0.349398  0.257467  0.404625   \n\n    s5  ...  s16       s17  s18  s19       s20       s21  RUL  label1  label2  \\\n0  0.0  ...  0.0  0.333333  0.0  0.0  0.713178  0.724662  191       0       0   \n1  0.0  ...  0.0  0.333333  0.0  0.0  0.666667  0.731014  190       0       0   \n2  0.0  ...  0.0  0.166667  0.0  0.0  0.627907  0.621375  189       0       0   \n3  0.0  ...  0.0  0.333333  0.0  0.0  0.573643  0.662386  188       0       0   \n4  0.0  ...  0.0  0.416667  0.0  0.0  0.589147  0.704502  187       0       0   \n\n   cycle_norm  \n0     0.00000  \n1     0.00277  \n2     0.00554  \n3     0.00831  \n4     0.01108  \n\n[5 rows x 30 columns]",
      "text/html": "<div>\n<style scoped>\n    .dataframe tbody tr th:only-of-type {\n        vertical-align: middle;\n    }\n\n    .dataframe tbody tr th {\n        vertical-align: top;\n    }\n\n    .dataframe thead th {\n        text-align: right;\n    }\n</style>\n<table border=\"1\" class=\"dataframe\">\n  <thead>\n    <tr style=\"text-align: right;\">\n      <th></th>\n      <th>id</th>\n      <th>cycle</th>\n      <th>setting1</th>\n      <th>setting2</th>\n      <th>setting3</th>\n      <th>s1</th>\n      <th>s2</th>\n      <th>s3</th>\n      <th>s4</th>\n      <th>s5</th>\n      <th>...</th>\n      <th>s16</th>\n      <th>s17</th>\n      <th>s18</th>\n      <th>s19</th>\n      <th>s20</th>\n      <th>s21</th>\n      <th>RUL</th>\n      <th>label1</th>\n      <th>label2</th>\n      <th>cycle_norm</th>\n    </tr>\n  </thead>\n  <tbody>\n    <tr>\n      <th>0</th>\n      <td>1</td>\n      <td>1</td>\n      <td>0.459770</td>\n      <td>0.166667</td>\n      <td>0.0</td>\n      <td>0.0</td>\n      <td>0.183735</td>\n      <td>0.406802</td>\n      <td>0.309757</td>\n      <td>0.0</td>\n      <td>...</td>\n      <td>0.0</td>\n      <td>0.333333</td>\n      <td>0.0</td>\n      <td>0.0</td>\n      <td>0.713178</td>\n      <td>0.724662</td>\n      <td>191</td>\n      <td>0</td>\n      <td>0</td>\n      <td>0.00000</td>\n    </tr>\n    <tr>\n      <th>1</th>\n      <td>1</td>\n      <td>2</td>\n      <td>0.609195</td>\n      <td>0.250000</td>\n      <td>0.0</td>\n      <td>0.0</td>\n      <td>0.283133</td>\n      <td>0.453019</td>\n      <td>0.352633</td>\n      <td>0.0</td>\n      <td>...</td>\n      <td>0.0</td>\n      <td>0.333333</td>\n      <td>0.0</td>\n      <td>0.0</td>\n      <td>0.666667</td>\n      <td>0.731014</td>\n      <td>190</td>\n      <td>0</td>\n      <td>0</td>\n      <td>0.00277</td>\n    </tr>\n    <tr>\n      <th>2</th>\n      <td>1</td>\n      <td>3</td>\n      <td>0.252874</td>\n      <td>0.750000</td>\n      <td>0.0</td>\n      <td>0.0</td>\n      <td>0.343373</td>\n      <td>0.369523</td>\n      <td>0.370527</td>\n      <td>0.0</td>\n      <td>...</td>\n      <td>0.0</td>\n      <td>0.166667</td>\n      <td>0.0</td>\n      <td>0.0</td>\n      <td>0.627907</td>\n      <td>0.621375</td>\n      <td>189</td>\n      <td>0</td>\n      <td>0</td>\n      <td>0.00554</td>\n    </tr>\n    <tr>\n      <th>3</th>\n      <td>1</td>\n      <td>4</td>\n      <td>0.540230</td>\n      <td>0.500000</td>\n      <td>0.0</td>\n      <td>0.0</td>\n      <td>0.343373</td>\n      <td>0.256159</td>\n      <td>0.331195</td>\n      <td>0.0</td>\n      <td>...</td>\n      <td>0.0</td>\n      <td>0.333333</td>\n      <td>0.0</td>\n      <td>0.0</td>\n      <td>0.573643</td>\n      <td>0.662386</td>\n      <td>188</td>\n      <td>0</td>\n      <td>0</td>\n      <td>0.00831</td>\n    </tr>\n    <tr>\n      <th>4</th>\n      <td>1</td>\n      <td>5</td>\n      <td>0.390805</td>\n      <td>0.333333</td>\n      <td>0.0</td>\n      <td>0.0</td>\n      <td>0.349398</td>\n      <td>0.257467</td>\n      <td>0.404625</td>\n      <td>0.0</td>\n      <td>...</td>\n      <td>0.0</td>\n      <td>0.416667</td>\n      <td>0.0</td>\n      <td>0.0</td>\n      <td>0.589147</td>\n      <td>0.704502</td>\n      <td>187</td>\n      <td>0</td>\n      <td>0</td>\n      <td>0.01108</td>\n    </tr>\n  </tbody>\n</table>\n<p>5 rows × 30 columns</p>\n</div>"
     },
     "execution_count": 20,
     "metadata": {},
     "output_type": "execute_result"
    }
   ],
   "source": [
    "# MinMax нормализация обучающих данных\n",
    "train_df['cycle_norm'] = train_df['cycle']  # Создание нового столбца 'cycle_norm', который копирует значения из столбца 'cycle'\n",
    "\n",
    "# Определение столбцов для нормализации, исключая ненужные столбцы\n",
    "cols_normalize = train_df.columns.difference(['id','cycle','RUL','label1','label2'])\n",
    "\n",
    "# Создание экземпляра MinMaxScaler для нормализации данных\n",
    "min_max_scaler = preprocessing.MinMaxScaler()\n",
    "\n",
    "# Нормализация выбранных столбцов с помощью метода fit_transform\n",
    "norm_train_df = pd.DataFrame(min_max_scaler.fit_transform(train_df[cols_normalize]), \n",
    "                             columns=cols_normalize, \n",
    "                             index=train_df.index)\n",
    "\n",
    "# Объединение нормализованных данных с исходными данными\n",
    "join_df = train_df[train_df.columns.difference(cols_normalize)].join(norm_train_df)\n",
    "\n",
    "# Обновление DataFrame train_df с объединенными данными и переиндексацией столбцов\n",
    "train_df = join_df.reindex(columns = train_df.columns)\n",
    "\n",
    "# Вывод первых нескольких строк DataFrame для проверки изменений\n",
    "train_df.head()"
   ],
   "metadata": {
    "collapsed": false,
    "ExecuteTime": {
     "end_time": "2023-12-03T14:51:27.657557900Z",
     "start_time": "2023-12-03T14:51:27.146536800Z"
    }
   },
   "id": "9e07ad7f08b1e6b8"
  },
  {
   "cell_type": "code",
   "execution_count": 21,
   "outputs": [
    {
     "data": {
      "text/plain": "   id  cycle  setting1  setting2  setting3   s1        s2        s3        s4  \\\n0   1      1  0.632184  0.750000       0.0  0.0  0.545181  0.310661  0.269413   \n1   1      2  0.344828  0.250000       0.0  0.0  0.150602  0.379551  0.222316   \n2   1      3  0.517241  0.583333       0.0  0.0  0.376506  0.346632  0.322248   \n3   1      4  0.741379  0.500000       0.0  0.0  0.370482  0.285154  0.408001   \n4   1      5  0.580460  0.500000       0.0  0.0  0.391566  0.352082  0.332039   \n\n    s5  ...       s13       s14       s15  s16       s17  s18  s19       s20  \\\n0  0.0  ...  0.220588  0.132160  0.308965  0.0  0.333333  0.0  0.0  0.558140   \n1  0.0  ...  0.264706  0.204768  0.213159  0.0  0.416667  0.0  0.0  0.682171   \n2  0.0  ...  0.220588  0.155640  0.458638  0.0  0.416667  0.0  0.0  0.728682   \n3  0.0  ...  0.250000  0.170090  0.257022  0.0  0.250000  0.0  0.0  0.666667   \n4  0.0  ...  0.220588  0.152751  0.300885  0.0  0.166667  0.0  0.0  0.658915   \n\n        s21  cycle_norm  \n0  0.661834     0.00000  \n1  0.686827     0.00277  \n2  0.721348     0.00554  \n3  0.662110     0.00831  \n4  0.716377     0.01108  \n\n[5 rows x 27 columns]",
      "text/html": "<div>\n<style scoped>\n    .dataframe tbody tr th:only-of-type {\n        vertical-align: middle;\n    }\n\n    .dataframe tbody tr th {\n        vertical-align: top;\n    }\n\n    .dataframe thead th {\n        text-align: right;\n    }\n</style>\n<table border=\"1\" class=\"dataframe\">\n  <thead>\n    <tr style=\"text-align: right;\">\n      <th></th>\n      <th>id</th>\n      <th>cycle</th>\n      <th>setting1</th>\n      <th>setting2</th>\n      <th>setting3</th>\n      <th>s1</th>\n      <th>s2</th>\n      <th>s3</th>\n      <th>s4</th>\n      <th>s5</th>\n      <th>...</th>\n      <th>s13</th>\n      <th>s14</th>\n      <th>s15</th>\n      <th>s16</th>\n      <th>s17</th>\n      <th>s18</th>\n      <th>s19</th>\n      <th>s20</th>\n      <th>s21</th>\n      <th>cycle_norm</th>\n    </tr>\n  </thead>\n  <tbody>\n    <tr>\n      <th>0</th>\n      <td>1</td>\n      <td>1</td>\n      <td>0.632184</td>\n      <td>0.750000</td>\n      <td>0.0</td>\n      <td>0.0</td>\n      <td>0.545181</td>\n      <td>0.310661</td>\n      <td>0.269413</td>\n      <td>0.0</td>\n      <td>...</td>\n      <td>0.220588</td>\n      <td>0.132160</td>\n      <td>0.308965</td>\n      <td>0.0</td>\n      <td>0.333333</td>\n      <td>0.0</td>\n      <td>0.0</td>\n      <td>0.558140</td>\n      <td>0.661834</td>\n      <td>0.00000</td>\n    </tr>\n    <tr>\n      <th>1</th>\n      <td>1</td>\n      <td>2</td>\n      <td>0.344828</td>\n      <td>0.250000</td>\n      <td>0.0</td>\n      <td>0.0</td>\n      <td>0.150602</td>\n      <td>0.379551</td>\n      <td>0.222316</td>\n      <td>0.0</td>\n      <td>...</td>\n      <td>0.264706</td>\n      <td>0.204768</td>\n      <td>0.213159</td>\n      <td>0.0</td>\n      <td>0.416667</td>\n      <td>0.0</td>\n      <td>0.0</td>\n      <td>0.682171</td>\n      <td>0.686827</td>\n      <td>0.00277</td>\n    </tr>\n    <tr>\n      <th>2</th>\n      <td>1</td>\n      <td>3</td>\n      <td>0.517241</td>\n      <td>0.583333</td>\n      <td>0.0</td>\n      <td>0.0</td>\n      <td>0.376506</td>\n      <td>0.346632</td>\n      <td>0.322248</td>\n      <td>0.0</td>\n      <td>...</td>\n      <td>0.220588</td>\n      <td>0.155640</td>\n      <td>0.458638</td>\n      <td>0.0</td>\n      <td>0.416667</td>\n      <td>0.0</td>\n      <td>0.0</td>\n      <td>0.728682</td>\n      <td>0.721348</td>\n      <td>0.00554</td>\n    </tr>\n    <tr>\n      <th>3</th>\n      <td>1</td>\n      <td>4</td>\n      <td>0.741379</td>\n      <td>0.500000</td>\n      <td>0.0</td>\n      <td>0.0</td>\n      <td>0.370482</td>\n      <td>0.285154</td>\n      <td>0.408001</td>\n      <td>0.0</td>\n      <td>...</td>\n      <td>0.250000</td>\n      <td>0.170090</td>\n      <td>0.257022</td>\n      <td>0.0</td>\n      <td>0.250000</td>\n      <td>0.0</td>\n      <td>0.0</td>\n      <td>0.666667</td>\n      <td>0.662110</td>\n      <td>0.00831</td>\n    </tr>\n    <tr>\n      <th>4</th>\n      <td>1</td>\n      <td>5</td>\n      <td>0.580460</td>\n      <td>0.500000</td>\n      <td>0.0</td>\n      <td>0.0</td>\n      <td>0.391566</td>\n      <td>0.352082</td>\n      <td>0.332039</td>\n      <td>0.0</td>\n      <td>...</td>\n      <td>0.220588</td>\n      <td>0.152751</td>\n      <td>0.300885</td>\n      <td>0.0</td>\n      <td>0.166667</td>\n      <td>0.0</td>\n      <td>0.0</td>\n      <td>0.658915</td>\n      <td>0.716377</td>\n      <td>0.01108</td>\n    </tr>\n  </tbody>\n</table>\n<p>5 rows × 27 columns</p>\n</div>"
     },
     "execution_count": 21,
     "metadata": {},
     "output_type": "execute_result"
    }
   ],
   "source": [
    "# MinMax нормализация тренировочных данных\n",
    "\n",
    "# Создание нового столбца 'cycle_norm', который копирует значения из столбца 'cycle' в test_df\n",
    "test_df['cycle_norm'] = test_df['cycle']\n",
    "\n",
    "# Нормализация тестовых данных test_df с помощью метода transform\n",
    "norm_test_df = pd.DataFrame(min_max_scaler.transform(test_df[cols_normalize]), \n",
    "                            columns=cols_normalize, \n",
    "                            index=test_df.index)\n",
    "\n",
    "# Объединение нормализованных данных с оставшимися данными в test_df\n",
    "test_join_df = test_df[test_df.columns.difference(cols_normalize)].join(norm_test_df)\n",
    "\n",
    "# Обновление DataFrame test_df с объединенными данными и переиндексацией столбцов\n",
    "test_df = test_join_df.reindex(columns=test_df.columns)\n",
    "\n",
    "# Сброс индексов источника данных для обучения и удаление старых индексов из test_df\n",
    "test_df = test_df.reset_index(drop=True)\n",
    "\n",
    "# Вывод первых нескольких строк DataFrame для проверки изменений\n",
    "test_df.head()"
   ],
   "metadata": {
    "collapsed": false,
    "ExecuteTime": {
     "end_time": "2023-12-03T14:51:27.661548200Z",
     "start_time": "2023-12-03T14:51:27.207448700Z"
    }
   },
   "id": "2630ab769e755bee"
  },
  {
   "cell_type": "code",
   "execution_count": 22,
   "outputs": [
    {
     "data": {
      "text/plain": "   id  cycle  setting1  setting2  setting3   s1        s2        s3        s4  \\\n0   1      1  0.632184  0.750000       0.0  0.0  0.545181  0.310661  0.269413   \n1   1      2  0.344828  0.250000       0.0  0.0  0.150602  0.379551  0.222316   \n2   1      3  0.517241  0.583333       0.0  0.0  0.376506  0.346632  0.322248   \n3   1      4  0.741379  0.500000       0.0  0.0  0.370482  0.285154  0.408001   \n4   1      5  0.580460  0.500000       0.0  0.0  0.391566  0.352082  0.332039   \n\n    s5  ...  s16       s17  s18  s19       s20       s21  cycle_norm  RUL  \\\n0  0.0  ...  0.0  0.333333  0.0  0.0  0.558140  0.661834     0.00000  142   \n1  0.0  ...  0.0  0.416667  0.0  0.0  0.682171  0.686827     0.00277  141   \n2  0.0  ...  0.0  0.416667  0.0  0.0  0.728682  0.721348     0.00554  140   \n3  0.0  ...  0.0  0.250000  0.0  0.0  0.666667  0.662110     0.00831  139   \n4  0.0  ...  0.0  0.166667  0.0  0.0  0.658915  0.716377     0.01108  138   \n\n   label1  label2  \n0       0       0  \n1       0       0  \n2       0       0  \n3       0       0  \n4       0       0  \n\n[5 rows x 30 columns]",
      "text/html": "<div>\n<style scoped>\n    .dataframe tbody tr th:only-of-type {\n        vertical-align: middle;\n    }\n\n    .dataframe tbody tr th {\n        vertical-align: top;\n    }\n\n    .dataframe thead th {\n        text-align: right;\n    }\n</style>\n<table border=\"1\" class=\"dataframe\">\n  <thead>\n    <tr style=\"text-align: right;\">\n      <th></th>\n      <th>id</th>\n      <th>cycle</th>\n      <th>setting1</th>\n      <th>setting2</th>\n      <th>setting3</th>\n      <th>s1</th>\n      <th>s2</th>\n      <th>s3</th>\n      <th>s4</th>\n      <th>s5</th>\n      <th>...</th>\n      <th>s16</th>\n      <th>s17</th>\n      <th>s18</th>\n      <th>s19</th>\n      <th>s20</th>\n      <th>s21</th>\n      <th>cycle_norm</th>\n      <th>RUL</th>\n      <th>label1</th>\n      <th>label2</th>\n    </tr>\n  </thead>\n  <tbody>\n    <tr>\n      <th>0</th>\n      <td>1</td>\n      <td>1</td>\n      <td>0.632184</td>\n      <td>0.750000</td>\n      <td>0.0</td>\n      <td>0.0</td>\n      <td>0.545181</td>\n      <td>0.310661</td>\n      <td>0.269413</td>\n      <td>0.0</td>\n      <td>...</td>\n      <td>0.0</td>\n      <td>0.333333</td>\n      <td>0.0</td>\n      <td>0.0</td>\n      <td>0.558140</td>\n      <td>0.661834</td>\n      <td>0.00000</td>\n      <td>142</td>\n      <td>0</td>\n      <td>0</td>\n    </tr>\n    <tr>\n      <th>1</th>\n      <td>1</td>\n      <td>2</td>\n      <td>0.344828</td>\n      <td>0.250000</td>\n      <td>0.0</td>\n      <td>0.0</td>\n      <td>0.150602</td>\n      <td>0.379551</td>\n      <td>0.222316</td>\n      <td>0.0</td>\n      <td>...</td>\n      <td>0.0</td>\n      <td>0.416667</td>\n      <td>0.0</td>\n      <td>0.0</td>\n      <td>0.682171</td>\n      <td>0.686827</td>\n      <td>0.00277</td>\n      <td>141</td>\n      <td>0</td>\n      <td>0</td>\n    </tr>\n    <tr>\n      <th>2</th>\n      <td>1</td>\n      <td>3</td>\n      <td>0.517241</td>\n      <td>0.583333</td>\n      <td>0.0</td>\n      <td>0.0</td>\n      <td>0.376506</td>\n      <td>0.346632</td>\n      <td>0.322248</td>\n      <td>0.0</td>\n      <td>...</td>\n      <td>0.0</td>\n      <td>0.416667</td>\n      <td>0.0</td>\n      <td>0.0</td>\n      <td>0.728682</td>\n      <td>0.721348</td>\n      <td>0.00554</td>\n      <td>140</td>\n      <td>0</td>\n      <td>0</td>\n    </tr>\n    <tr>\n      <th>3</th>\n      <td>1</td>\n      <td>4</td>\n      <td>0.741379</td>\n      <td>0.500000</td>\n      <td>0.0</td>\n      <td>0.0</td>\n      <td>0.370482</td>\n      <td>0.285154</td>\n      <td>0.408001</td>\n      <td>0.0</td>\n      <td>...</td>\n      <td>0.0</td>\n      <td>0.250000</td>\n      <td>0.0</td>\n      <td>0.0</td>\n      <td>0.666667</td>\n      <td>0.662110</td>\n      <td>0.00831</td>\n      <td>139</td>\n      <td>0</td>\n      <td>0</td>\n    </tr>\n    <tr>\n      <th>4</th>\n      <td>1</td>\n      <td>5</td>\n      <td>0.580460</td>\n      <td>0.500000</td>\n      <td>0.0</td>\n      <td>0.0</td>\n      <td>0.391566</td>\n      <td>0.352082</td>\n      <td>0.332039</td>\n      <td>0.0</td>\n      <td>...</td>\n      <td>0.0</td>\n      <td>0.166667</td>\n      <td>0.0</td>\n      <td>0.0</td>\n      <td>0.658915</td>\n      <td>0.716377</td>\n      <td>0.01108</td>\n      <td>138</td>\n      <td>0</td>\n      <td>0</td>\n    </tr>\n  </tbody>\n</table>\n<p>5 rows × 30 columns</p>\n</div>"
     },
     "execution_count": 22,
     "metadata": {},
     "output_type": "execute_result"
    }
   ],
   "source": [
    "# Создание столбца RUL и столбцов меток для тестировочных данных\n",
    "\n",
    "# Создание столбца 'max' для тестовых данных\n",
    "rul = pd.DataFrame(test_df.groupby('id')['cycle'].max()).reset_index()\n",
    "\n",
    "# Задание названий столбцов для DataFrame 'rul'\n",
    "rul.columns = ['id', 'max']\n",
    "\n",
    "# Изменение названия столбца в DataFrame 'truth_df'\n",
    "truth_df.columns = ['more']\n",
    "\n",
    "# Создание столбца 'id' в DataFrame 'truth_df' с помощью индексов и увеличение его значений на 1\n",
    "truth_df['id'] = truth_df.index + 1\n",
    "\n",
    "# Создание столбца 'max' в DataFrame 'truth_df', который является суммой 'max' из DataFrame 'rul' и столбца 'more' из DataFrame 'truth_df'\n",
    "truth_df['max'] = rul['max'] + truth_df['more']\n",
    "\n",
    "# Удаление столбца 'more' из DataFrame 'truth_df'\n",
    "truth_df.drop('more', axis=1, inplace=True)\n",
    "\n",
    "# Генерация столбца 'RUL' в test_df, который представляет разницу между 'max' и 'cycle'\n",
    "test_df = test_df.merge(truth_df, on=['id'], how='left')\n",
    "test_df['RUL'] = test_df['max'] - test_df['cycle']\n",
    "\n",
    "# Удаление столбца 'max' из DataFrame 'test_df'\n",
    "test_df.drop('max', axis=1, inplace=True)\n",
    "\n",
    "# Генерация столбцов меток 'label1' и 'label2' для тестовых данных, используя пороговые значения w0 и w1\n",
    "test_df['label1'] = np.where(test_df['RUL'] <= w1, 1, 0)  # Значение 1, если 'RUL' меньше или равно w1, в противном случае 0\n",
    "test_df['label2'] = test_df['label1']  # Копирование значений из 'label1' в 'label2'\n",
    "\n",
    "# Обновление значений в столбце 'label2'. Если 'RUL' меньше или равно w0, то значение становится 2\n",
    "test_df.loc[test_df['RUL'] <= w0, 'label2'] = 2\n",
    "\n",
    "# Вывод первых нескольких строк DataFrame для проверки изменений\n",
    "test_df.head()"
   ],
   "metadata": {
    "collapsed": false,
    "ExecuteTime": {
     "end_time": "2023-12-03T14:51:27.666534200Z",
     "start_time": "2023-12-03T14:51:27.299243700Z"
    }
   },
   "id": "8901c5910ebd0774"
  },
  {
   "cell_type": "code",
   "execution_count": 23,
   "outputs": [
    {
     "data": {
      "text/plain": "    id  cycle  setting1  setting2  setting3   s1        s2        s3  \\\n24   1     25  0.660920  0.250000       0.0  0.0  0.313253  0.248310   \n25   1     26  0.770115  0.083333       0.0  0.0  0.382530  0.266841   \n26   1     27  0.459770  0.583333       0.0  0.0  0.262048  0.340310   \n27   1     28  0.626437  0.916667       0.0  0.0  0.216867  0.505995   \n28   1     29  0.580460  0.583333       0.0  0.0  0.222892  0.351210   \n29   1     30  0.356322  0.833333       0.0  0.0  0.475904  0.320035   \n30   1     31  0.465517  0.833333       0.0  0.0  0.412651  0.221932   \n\n          s4   s5  ...  s16       s17  s18  s19       s20       s21  \\\n24  0.303511  0.0  ...  0.0  0.416667  0.0  0.0  0.635659  0.668738   \n25  0.435854  0.0  ...  0.0  0.250000  0.0  0.0  0.488372  0.637255   \n26  0.304862  0.0  ...  0.0  0.333333  0.0  0.0  0.565891  0.688898   \n27  0.321404  0.0  ...  0.0  0.333333  0.0  0.0  0.534884  0.629660   \n28  0.267725  0.0  ...  0.0  0.333333  0.0  0.0  0.682171  0.646092   \n29  0.316003  0.0  ...  0.0  0.250000  0.0  0.0  0.736434  0.707954   \n30  0.281229  0.0  ...  0.0  0.416667  0.0  0.0  0.519380  0.636564   \n\n    cycle_norm  RUL  label1  label2  \n24    0.066482  118       0       0  \n25    0.069252  117       0       0  \n26    0.072022  116       0       0  \n27    0.074792  115       0       0  \n28    0.077562  114       0       0  \n29    0.080332  113       0       0  \n30    0.083102  112       0       0  \n\n[7 rows x 30 columns]",
      "text/html": "<div>\n<style scoped>\n    .dataframe tbody tr th:only-of-type {\n        vertical-align: middle;\n    }\n\n    .dataframe tbody tr th {\n        vertical-align: top;\n    }\n\n    .dataframe thead th {\n        text-align: right;\n    }\n</style>\n<table border=\"1\" class=\"dataframe\">\n  <thead>\n    <tr style=\"text-align: right;\">\n      <th></th>\n      <th>id</th>\n      <th>cycle</th>\n      <th>setting1</th>\n      <th>setting2</th>\n      <th>setting3</th>\n      <th>s1</th>\n      <th>s2</th>\n      <th>s3</th>\n      <th>s4</th>\n      <th>s5</th>\n      <th>...</th>\n      <th>s16</th>\n      <th>s17</th>\n      <th>s18</th>\n      <th>s19</th>\n      <th>s20</th>\n      <th>s21</th>\n      <th>cycle_norm</th>\n      <th>RUL</th>\n      <th>label1</th>\n      <th>label2</th>\n    </tr>\n  </thead>\n  <tbody>\n    <tr>\n      <th>24</th>\n      <td>1</td>\n      <td>25</td>\n      <td>0.660920</td>\n      <td>0.250000</td>\n      <td>0.0</td>\n      <td>0.0</td>\n      <td>0.313253</td>\n      <td>0.248310</td>\n      <td>0.303511</td>\n      <td>0.0</td>\n      <td>...</td>\n      <td>0.0</td>\n      <td>0.416667</td>\n      <td>0.0</td>\n      <td>0.0</td>\n      <td>0.635659</td>\n      <td>0.668738</td>\n      <td>0.066482</td>\n      <td>118</td>\n      <td>0</td>\n      <td>0</td>\n    </tr>\n    <tr>\n      <th>25</th>\n      <td>1</td>\n      <td>26</td>\n      <td>0.770115</td>\n      <td>0.083333</td>\n      <td>0.0</td>\n      <td>0.0</td>\n      <td>0.382530</td>\n      <td>0.266841</td>\n      <td>0.435854</td>\n      <td>0.0</td>\n      <td>...</td>\n      <td>0.0</td>\n      <td>0.250000</td>\n      <td>0.0</td>\n      <td>0.0</td>\n      <td>0.488372</td>\n      <td>0.637255</td>\n      <td>0.069252</td>\n      <td>117</td>\n      <td>0</td>\n      <td>0</td>\n    </tr>\n    <tr>\n      <th>26</th>\n      <td>1</td>\n      <td>27</td>\n      <td>0.459770</td>\n      <td>0.583333</td>\n      <td>0.0</td>\n      <td>0.0</td>\n      <td>0.262048</td>\n      <td>0.340310</td>\n      <td>0.304862</td>\n      <td>0.0</td>\n      <td>...</td>\n      <td>0.0</td>\n      <td>0.333333</td>\n      <td>0.0</td>\n      <td>0.0</td>\n      <td>0.565891</td>\n      <td>0.688898</td>\n      <td>0.072022</td>\n      <td>116</td>\n      <td>0</td>\n      <td>0</td>\n    </tr>\n    <tr>\n      <th>27</th>\n      <td>1</td>\n      <td>28</td>\n      <td>0.626437</td>\n      <td>0.916667</td>\n      <td>0.0</td>\n      <td>0.0</td>\n      <td>0.216867</td>\n      <td>0.505995</td>\n      <td>0.321404</td>\n      <td>0.0</td>\n      <td>...</td>\n      <td>0.0</td>\n      <td>0.333333</td>\n      <td>0.0</td>\n      <td>0.0</td>\n      <td>0.534884</td>\n      <td>0.629660</td>\n      <td>0.074792</td>\n      <td>115</td>\n      <td>0</td>\n      <td>0</td>\n    </tr>\n    <tr>\n      <th>28</th>\n      <td>1</td>\n      <td>29</td>\n      <td>0.580460</td>\n      <td>0.583333</td>\n      <td>0.0</td>\n      <td>0.0</td>\n      <td>0.222892</td>\n      <td>0.351210</td>\n      <td>0.267725</td>\n      <td>0.0</td>\n      <td>...</td>\n      <td>0.0</td>\n      <td>0.333333</td>\n      <td>0.0</td>\n      <td>0.0</td>\n      <td>0.682171</td>\n      <td>0.646092</td>\n      <td>0.077562</td>\n      <td>114</td>\n      <td>0</td>\n      <td>0</td>\n    </tr>\n    <tr>\n      <th>29</th>\n      <td>1</td>\n      <td>30</td>\n      <td>0.356322</td>\n      <td>0.833333</td>\n      <td>0.0</td>\n      <td>0.0</td>\n      <td>0.475904</td>\n      <td>0.320035</td>\n      <td>0.316003</td>\n      <td>0.0</td>\n      <td>...</td>\n      <td>0.0</td>\n      <td>0.250000</td>\n      <td>0.0</td>\n      <td>0.0</td>\n      <td>0.736434</td>\n      <td>0.707954</td>\n      <td>0.080332</td>\n      <td>113</td>\n      <td>0</td>\n      <td>0</td>\n    </tr>\n    <tr>\n      <th>30</th>\n      <td>1</td>\n      <td>31</td>\n      <td>0.465517</td>\n      <td>0.833333</td>\n      <td>0.0</td>\n      <td>0.0</td>\n      <td>0.412651</td>\n      <td>0.221932</td>\n      <td>0.281229</td>\n      <td>0.0</td>\n      <td>...</td>\n      <td>0.0</td>\n      <td>0.416667</td>\n      <td>0.0</td>\n      <td>0.0</td>\n      <td>0.519380</td>\n      <td>0.636564</td>\n      <td>0.083102</td>\n      <td>112</td>\n      <td>0</td>\n      <td>0</td>\n    </tr>\n  </tbody>\n</table>\n<p>7 rows × 30 columns</p>\n</div>"
     },
     "execution_count": 23,
     "metadata": {},
     "output_type": "execute_result"
    }
   ],
   "source": [
    "test_df[(test_df['id'] == 1) & (test_df['cycle'] >= 25)]"
   ],
   "metadata": {
    "collapsed": false,
    "ExecuteTime": {
     "end_time": "2023-12-03T14:51:27.668529100Z",
     "start_time": "2023-12-03T14:51:27.363072600Z"
    }
   },
   "id": "2f2b83c8ac48cd2b"
  },
  {
   "cell_type": "code",
   "execution_count": 24,
   "outputs": [],
   "source": [
    "# Выбираем большой размер окна в 50 циклов\n",
    "sequence_length = 50"
   ],
   "metadata": {
    "collapsed": false,
    "ExecuteTime": {
     "end_time": "2023-12-03T14:51:27.668529100Z",
     "start_time": "2023-12-03T14:51:27.412939400Z"
    }
   },
   "id": "d70f7629ef2c66d6"
  },
  {
   "cell_type": "code",
   "execution_count": 25,
   "outputs": [],
   "source": [
    "# Функция для преобразования признаков в формат (образцы, временные шаги, признаки)\n",
    "def gen_sequence(id_df, seq_length, seq_cols):\n",
    "    \"\"\"\n",
    "    Функция gen_sequence принимает следующие аргументы:\n",
    "    id_df: DataFrame, который содержит данные для конкретного идентификатора\n",
    "    seq_length: длина последовательности\n",
    "    seq_cols: список столбцов, используемых для создания последовательности\n",
    "    \"\"\"\n",
    "    \"\"\" Рассматриваются только последовательности, которые соответствуют длине окна, без использования заполнения.\n",
    "    Это означает, что при тестировании нам нужно исключить те, которые находятся ниже длины окна. \n",
    "    Альтернативой могло бы быть заполнение последовательностей, чтобы мы могли использовать более короткие \"\"\"\n",
    "\n",
    "    data_array = id_df[seq_cols].values  # Извлечение значений из DataFrame в массив\n",
    "    num_elements = data_array.shape[0]  # Получение количества элементов в массиве\n",
    "\n",
    "    # Цикл для создания последовательностей\n",
    "    for start, stop in zip(range(0, num_elements-seq_length), range(seq_length, num_elements)):\n",
    "        yield data_array[start:stop, :]\n",
    "        # Генерация последовательности от start до stop из массива данных"
   ],
   "metadata": {
    "collapsed": false,
    "ExecuteTime": {
     "end_time": "2023-12-03T14:51:27.668529100Z",
     "start_time": "2023-12-03T14:51:27.423909300Z"
    }
   },
   "id": "488a6dd816d88089"
  },
  {
   "cell_type": "code",
   "execution_count": 26,
   "outputs": [],
   "source": [
    "# Определение столбцов признаков\n",
    "sensor_cols = ['s' + str(i) for i in range(1,22)]  # Генерация списка столбцов 's1' до 's21'\n",
    "sequence_cols = ['setting1', 'setting2', 'setting3', 'cycle_norm']  # Определение списка столбцов 'setting1', 'setting2', 'setting3' и 'cycle_norm'\n",
    "\n",
    "sequence_cols.extend(sensor_cols)  # Добавление сгенерированных столбцов 's1' до 's21' к списку sequence_cols"
   ],
   "metadata": {
    "collapsed": false,
    "ExecuteTime": {
     "end_time": "2023-12-03T14:51:27.668529100Z",
     "start_time": "2023-12-03T14:51:27.455333500Z"
    }
   },
   "id": "bd6164b800073b17"
  },
  {
   "cell_type": "code",
   "execution_count": 27,
   "outputs": [],
   "source": [
    "# Генератор для последовательностей\n",
    "seq_gen = (list(gen_sequence(train_df[train_df['id']==id], sequence_length, sequence_cols)) \n",
    "           for id in train_df['id'].unique())"
   ],
   "metadata": {
    "collapsed": false,
    "ExecuteTime": {
     "end_time": "2023-12-03T14:51:27.669527100Z",
     "start_time": "2023-12-03T14:51:27.470293500Z"
    }
   },
   "id": "5cf28b0004186a4b"
  },
  {
   "cell_type": "code",
   "execution_count": 28,
   "outputs": [
    {
     "data": {
      "text/plain": "(15631, 50, 25)"
     },
     "execution_count": 28,
     "metadata": {},
     "output_type": "execute_result"
    }
   ],
   "source": [
    "# Генерация последовательностей и преобразование их в массив numpy\n",
    "seq_array = np.concatenate(list(seq_gen)).astype(np.float32)  # Объединение списка последовательностей в один массив numpy и преобразование в тип данных np.float32\n",
    "seq_array.shape  # Вывод формы массива"
   ],
   "metadata": {
    "collapsed": false,
    "ExecuteTime": {
     "end_time": "2023-12-03T14:51:28.342475900Z",
     "start_time": "2023-12-03T14:51:27.485252900Z"
    }
   },
   "id": "f2f4546dfe0926ca"
  },
  {
   "cell_type": "code",
   "execution_count": 29,
   "outputs": [
    {
     "data": {
      "text/plain": "     setting1  setting2  setting3  cycle_norm   s1        s2        s3  \\\n0    0.459770  0.166667       0.0    0.000000  0.0  0.183735  0.406802   \n1    0.609195  0.250000       0.0    0.002770  0.0  0.283133  0.453019   \n2    0.252874  0.750000       0.0    0.005540  0.0  0.343373  0.369523   \n3    0.540230  0.500000       0.0    0.008310  0.0  0.343373  0.256159   \n4    0.390805  0.333333       0.0    0.011080  0.0  0.349398  0.257467   \n..        ...       ...       ...         ...  ...       ...       ...   \n187  0.114943  0.750000       0.0    0.518006  0.0  0.765060  0.683235   \n188  0.465517  0.666667       0.0    0.520776  0.0  0.894578  0.547853   \n189  0.344828  0.583333       0.0    0.523546  0.0  0.731928  0.614345   \n190  0.500000  0.166667       0.0    0.526316  0.0  0.641566  0.682799   \n191  0.551724  0.500000       0.0    0.529086  0.0  0.701807  0.662089   \n\n           s4   s5   s6  ...       s12       s13       s14       s15  s16  \\\n0    0.309757  0.0  1.0  ...  0.633262  0.205882  0.199608  0.363986  0.0   \n1    0.352633  0.0  1.0  ...  0.765458  0.279412  0.162813  0.411312  0.0   \n2    0.370527  0.0  1.0  ...  0.795309  0.220588  0.171793  0.357445  0.0   \n3    0.331195  0.0  1.0  ...  0.889126  0.294118  0.174889  0.166603  0.0   \n4    0.404625  0.0  1.0  ...  0.746269  0.235294  0.174734  0.402078  0.0   \n..        ...  ...  ...  ...       ...       ...       ...       ...  ...   \n187  0.684166  0.0  1.0  ...  0.234542  0.514706  0.091599  0.753367  0.0   \n188  0.772451  0.0  1.0  ...  0.189765  0.661765  0.090670  0.744132  0.0   \n189  0.737677  0.0  1.0  ...  0.287846  0.691176  0.065229  0.759523  0.0   \n190  0.734639  0.0  1.0  ...  0.187633  0.617647  0.075704  0.740669  0.0   \n191  0.758778  0.0  1.0  ...  0.296375  0.647059  0.056714  0.717199  0.0   \n\n          s17  s18  s19       s20       s21  \n0    0.333333  0.0  0.0  0.713178  0.724662  \n1    0.333333  0.0  0.0  0.666667  0.731014  \n2    0.166667  0.0  0.0  0.627907  0.621375  \n3    0.333333  0.0  0.0  0.573643  0.662386  \n4    0.416667  0.0  0.0  0.589147  0.704502  \n..        ...  ...  ...       ...       ...  \n187  0.666667  0.0  0.0  0.286822  0.089202  \n188  0.583333  0.0  0.0  0.263566  0.301712  \n189  0.833333  0.0  0.0  0.271318  0.239299  \n190  0.500000  0.0  0.0  0.240310  0.324910  \n191  0.666667  0.0  0.0  0.263566  0.097625  \n\n[192 rows x 25 columns]",
      "text/html": "<div>\n<style scoped>\n    .dataframe tbody tr th:only-of-type {\n        vertical-align: middle;\n    }\n\n    .dataframe tbody tr th {\n        vertical-align: top;\n    }\n\n    .dataframe thead th {\n        text-align: right;\n    }\n</style>\n<table border=\"1\" class=\"dataframe\">\n  <thead>\n    <tr style=\"text-align: right;\">\n      <th></th>\n      <th>setting1</th>\n      <th>setting2</th>\n      <th>setting3</th>\n      <th>cycle_norm</th>\n      <th>s1</th>\n      <th>s2</th>\n      <th>s3</th>\n      <th>s4</th>\n      <th>s5</th>\n      <th>s6</th>\n      <th>...</th>\n      <th>s12</th>\n      <th>s13</th>\n      <th>s14</th>\n      <th>s15</th>\n      <th>s16</th>\n      <th>s17</th>\n      <th>s18</th>\n      <th>s19</th>\n      <th>s20</th>\n      <th>s21</th>\n    </tr>\n  </thead>\n  <tbody>\n    <tr>\n      <th>0</th>\n      <td>0.459770</td>\n      <td>0.166667</td>\n      <td>0.0</td>\n      <td>0.000000</td>\n      <td>0.0</td>\n      <td>0.183735</td>\n      <td>0.406802</td>\n      <td>0.309757</td>\n      <td>0.0</td>\n      <td>1.0</td>\n      <td>...</td>\n      <td>0.633262</td>\n      <td>0.205882</td>\n      <td>0.199608</td>\n      <td>0.363986</td>\n      <td>0.0</td>\n      <td>0.333333</td>\n      <td>0.0</td>\n      <td>0.0</td>\n      <td>0.713178</td>\n      <td>0.724662</td>\n    </tr>\n    <tr>\n      <th>1</th>\n      <td>0.609195</td>\n      <td>0.250000</td>\n      <td>0.0</td>\n      <td>0.002770</td>\n      <td>0.0</td>\n      <td>0.283133</td>\n      <td>0.453019</td>\n      <td>0.352633</td>\n      <td>0.0</td>\n      <td>1.0</td>\n      <td>...</td>\n      <td>0.765458</td>\n      <td>0.279412</td>\n      <td>0.162813</td>\n      <td>0.411312</td>\n      <td>0.0</td>\n      <td>0.333333</td>\n      <td>0.0</td>\n      <td>0.0</td>\n      <td>0.666667</td>\n      <td>0.731014</td>\n    </tr>\n    <tr>\n      <th>2</th>\n      <td>0.252874</td>\n      <td>0.750000</td>\n      <td>0.0</td>\n      <td>0.005540</td>\n      <td>0.0</td>\n      <td>0.343373</td>\n      <td>0.369523</td>\n      <td>0.370527</td>\n      <td>0.0</td>\n      <td>1.0</td>\n      <td>...</td>\n      <td>0.795309</td>\n      <td>0.220588</td>\n      <td>0.171793</td>\n      <td>0.357445</td>\n      <td>0.0</td>\n      <td>0.166667</td>\n      <td>0.0</td>\n      <td>0.0</td>\n      <td>0.627907</td>\n      <td>0.621375</td>\n    </tr>\n    <tr>\n      <th>3</th>\n      <td>0.540230</td>\n      <td>0.500000</td>\n      <td>0.0</td>\n      <td>0.008310</td>\n      <td>0.0</td>\n      <td>0.343373</td>\n      <td>0.256159</td>\n      <td>0.331195</td>\n      <td>0.0</td>\n      <td>1.0</td>\n      <td>...</td>\n      <td>0.889126</td>\n      <td>0.294118</td>\n      <td>0.174889</td>\n      <td>0.166603</td>\n      <td>0.0</td>\n      <td>0.333333</td>\n      <td>0.0</td>\n      <td>0.0</td>\n      <td>0.573643</td>\n      <td>0.662386</td>\n    </tr>\n    <tr>\n      <th>4</th>\n      <td>0.390805</td>\n      <td>0.333333</td>\n      <td>0.0</td>\n      <td>0.011080</td>\n      <td>0.0</td>\n      <td>0.349398</td>\n      <td>0.257467</td>\n      <td>0.404625</td>\n      <td>0.0</td>\n      <td>1.0</td>\n      <td>...</td>\n      <td>0.746269</td>\n      <td>0.235294</td>\n      <td>0.174734</td>\n      <td>0.402078</td>\n      <td>0.0</td>\n      <td>0.416667</td>\n      <td>0.0</td>\n      <td>0.0</td>\n      <td>0.589147</td>\n      <td>0.704502</td>\n    </tr>\n    <tr>\n      <th>...</th>\n      <td>...</td>\n      <td>...</td>\n      <td>...</td>\n      <td>...</td>\n      <td>...</td>\n      <td>...</td>\n      <td>...</td>\n      <td>...</td>\n      <td>...</td>\n      <td>...</td>\n      <td>...</td>\n      <td>...</td>\n      <td>...</td>\n      <td>...</td>\n      <td>...</td>\n      <td>...</td>\n      <td>...</td>\n      <td>...</td>\n      <td>...</td>\n      <td>...</td>\n      <td>...</td>\n    </tr>\n    <tr>\n      <th>187</th>\n      <td>0.114943</td>\n      <td>0.750000</td>\n      <td>0.0</td>\n      <td>0.518006</td>\n      <td>0.0</td>\n      <td>0.765060</td>\n      <td>0.683235</td>\n      <td>0.684166</td>\n      <td>0.0</td>\n      <td>1.0</td>\n      <td>...</td>\n      <td>0.234542</td>\n      <td>0.514706</td>\n      <td>0.091599</td>\n      <td>0.753367</td>\n      <td>0.0</td>\n      <td>0.666667</td>\n      <td>0.0</td>\n      <td>0.0</td>\n      <td>0.286822</td>\n      <td>0.089202</td>\n    </tr>\n    <tr>\n      <th>188</th>\n      <td>0.465517</td>\n      <td>0.666667</td>\n      <td>0.0</td>\n      <td>0.520776</td>\n      <td>0.0</td>\n      <td>0.894578</td>\n      <td>0.547853</td>\n      <td>0.772451</td>\n      <td>0.0</td>\n      <td>1.0</td>\n      <td>...</td>\n      <td>0.189765</td>\n      <td>0.661765</td>\n      <td>0.090670</td>\n      <td>0.744132</td>\n      <td>0.0</td>\n      <td>0.583333</td>\n      <td>0.0</td>\n      <td>0.0</td>\n      <td>0.263566</td>\n      <td>0.301712</td>\n    </tr>\n    <tr>\n      <th>189</th>\n      <td>0.344828</td>\n      <td>0.583333</td>\n      <td>0.0</td>\n      <td>0.523546</td>\n      <td>0.0</td>\n      <td>0.731928</td>\n      <td>0.614345</td>\n      <td>0.737677</td>\n      <td>0.0</td>\n      <td>1.0</td>\n      <td>...</td>\n      <td>0.287846</td>\n      <td>0.691176</td>\n      <td>0.065229</td>\n      <td>0.759523</td>\n      <td>0.0</td>\n      <td>0.833333</td>\n      <td>0.0</td>\n      <td>0.0</td>\n      <td>0.271318</td>\n      <td>0.239299</td>\n    </tr>\n    <tr>\n      <th>190</th>\n      <td>0.500000</td>\n      <td>0.166667</td>\n      <td>0.0</td>\n      <td>0.526316</td>\n      <td>0.0</td>\n      <td>0.641566</td>\n      <td>0.682799</td>\n      <td>0.734639</td>\n      <td>0.0</td>\n      <td>1.0</td>\n      <td>...</td>\n      <td>0.187633</td>\n      <td>0.617647</td>\n      <td>0.075704</td>\n      <td>0.740669</td>\n      <td>0.0</td>\n      <td>0.500000</td>\n      <td>0.0</td>\n      <td>0.0</td>\n      <td>0.240310</td>\n      <td>0.324910</td>\n    </tr>\n    <tr>\n      <th>191</th>\n      <td>0.551724</td>\n      <td>0.500000</td>\n      <td>0.0</td>\n      <td>0.529086</td>\n      <td>0.0</td>\n      <td>0.701807</td>\n      <td>0.662089</td>\n      <td>0.758778</td>\n      <td>0.0</td>\n      <td>1.0</td>\n      <td>...</td>\n      <td>0.296375</td>\n      <td>0.647059</td>\n      <td>0.056714</td>\n      <td>0.717199</td>\n      <td>0.0</td>\n      <td>0.666667</td>\n      <td>0.0</td>\n      <td>0.0</td>\n      <td>0.263566</td>\n      <td>0.097625</td>\n    </tr>\n  </tbody>\n</table>\n<p>192 rows × 25 columns</p>\n</div>"
     },
     "execution_count": 29,
     "metadata": {},
     "output_type": "execute_result"
    }
   ],
   "source": [
    "train_df[train_df['id']==1][sequence_cols]"
   ],
   "metadata": {
    "collapsed": false,
    "ExecuteTime": {
     "end_time": "2023-12-03T14:51:28.478153200Z",
     "start_time": "2023-12-03T14:51:27.914936500Z"
    }
   },
   "id": "e597631eb3dcb041"
  },
  {
   "cell_type": "code",
   "execution_count": 30,
   "outputs": [
    {
     "data": {
      "text/plain": "     id  cycle  setting1  setting2  setting3   s1        s2        s3  \\\n0     1      1  0.459770  0.166667       0.0  0.0  0.183735  0.406802   \n1     1      2  0.609195  0.250000       0.0  0.0  0.283133  0.453019   \n2     1      3  0.252874  0.750000       0.0  0.0  0.343373  0.369523   \n3     1      4  0.540230  0.500000       0.0  0.0  0.343373  0.256159   \n4     1      5  0.390805  0.333333       0.0  0.0  0.349398  0.257467   \n..   ..    ...       ...       ...       ...  ...       ...       ...   \n187   1    188  0.114943  0.750000       0.0  0.0  0.765060  0.683235   \n188   1    189  0.465517  0.666667       0.0  0.0  0.894578  0.547853   \n189   1    190  0.344828  0.583333       0.0  0.0  0.731928  0.614345   \n190   1    191  0.500000  0.166667       0.0  0.0  0.641566  0.682799   \n191   1    192  0.551724  0.500000       0.0  0.0  0.701807  0.662089   \n\n           s4   s5  ...  s16       s17  s18  s19       s20       s21  RUL  \\\n0    0.309757  0.0  ...  0.0  0.333333  0.0  0.0  0.713178  0.724662  191   \n1    0.352633  0.0  ...  0.0  0.333333  0.0  0.0  0.666667  0.731014  190   \n2    0.370527  0.0  ...  0.0  0.166667  0.0  0.0  0.627907  0.621375  189   \n3    0.331195  0.0  ...  0.0  0.333333  0.0  0.0  0.573643  0.662386  188   \n4    0.404625  0.0  ...  0.0  0.416667  0.0  0.0  0.589147  0.704502  187   \n..        ...  ...  ...  ...       ...  ...  ...       ...       ...  ...   \n187  0.684166  0.0  ...  0.0  0.666667  0.0  0.0  0.286822  0.089202    4   \n188  0.772451  0.0  ...  0.0  0.583333  0.0  0.0  0.263566  0.301712    3   \n189  0.737677  0.0  ...  0.0  0.833333  0.0  0.0  0.271318  0.239299    2   \n190  0.734639  0.0  ...  0.0  0.500000  0.0  0.0  0.240310  0.324910    1   \n191  0.758778  0.0  ...  0.0  0.666667  0.0  0.0  0.263566  0.097625    0   \n\n     label1  label2  cycle_norm  \n0         0       0    0.000000  \n1         0       0    0.002770  \n2         0       0    0.005540  \n3         0       0    0.008310  \n4         0       0    0.011080  \n..      ...     ...         ...  \n187       1       2    0.518006  \n188       1       2    0.520776  \n189       1       2    0.523546  \n190       1       2    0.526316  \n191       1       2    0.529086  \n\n[192 rows x 30 columns]",
      "text/html": "<div>\n<style scoped>\n    .dataframe tbody tr th:only-of-type {\n        vertical-align: middle;\n    }\n\n    .dataframe tbody tr th {\n        vertical-align: top;\n    }\n\n    .dataframe thead th {\n        text-align: right;\n    }\n</style>\n<table border=\"1\" class=\"dataframe\">\n  <thead>\n    <tr style=\"text-align: right;\">\n      <th></th>\n      <th>id</th>\n      <th>cycle</th>\n      <th>setting1</th>\n      <th>setting2</th>\n      <th>setting3</th>\n      <th>s1</th>\n      <th>s2</th>\n      <th>s3</th>\n      <th>s4</th>\n      <th>s5</th>\n      <th>...</th>\n      <th>s16</th>\n      <th>s17</th>\n      <th>s18</th>\n      <th>s19</th>\n      <th>s20</th>\n      <th>s21</th>\n      <th>RUL</th>\n      <th>label1</th>\n      <th>label2</th>\n      <th>cycle_norm</th>\n    </tr>\n  </thead>\n  <tbody>\n    <tr>\n      <th>0</th>\n      <td>1</td>\n      <td>1</td>\n      <td>0.459770</td>\n      <td>0.166667</td>\n      <td>0.0</td>\n      <td>0.0</td>\n      <td>0.183735</td>\n      <td>0.406802</td>\n      <td>0.309757</td>\n      <td>0.0</td>\n      <td>...</td>\n      <td>0.0</td>\n      <td>0.333333</td>\n      <td>0.0</td>\n      <td>0.0</td>\n      <td>0.713178</td>\n      <td>0.724662</td>\n      <td>191</td>\n      <td>0</td>\n      <td>0</td>\n      <td>0.000000</td>\n    </tr>\n    <tr>\n      <th>1</th>\n      <td>1</td>\n      <td>2</td>\n      <td>0.609195</td>\n      <td>0.250000</td>\n      <td>0.0</td>\n      <td>0.0</td>\n      <td>0.283133</td>\n      <td>0.453019</td>\n      <td>0.352633</td>\n      <td>0.0</td>\n      <td>...</td>\n      <td>0.0</td>\n      <td>0.333333</td>\n      <td>0.0</td>\n      <td>0.0</td>\n      <td>0.666667</td>\n      <td>0.731014</td>\n      <td>190</td>\n      <td>0</td>\n      <td>0</td>\n      <td>0.002770</td>\n    </tr>\n    <tr>\n      <th>2</th>\n      <td>1</td>\n      <td>3</td>\n      <td>0.252874</td>\n      <td>0.750000</td>\n      <td>0.0</td>\n      <td>0.0</td>\n      <td>0.343373</td>\n      <td>0.369523</td>\n      <td>0.370527</td>\n      <td>0.0</td>\n      <td>...</td>\n      <td>0.0</td>\n      <td>0.166667</td>\n      <td>0.0</td>\n      <td>0.0</td>\n      <td>0.627907</td>\n      <td>0.621375</td>\n      <td>189</td>\n      <td>0</td>\n      <td>0</td>\n      <td>0.005540</td>\n    </tr>\n    <tr>\n      <th>3</th>\n      <td>1</td>\n      <td>4</td>\n      <td>0.540230</td>\n      <td>0.500000</td>\n      <td>0.0</td>\n      <td>0.0</td>\n      <td>0.343373</td>\n      <td>0.256159</td>\n      <td>0.331195</td>\n      <td>0.0</td>\n      <td>...</td>\n      <td>0.0</td>\n      <td>0.333333</td>\n      <td>0.0</td>\n      <td>0.0</td>\n      <td>0.573643</td>\n      <td>0.662386</td>\n      <td>188</td>\n      <td>0</td>\n      <td>0</td>\n      <td>0.008310</td>\n    </tr>\n    <tr>\n      <th>4</th>\n      <td>1</td>\n      <td>5</td>\n      <td>0.390805</td>\n      <td>0.333333</td>\n      <td>0.0</td>\n      <td>0.0</td>\n      <td>0.349398</td>\n      <td>0.257467</td>\n      <td>0.404625</td>\n      <td>0.0</td>\n      <td>...</td>\n      <td>0.0</td>\n      <td>0.416667</td>\n      <td>0.0</td>\n      <td>0.0</td>\n      <td>0.589147</td>\n      <td>0.704502</td>\n      <td>187</td>\n      <td>0</td>\n      <td>0</td>\n      <td>0.011080</td>\n    </tr>\n    <tr>\n      <th>...</th>\n      <td>...</td>\n      <td>...</td>\n      <td>...</td>\n      <td>...</td>\n      <td>...</td>\n      <td>...</td>\n      <td>...</td>\n      <td>...</td>\n      <td>...</td>\n      <td>...</td>\n      <td>...</td>\n      <td>...</td>\n      <td>...</td>\n      <td>...</td>\n      <td>...</td>\n      <td>...</td>\n      <td>...</td>\n      <td>...</td>\n      <td>...</td>\n      <td>...</td>\n      <td>...</td>\n    </tr>\n    <tr>\n      <th>187</th>\n      <td>1</td>\n      <td>188</td>\n      <td>0.114943</td>\n      <td>0.750000</td>\n      <td>0.0</td>\n      <td>0.0</td>\n      <td>0.765060</td>\n      <td>0.683235</td>\n      <td>0.684166</td>\n      <td>0.0</td>\n      <td>...</td>\n      <td>0.0</td>\n      <td>0.666667</td>\n      <td>0.0</td>\n      <td>0.0</td>\n      <td>0.286822</td>\n      <td>0.089202</td>\n      <td>4</td>\n      <td>1</td>\n      <td>2</td>\n      <td>0.518006</td>\n    </tr>\n    <tr>\n      <th>188</th>\n      <td>1</td>\n      <td>189</td>\n      <td>0.465517</td>\n      <td>0.666667</td>\n      <td>0.0</td>\n      <td>0.0</td>\n      <td>0.894578</td>\n      <td>0.547853</td>\n      <td>0.772451</td>\n      <td>0.0</td>\n      <td>...</td>\n      <td>0.0</td>\n      <td>0.583333</td>\n      <td>0.0</td>\n      <td>0.0</td>\n      <td>0.263566</td>\n      <td>0.301712</td>\n      <td>3</td>\n      <td>1</td>\n      <td>2</td>\n      <td>0.520776</td>\n    </tr>\n    <tr>\n      <th>189</th>\n      <td>1</td>\n      <td>190</td>\n      <td>0.344828</td>\n      <td>0.583333</td>\n      <td>0.0</td>\n      <td>0.0</td>\n      <td>0.731928</td>\n      <td>0.614345</td>\n      <td>0.737677</td>\n      <td>0.0</td>\n      <td>...</td>\n      <td>0.0</td>\n      <td>0.833333</td>\n      <td>0.0</td>\n      <td>0.0</td>\n      <td>0.271318</td>\n      <td>0.239299</td>\n      <td>2</td>\n      <td>1</td>\n      <td>2</td>\n      <td>0.523546</td>\n    </tr>\n    <tr>\n      <th>190</th>\n      <td>1</td>\n      <td>191</td>\n      <td>0.500000</td>\n      <td>0.166667</td>\n      <td>0.0</td>\n      <td>0.0</td>\n      <td>0.641566</td>\n      <td>0.682799</td>\n      <td>0.734639</td>\n      <td>0.0</td>\n      <td>...</td>\n      <td>0.0</td>\n      <td>0.500000</td>\n      <td>0.0</td>\n      <td>0.0</td>\n      <td>0.240310</td>\n      <td>0.324910</td>\n      <td>1</td>\n      <td>1</td>\n      <td>2</td>\n      <td>0.526316</td>\n    </tr>\n    <tr>\n      <th>191</th>\n      <td>1</td>\n      <td>192</td>\n      <td>0.551724</td>\n      <td>0.500000</td>\n      <td>0.0</td>\n      <td>0.0</td>\n      <td>0.701807</td>\n      <td>0.662089</td>\n      <td>0.758778</td>\n      <td>0.0</td>\n      <td>...</td>\n      <td>0.0</td>\n      <td>0.666667</td>\n      <td>0.0</td>\n      <td>0.0</td>\n      <td>0.263566</td>\n      <td>0.097625</td>\n      <td>0</td>\n      <td>1</td>\n      <td>2</td>\n      <td>0.529086</td>\n    </tr>\n  </tbody>\n</table>\n<p>192 rows × 30 columns</p>\n</div>"
     },
     "execution_count": 30,
     "metadata": {},
     "output_type": "execute_result"
    }
   ],
   "source": [
    "train_df[(train_df['id'] == 1) & (train_df['cycle'] >= 0)]"
   ],
   "metadata": {
    "collapsed": false,
    "ExecuteTime": {
     "end_time": "2023-12-03T14:51:28.594841200Z",
     "start_time": "2023-12-03T14:51:27.978785100Z"
    }
   },
   "id": "d5c0ab9091b3ecc4"
  },
  {
   "cell_type": "code",
   "execution_count": 31,
   "outputs": [],
   "source": [
    "# Функция для генерации меток\n",
    "def gen_labels(id_df, seq_length, label):\n",
    "    data_array = id_df[label].values  # Извлечение значений меток из DataFrame в массив\n",
    "    num_elements = data_array.shape[0]  # Получение количества элементов в массиве\n",
    "    return data_array[seq_length:num_elements, :]  # Возвращение значений меток, начиная с индекса seq_length и до конца массива"
   ],
   "metadata": {
    "collapsed": false,
    "ExecuteTime": {
     "end_time": "2023-12-03T14:51:28.671148900Z",
     "start_time": "2023-12-03T14:51:28.044120400Z"
    }
   },
   "id": "3e2f8a09cf7493c1"
  },
  {
   "cell_type": "code",
   "execution_count": 32,
   "outputs": [
    {
     "data": {
      "text/plain": "(15631, 1)"
     },
     "execution_count": 32,
     "metadata": {},
     "output_type": "execute_result"
    }
   ],
   "source": [
    "# Генерация меток\n",
    "label_gen = [gen_labels(train_df[train_df['id']==id], sequence_length, ['label1']) \n",
    "             for id in train_df['id'].unique()]  # Генерация меток для каждого идентификатора в train_df\n",
    "label_array = np.concatenate(label_gen).astype(np.float32)  # Объединение списка меток в один массив numpy и преобразование в тип данных np.float32\n",
    "label_array.shape  # Вывод формы массива меток"
   ],
   "metadata": {
    "collapsed": false,
    "ExecuteTime": {
     "end_time": "2023-12-03T14:51:28.928975200Z",
     "start_time": "2023-12-03T14:51:28.060077800Z"
    }
   },
   "id": "cdcf5ebaa6a5fe5d"
  },
  {
   "cell_type": "code",
   "execution_count": 33,
   "outputs": [
    {
     "data": {
      "text/plain": "1"
     },
     "execution_count": 33,
     "metadata": {},
     "output_type": "execute_result"
    }
   ],
   "source": [
    "label_array.shape[1]"
   ],
   "metadata": {
    "collapsed": false,
    "ExecuteTime": {
     "end_time": "2023-12-03T14:51:28.984824500Z",
     "start_time": "2023-12-03T14:51:28.258634300Z"
    }
   },
   "id": "37d58e56e9c1fc9a"
  },
  {
   "cell_type": "code",
   "execution_count": 34,
   "outputs": [],
   "source": [
    "# Построение нейронной сети\n",
    "nb_features = seq_array.shape[2]  # Получение количества признаков из размерности seq_array\n",
    "nb_out = label_array.shape[1]  # Получение количества выходных переменных из размерности label_array\n",
    "\n",
    "model = Sequential()  # Инициализация последовательной модели\n",
    "\n",
    "model.add(LSTM(\n",
    "         input_shape=(sequence_length, nb_features),\n",
    "         units=100,\n",
    "         return_sequences=True))  # Добавление слоя LSTM с 100 юнитами, возвращающего последовательности\n",
    "model.add(Dropout(0.2))  # Добавление слоя Dropout для регуляризации\n",
    "\n",
    "model.add(LSTM(\n",
    "          units=50,\n",
    "          return_sequences=False))  # Добавление слоя LSTM с 50 юнитами, не возвращающего последовательности\n",
    "model.add(Dropout(0.2))  # Добавление слоя Dropout для регуляризации\n",
    "\n",
    "model.add(Dense(units=nb_out, activation='sigmoid'))  # Добавление полносвязного слоя с активацией sigmoid\n",
    "model.compile(loss='binary_crossentropy', optimizer='adam', metrics=['accuracy'])  # Компиляция модели с выбранной функцией потерь, оптимизатором и метриками"
   ],
   "metadata": {
    "collapsed": false,
    "ExecuteTime": {
     "end_time": "2023-12-03T14:51:29.818330200Z",
     "start_time": "2023-12-03T14:51:28.273595Z"
    }
   },
   "id": "9d66fd47bf007e91"
  },
  {
   "cell_type": "code",
   "execution_count": 35,
   "outputs": [
    {
     "name": "stdout",
     "output_type": "stream",
     "text": [
      "Model: \"sequential\"\n",
      "_________________________________________________________________\n",
      " Layer (type)                Output Shape              Param #   \n",
      "=================================================================\n",
      " lstm (LSTM)                 (None, 50, 100)           50400     \n",
      "                                                                 \n",
      " dropout (Dropout)           (None, 50, 100)           0         \n",
      "                                                                 \n",
      " lstm_1 (LSTM)               (None, 50)                30200     \n",
      "                                                                 \n",
      " dropout_1 (Dropout)         (None, 50)                0         \n",
      "                                                                 \n",
      " dense (Dense)               (None, 1)                 51        \n",
      "                                                                 \n",
      "=================================================================\n",
      "Total params: 80651 (315.04 KB)\n",
      "Trainable params: 80651 (315.04 KB)\n",
      "Non-trainable params: 0 (0.00 Byte)\n",
      "_________________________________________________________________\n",
      "None\n"
     ]
    }
   ],
   "source": [
    "print(model.summary())"
   ],
   "metadata": {
    "collapsed": false,
    "ExecuteTime": {
     "end_time": "2023-12-03T14:51:29.978899900Z",
     "start_time": "2023-12-03T14:51:29.816334600Z"
    }
   },
   "id": "5c27a2cd95fd3ab4"
  },
  {
   "cell_type": "code",
   "execution_count": 36,
   "outputs": [
    {
     "name": "stdout",
     "output_type": "stream",
     "text": [
      "Epoch 1/10\n",
      "75/75 [==============================] - 19s 154ms/step - loss: 0.2685 - accuracy: 0.8867 - val_loss: 0.1368 - val_accuracy: 0.9463\n",
      "Epoch 2/10\n",
      "75/75 [==============================] - 11s 148ms/step - loss: 0.1034 - accuracy: 0.9560 - val_loss: 0.0585 - val_accuracy: 0.9808\n",
      "Epoch 3/10\n",
      "75/75 [==============================] - 9s 121ms/step - loss: 0.0813 - accuracy: 0.9659 - val_loss: 0.0546 - val_accuracy: 0.9770\n",
      "Epoch 4/10\n",
      "75/75 [==============================] - 9s 122ms/step - loss: 0.0727 - accuracy: 0.9694 - val_loss: 0.0391 - val_accuracy: 0.9898\n",
      "Epoch 5/10\n",
      "75/75 [==============================] - 9s 116ms/step - loss: 0.0726 - accuracy: 0.9700 - val_loss: 0.0602 - val_accuracy: 0.9680\n"
     ]
    },
    {
     "data": {
      "text/plain": "<keras.src.callbacks.History at 0x19c20710e50>"
     },
     "execution_count": 36,
     "metadata": {},
     "output_type": "execute_result"
    }
   ],
   "source": [
    "# Процесс обучения модели нейронной сети\n",
    "model.fit(seq_array, label_array, epochs=10, batch_size=200, validation_split=0.05, verbose=1,\n",
    "          callbacks = [keras.callbacks.EarlyStopping(monitor='val_loss', min_delta=0, patience=0, verbose=0, mode='auto')])\n",
    "# seq_array: input-data / входные данные\n",
    "# label_array: output-data / выходные данные; предсказания модели\n",
    "# epochs: одна полная итерация по всему набору обучающих данных. Один проход через весь набор данных считается одной эпохой.\n",
    "# batch_size: определяет количество образцов обучающих данных, которые будут переданы в сеть для обработки за один раз.\n",
    "# validation_split=0.05: Доля данных, которая будет использоваться для проверки во время обучения. (Во время каждой эпохи процесс \n",
    "# обучения будет вычислять потери и метрики на валидационном наборе данных, чтобы оценить, как хорошо модель обобщает данные, которые она еще не видела.)\n",
    "# verbose=1: В этом режиме модель будет выводить прогресс обучения для каждой эпохи, включая информацию о потерях и метриках.\n",
    "# callbacks: Список обратных вызовов, которые могут выполняться во время обучения. В данном случае используется обратный вызов \n",
    "# EarlyStopping, который остановит обучение, если значение функции потерь на проверочном наборе данных не улучшается.\n"
   ],
   "metadata": {
    "collapsed": false,
    "ExecuteTime": {
     "end_time": "2023-12-03T14:52:27.256562500Z",
     "start_time": "2023-12-03T14:51:29.915070300Z"
    }
   },
   "id": "14cb85d757f2ad30"
  },
  {
   "cell_type": "code",
   "execution_count": 37,
   "outputs": [
    {
     "name": "stdout",
     "output_type": "stream",
     "text": [
      "79/79 [==============================] - 4s 44ms/step - loss: 0.0699 - accuracy: 0.9691\n",
      "Accurracy: 0.9690998792648315\n"
     ]
    }
   ],
   "source": [
    "# Оценка производительности модели на обучающем наборе данных. Метод evaluate \n",
    "# вычисляет потери и метрики модели для переданных данных. В данном случае, seq_array \n",
    "# представляет собой входные данные, а label_array - соответствующие этим входным данным метки.\n",
    "\n",
    "scores = model.evaluate(seq_array, label_array, verbose=1, batch_size=200)\n",
    "print('Accurracy: {}'.format(scores[1]))"
   ],
   "metadata": {
    "collapsed": false,
    "ExecuteTime": {
     "end_time": "2023-12-03T14:53:02.785834100Z",
     "start_time": "2023-12-03T14:52:27.257559600Z"
    }
   },
   "id": "c1cbedfaf4398553"
  },
  {
   "cell_type": "code",
   "execution_count": 38,
   "outputs": [
    {
     "name": "stdout",
     "output_type": "stream",
     "text": [
      "79/79 [==============================] - 4s 46ms/step\n",
      "Матрица неточностей\n",
      "- По оси x находятся истинные метки.\n",
      "- По оси y находятся предсказанные метки\n",
      "[[12497    34]\n",
      " [  449  2651]]\n"
     ]
    }
   ],
   "source": [
    "# Прогнозирование результатов и вычисление матрицы-путаницы на обучающих данных\n",
    "\n",
    "# Матрица путаницы визуализирует точность классификатора, сравнивая фактические и прогнозируемые классы.\n",
    "# Матрица двоичной путаницы состоит из квадратов:\n",
    "\n",
    "#                       Predicted\n",
    "#                   FALSE   |    TRUE\n",
    "#           FALSE    (TN)   |    (FP)\n",
    "#  Actual ------------------|--------------------------\n",
    "#           TRUE     (FN)   |    (TP)\n",
    "\n",
    "# TP: True Positive: прогнозируемые значения, правильно прогнозируемые как фактические положительные\n",
    "# FP: Предсказанные значения неправильно предсказывают фактический положительный результат. т.е. отрицательные значения прогнозируются как положительные\n",
    "# FN: False Negative: положительные значения прогнозируются как отрицательные\n",
    "# TN: True Negative: прогнозируемые значения, правильно прогнозируемые как фактические негативные\n",
    "\n",
    "# использование метода predict для получения вероятностей\n",
    "y_pred_prob = model.predict(seq_array, batch_size=200)\n",
    "# преобразование полученных вероятностей в бинарные предсказания с помощью сравнения с пороговым значением 0.5\n",
    "y_pred = (y_pred_prob > 0.5).astype(\"float32\")\n",
    "\n",
    "# Сохранение истинных меток в y_true\n",
    "y_true = label_array\n",
    "\n",
    "# Вывод структуры матрицы неточностей\n",
    "print('Матрица неточностей\\n- По оси x находятся истинные метки.\\n- По оси y находятся предсказанные метки')\n",
    "\n",
    "# Вычисление матрицы неточностей с использованием функции confusion_matrix из библиотеки sklearn\n",
    "cm = confusion_matrix(y_true, y_pred)\n",
    "\n",
    "# Вывод матрицы неточностей\n",
    "print(cm)"
   ],
   "metadata": {
    "collapsed": false,
    "ExecuteTime": {
     "end_time": "2023-12-03T14:53:07.305663100Z",
     "start_time": "2023-12-03T14:53:02.785834100Z"
    }
   },
   "id": "ab78a8994b66404f"
  },
  {
   "cell_type": "code",
   "execution_count": 39,
   "outputs": [
    {
     "name": "stdout",
     "output_type": "stream",
     "text": [
      "precision =  0.9873370577281192 \n",
      " recall =  0.8551612903225806\n"
     ]
    }
   ],
   "source": [
    "# Расчет метрик precision (точность) и recall (полнота)\n",
    "\n",
    "# Precision (точность) - это метрика, которая оценивает долю правильно предсказанных \n",
    "# положительных классов от общего числа классифицированных как положительные. Формула для \n",
    "# вычисления precision: TP / (TP + FP), где TP - истинно положительные прогнозы, \n",
    "# а FP - ложно положительные прогнозы.\n",
    "\n",
    "precision = precision_score(y_true, y_pred)\n",
    "\n",
    "# Recall (полнота) - это метрика, которая оценивает долю правильно предсказанных положительных \n",
    "# классов от общего числа реальных положительных классов. Формула для вычисления recall: TP / (TP + FN), \n",
    "# где TP - истинно положительные прогнозы, а FN - ложно отрицательные прогнозы.\n",
    "\n",
    "recall = recall_score(y_true, y_pred)\n",
    "\n",
    "print( 'precision = ', precision, '\\n', 'recall = ', recall)\n"
   ],
   "metadata": {
    "collapsed": false,
    "ExecuteTime": {
     "end_time": "2023-12-03T14:53:07.347062300Z",
     "start_time": "2023-12-03T14:53:07.306660300Z"
    }
   },
   "id": "cfcf0e4f0abf9b4f"
  },
  {
   "cell_type": "markdown",
   "source": [
    "Проверим метрики модели на тестировочных данных. Будем производить предсказания на 50 последних временных рядах для каждого двигателя."
   ],
   "metadata": {
    "collapsed": false
   },
   "id": "5bafac2d3773fca5"
  },
  {
   "cell_type": "code",
   "execution_count": 40,
   "outputs": [
    {
     "data": {
      "text/plain": "(93, 50, 25)"
     },
     "execution_count": 40,
     "metadata": {},
     "output_type": "execute_result"
    }
   ],
   "source": [
    "# Генерация последовательностей\n",
    "seq_array_test_last = [test_df[test_df['id']==id][sequence_cols].values[-sequence_length:] \n",
    "                       for id in test_df['id'].unique() if len(test_df[test_df['id']==id]) >= sequence_length]\n",
    "\n",
    "seq_array_test_last = np.asarray(seq_array_test_last).astype(np.float32)\n",
    "seq_array_test_last.shape"
   ],
   "metadata": {
    "collapsed": false,
    "ExecuteTime": {
     "end_time": "2023-12-03T14:53:07.484788900Z",
     "start_time": "2023-12-03T14:53:07.336092500Z"
    }
   },
   "id": "4042376baa74be98"
  },
  {
   "cell_type": "code",
   "execution_count": 41,
   "outputs": [
    {
     "data": {
      "text/plain": "array([[0.3505747 , 0.8333333 , 0.        , ..., 0.        , 0.4728682 ,\n        0.45457056],\n       [0.39655173, 0.5833333 , 0.        , ..., 0.        , 0.6511628 ,\n        0.5608948 ],\n       [0.5114943 , 0.25      , 0.        , ..., 0.        , 0.6356589 ,\n        0.4975145 ],\n       ...,\n       [0.43678162, 0.75      , 0.        , ..., 0.        , 0.41860464,\n        0.4710025 ],\n       [0.5804598 , 0.6666667 , 0.        , ..., 0.        , 0.3255814 ,\n        0.45954156],\n       [0.40804598, 0.8333333 , 0.        , ..., 0.        , 0.6124031 ,\n        0.52444077]], dtype=float32)"
     },
     "execution_count": 41,
     "metadata": {},
     "output_type": "execute_result"
    }
   ],
   "source": [
    "seq_array_test_last[0]"
   ],
   "metadata": {
    "collapsed": false,
    "ExecuteTime": {
     "end_time": "2023-12-03T14:53:07.497754100Z",
     "start_time": "2023-12-03T14:53:07.479802800Z"
    }
   },
   "id": "f405ded7aca0be2a"
  },
  {
   "cell_type": "code",
   "execution_count": 42,
   "outputs": [
    {
     "data": {
      "text/plain": "     id  cycle  setting1  setting2  setting3   s1        s2        s3  \\\n80    3      1  0.494253  0.583333       0.0  0.0  0.246988  0.411598   \n81    3      2  0.724138  0.250000       0.0  0.0  0.307229  0.572705   \n82    3      3  0.534483  0.750000       0.0  0.0  0.533133  0.342926   \n83    3      4  0.436782  0.416667       0.0  0.0  0.364458  0.424678   \n84    3      5  0.477011  0.250000       0.0  0.0  0.382530  0.262699   \n..   ..    ...       ...       ...       ...  ...       ...       ...   \n201   3    122  0.626437  0.083333       0.0  0.0  0.433735  0.584042   \n202   3    123  0.172414  0.666667       0.0  0.0  0.400602  0.554829   \n203   3    124  0.436782  0.750000       0.0  0.0  0.557229  0.424024   \n204   3    125  0.580460  0.666667       0.0  0.0  0.611446  0.383693   \n205   3    126  0.408046  0.833333       0.0  0.0  0.503012  0.407892   \n\n           s4   s5  ...  s16       s17  s18  s19       s20       s21  \\\n80   0.441256  0.0  ...  0.0  0.333333  0.0  0.0  0.658915  0.554819   \n81   0.432984  0.0  ...  0.0  0.416667  0.0  0.0  0.542636  0.586716   \n82   0.427583  0.0  ...  0.0  0.250000  0.0  0.0  0.426357  0.667219   \n83   0.323599  0.0  ...  0.0  0.583333  0.0  0.0  0.449612  0.653687   \n84   0.398717  0.0  ...  0.0  0.333333  0.0  0.0  0.519380  0.540044   \n..        ...  ...  ...  ...       ...  ...  ...       ...       ...   \n201  0.515024  0.0  ...  0.0  0.416667  0.0  0.0  0.364341  0.493096   \n202  0.463707  0.0  ...  0.0  0.500000  0.0  0.0  0.395349  0.467827   \n203  0.515361  0.0  ...  0.0  0.583333  0.0  0.0  0.418605  0.471002   \n204  0.512323  0.0  ...  0.0  0.500000  0.0  0.0  0.325581  0.459542   \n205  0.618501  0.0  ...  0.0  0.583333  0.0  0.0  0.612403  0.524441   \n\n     cycle_norm  RUL  label1  label2  \n80      0.00000  194       0       0  \n81      0.00277  193       0       0  \n82      0.00554  192       0       0  \n83      0.00831  191       0       0  \n84      0.01108  190       0       0  \n..          ...  ...     ...     ...  \n201     0.33518   73       0       0  \n202     0.33795   72       0       0  \n203     0.34072   71       0       0  \n204     0.34349   70       0       0  \n205     0.34626   69       0       0  \n\n[126 rows x 30 columns]",
      "text/html": "<div>\n<style scoped>\n    .dataframe tbody tr th:only-of-type {\n        vertical-align: middle;\n    }\n\n    .dataframe tbody tr th {\n        vertical-align: top;\n    }\n\n    .dataframe thead th {\n        text-align: right;\n    }\n</style>\n<table border=\"1\" class=\"dataframe\">\n  <thead>\n    <tr style=\"text-align: right;\">\n      <th></th>\n      <th>id</th>\n      <th>cycle</th>\n      <th>setting1</th>\n      <th>setting2</th>\n      <th>setting3</th>\n      <th>s1</th>\n      <th>s2</th>\n      <th>s3</th>\n      <th>s4</th>\n      <th>s5</th>\n      <th>...</th>\n      <th>s16</th>\n      <th>s17</th>\n      <th>s18</th>\n      <th>s19</th>\n      <th>s20</th>\n      <th>s21</th>\n      <th>cycle_norm</th>\n      <th>RUL</th>\n      <th>label1</th>\n      <th>label2</th>\n    </tr>\n  </thead>\n  <tbody>\n    <tr>\n      <th>80</th>\n      <td>3</td>\n      <td>1</td>\n      <td>0.494253</td>\n      <td>0.583333</td>\n      <td>0.0</td>\n      <td>0.0</td>\n      <td>0.246988</td>\n      <td>0.411598</td>\n      <td>0.441256</td>\n      <td>0.0</td>\n      <td>...</td>\n      <td>0.0</td>\n      <td>0.333333</td>\n      <td>0.0</td>\n      <td>0.0</td>\n      <td>0.658915</td>\n      <td>0.554819</td>\n      <td>0.00000</td>\n      <td>194</td>\n      <td>0</td>\n      <td>0</td>\n    </tr>\n    <tr>\n      <th>81</th>\n      <td>3</td>\n      <td>2</td>\n      <td>0.724138</td>\n      <td>0.250000</td>\n      <td>0.0</td>\n      <td>0.0</td>\n      <td>0.307229</td>\n      <td>0.572705</td>\n      <td>0.432984</td>\n      <td>0.0</td>\n      <td>...</td>\n      <td>0.0</td>\n      <td>0.416667</td>\n      <td>0.0</td>\n      <td>0.0</td>\n      <td>0.542636</td>\n      <td>0.586716</td>\n      <td>0.00277</td>\n      <td>193</td>\n      <td>0</td>\n      <td>0</td>\n    </tr>\n    <tr>\n      <th>82</th>\n      <td>3</td>\n      <td>3</td>\n      <td>0.534483</td>\n      <td>0.750000</td>\n      <td>0.0</td>\n      <td>0.0</td>\n      <td>0.533133</td>\n      <td>0.342926</td>\n      <td>0.427583</td>\n      <td>0.0</td>\n      <td>...</td>\n      <td>0.0</td>\n      <td>0.250000</td>\n      <td>0.0</td>\n      <td>0.0</td>\n      <td>0.426357</td>\n      <td>0.667219</td>\n      <td>0.00554</td>\n      <td>192</td>\n      <td>0</td>\n      <td>0</td>\n    </tr>\n    <tr>\n      <th>83</th>\n      <td>3</td>\n      <td>4</td>\n      <td>0.436782</td>\n      <td>0.416667</td>\n      <td>0.0</td>\n      <td>0.0</td>\n      <td>0.364458</td>\n      <td>0.424678</td>\n      <td>0.323599</td>\n      <td>0.0</td>\n      <td>...</td>\n      <td>0.0</td>\n      <td>0.583333</td>\n      <td>0.0</td>\n      <td>0.0</td>\n      <td>0.449612</td>\n      <td>0.653687</td>\n      <td>0.00831</td>\n      <td>191</td>\n      <td>0</td>\n      <td>0</td>\n    </tr>\n    <tr>\n      <th>84</th>\n      <td>3</td>\n      <td>5</td>\n      <td>0.477011</td>\n      <td>0.250000</td>\n      <td>0.0</td>\n      <td>0.0</td>\n      <td>0.382530</td>\n      <td>0.262699</td>\n      <td>0.398717</td>\n      <td>0.0</td>\n      <td>...</td>\n      <td>0.0</td>\n      <td>0.333333</td>\n      <td>0.0</td>\n      <td>0.0</td>\n      <td>0.519380</td>\n      <td>0.540044</td>\n      <td>0.01108</td>\n      <td>190</td>\n      <td>0</td>\n      <td>0</td>\n    </tr>\n    <tr>\n      <th>...</th>\n      <td>...</td>\n      <td>...</td>\n      <td>...</td>\n      <td>...</td>\n      <td>...</td>\n      <td>...</td>\n      <td>...</td>\n      <td>...</td>\n      <td>...</td>\n      <td>...</td>\n      <td>...</td>\n      <td>...</td>\n      <td>...</td>\n      <td>...</td>\n      <td>...</td>\n      <td>...</td>\n      <td>...</td>\n      <td>...</td>\n      <td>...</td>\n      <td>...</td>\n      <td>...</td>\n    </tr>\n    <tr>\n      <th>201</th>\n      <td>3</td>\n      <td>122</td>\n      <td>0.626437</td>\n      <td>0.083333</td>\n      <td>0.0</td>\n      <td>0.0</td>\n      <td>0.433735</td>\n      <td>0.584042</td>\n      <td>0.515024</td>\n      <td>0.0</td>\n      <td>...</td>\n      <td>0.0</td>\n      <td>0.416667</td>\n      <td>0.0</td>\n      <td>0.0</td>\n      <td>0.364341</td>\n      <td>0.493096</td>\n      <td>0.33518</td>\n      <td>73</td>\n      <td>0</td>\n      <td>0</td>\n    </tr>\n    <tr>\n      <th>202</th>\n      <td>3</td>\n      <td>123</td>\n      <td>0.172414</td>\n      <td>0.666667</td>\n      <td>0.0</td>\n      <td>0.0</td>\n      <td>0.400602</td>\n      <td>0.554829</td>\n      <td>0.463707</td>\n      <td>0.0</td>\n      <td>...</td>\n      <td>0.0</td>\n      <td>0.500000</td>\n      <td>0.0</td>\n      <td>0.0</td>\n      <td>0.395349</td>\n      <td>0.467827</td>\n      <td>0.33795</td>\n      <td>72</td>\n      <td>0</td>\n      <td>0</td>\n    </tr>\n    <tr>\n      <th>203</th>\n      <td>3</td>\n      <td>124</td>\n      <td>0.436782</td>\n      <td>0.750000</td>\n      <td>0.0</td>\n      <td>0.0</td>\n      <td>0.557229</td>\n      <td>0.424024</td>\n      <td>0.515361</td>\n      <td>0.0</td>\n      <td>...</td>\n      <td>0.0</td>\n      <td>0.583333</td>\n      <td>0.0</td>\n      <td>0.0</td>\n      <td>0.418605</td>\n      <td>0.471002</td>\n      <td>0.34072</td>\n      <td>71</td>\n      <td>0</td>\n      <td>0</td>\n    </tr>\n    <tr>\n      <th>204</th>\n      <td>3</td>\n      <td>125</td>\n      <td>0.580460</td>\n      <td>0.666667</td>\n      <td>0.0</td>\n      <td>0.0</td>\n      <td>0.611446</td>\n      <td>0.383693</td>\n      <td>0.512323</td>\n      <td>0.0</td>\n      <td>...</td>\n      <td>0.0</td>\n      <td>0.500000</td>\n      <td>0.0</td>\n      <td>0.0</td>\n      <td>0.325581</td>\n      <td>0.459542</td>\n      <td>0.34349</td>\n      <td>70</td>\n      <td>0</td>\n      <td>0</td>\n    </tr>\n    <tr>\n      <th>205</th>\n      <td>3</td>\n      <td>126</td>\n      <td>0.408046</td>\n      <td>0.833333</td>\n      <td>0.0</td>\n      <td>0.0</td>\n      <td>0.503012</td>\n      <td>0.407892</td>\n      <td>0.618501</td>\n      <td>0.0</td>\n      <td>...</td>\n      <td>0.0</td>\n      <td>0.583333</td>\n      <td>0.0</td>\n      <td>0.0</td>\n      <td>0.612403</td>\n      <td>0.524441</td>\n      <td>0.34626</td>\n      <td>69</td>\n      <td>0</td>\n      <td>0</td>\n    </tr>\n  </tbody>\n</table>\n<p>126 rows × 30 columns</p>\n</div>"
     },
     "execution_count": 42,
     "metadata": {},
     "output_type": "execute_result"
    }
   ],
   "source": [
    "test_df[test_df['id']==3]"
   ],
   "metadata": {
    "collapsed": false,
    "ExecuteTime": {
     "end_time": "2023-12-03T14:53:07.570559700Z",
     "start_time": "2023-12-03T14:53:07.494762400Z"
    }
   },
   "id": "d50cb6cbcd31ac0e"
  },
  {
   "cell_type": "code",
   "execution_count": 43,
   "outputs": [
    {
     "data": {
      "text/plain": "(93, 1)"
     },
     "execution_count": 43,
     "metadata": {},
     "output_type": "execute_result"
    }
   ],
   "source": [
    "# Создаем маску, которая позволяет выбрать только те данные, для которых количество записей по\n",
    "# идентификатору больше или равно значению переменной sequence_length.\n",
    "\n",
    "y_mask = [len(test_df[test_df['id']==id]) >= sequence_length for id in test_df['id'].unique()]\n",
    "\n",
    "# Генерация меток\n",
    "label_array_test_last = test_df.groupby('id')['label1'].nth(-1)[y_mask].values\n",
    "label_array_test_last = label_array_test_last.reshape(label_array_test_last.shape[0],1).astype(np.float32)\n",
    "label_array_test_last.shape"
   ],
   "metadata": {
    "collapsed": false,
    "ExecuteTime": {
     "end_time": "2023-12-03T14:53:07.661542600Z",
     "start_time": "2023-12-03T14:53:07.543631200Z"
    }
   },
   "id": "c4379bada2f793a6"
  },
  {
   "cell_type": "code",
   "execution_count": 44,
   "outputs": [
    {
     "name": "stdout",
     "output_type": "stream",
     "text": [
      "3/3 - 0s - loss: 0.0887 - accuracy: 0.9462 - 78ms/epoch - 26ms/step\n",
      "Accurracy: 0.9462365508079529\n"
     ]
    }
   ],
   "source": [
    "# Оценка производительности модели на тестировочном наборе данных. Метод evaluate \n",
    "# вычисляет потери и метрики модели для переданных данных. В данном случае, seq_array_test_last \n",
    "# представляет собой входные данные, а label_array_test_last - соответствующие этим входным данным метки.\n",
    "scores_test = model.evaluate(seq_array_test_last, label_array_test_last, verbose=2)\n",
    "print('Accurracy: {}'.format(scores_test[1]))"
   ],
   "metadata": {
    "collapsed": false,
    "ExecuteTime": {
     "end_time": "2023-12-03T14:53:07.833822900Z",
     "start_time": "2023-12-03T14:53:07.602473900Z"
    }
   },
   "id": "252d01c2add54a8c"
  },
  {
   "cell_type": "code",
   "execution_count": 45,
   "outputs": [
    {
     "name": "stdout",
     "output_type": "stream",
     "text": [
      "1/1 [==============================] - 0s 63ms/step\n",
      "Матрица неточностей\n",
      "- По оси x находятся истинные метки.\n",
      "- По оси y находятся предсказанные метки\n",
      "[[68  0]\n",
      " [ 5 20]]\n"
     ]
    }
   ],
   "source": [
    "# Прогнозирование результатов и вычисление матрицы-путаницы на тестировочных данных\n",
    "\n",
    "# использование метода predict для получения вероятностей\n",
    "y_pred_test_prob = model.predict(seq_array_test_last, batch_size=200)\n",
    "# преобразование полученных вероятностей в бинарные предсказания с помощью сравнения с пороговым значением 0.5\n",
    "y_pred_test = (y_pred_test_prob > 0.5).astype(\"float32\")\n",
    "\n",
    "y_true_test = label_array_test_last\n",
    "\n",
    "# Вывод структуры матрицы неточностей\n",
    "print('Матрица неточностей\\n- По оси x находятся истинные метки.\\n- По оси y находятся предсказанные метки')\n",
    "cm = confusion_matrix(y_true_test, y_pred_test)\n",
    "# Вывод матрицы неточностей\n",
    "print(cm)"
   ],
   "metadata": {
    "collapsed": false,
    "ExecuteTime": {
     "end_time": "2023-12-03T14:53:07.952331600Z",
     "start_time": "2023-12-03T14:53:07.744321600Z"
    }
   },
   "id": "c122de07c8206402"
  },
  {
   "cell_type": "code",
   "execution_count": 46,
   "outputs": [
    {
     "name": "stdout",
     "output_type": "stream",
     "text": [
      "Precision:  1.0 \n",
      " Recall:  0.8 \n",
      " F1-score: 0.888888888888889\n"
     ]
    }
   ],
   "source": [
    "# Расчет метрик precision (точность), recall (полнота)\n",
    "precision_test = precision_score(y_true_test, y_pred_test)\n",
    "recall_test = recall_score(y_true_test, y_pred_test)\n",
    "\n",
    "# F1-score представляет собой среднее гармоническое precision и recall, обеспечивая баланс между ними\n",
    "f1_test = 2 * (precision_test * recall_test) / (precision_test + recall_test)\n",
    "\n",
    "print( 'Precision: ', precision_test, '\\n', 'Recall: ', recall_test,'\\n', 'F1-score:', f1_test )"
   ],
   "metadata": {
    "collapsed": false,
    "ExecuteTime": {
     "end_time": "2023-12-03T14:53:07.963329300Z",
     "start_time": "2023-12-03T14:53:07.886330300Z"
    }
   },
   "id": "e7d243f747793d67"
  },
  {
   "cell_type": "code",
   "execution_count": 47,
   "outputs": [
    {
     "data": {
      "text/plain": "        id  cycle  setting1  setting2  setting3   s1        s2        s3  \\\n2103    18    121  0.390805  0.666667       0.0  0.0  0.602410  0.615653   \n2104    18    122  0.339080  0.250000       0.0  0.0  0.373494  0.420754   \n2105    18    123  0.609195  0.750000       0.0  0.0  0.391566  0.435797   \n2106    18    124  0.385057  0.833333       0.0  0.0  0.373494  0.452583   \n2107    18    125  0.551724  0.166667       0.0  0.0  0.472892  0.378461   \n...    ...    ...       ...       ...       ...  ...       ...       ...   \n13091  100    194  0.781609  0.500000       0.0  0.0  0.611446  0.619359   \n13092  100    195  0.436782  0.416667       0.0  0.0  0.605422  0.537388   \n13093  100    196  0.465517  0.250000       0.0  0.0  0.671687  0.482014   \n13094  100    197  0.281609  0.583333       0.0  0.0  0.617470  0.522128   \n13095  100    198  0.574713  0.750000       0.0  0.0  0.524096  0.666667   \n\n             s4   s5  ...  s16       s17  s18  s19       s20       s21  \\\n2103   0.382681  0.0  ...  0.0  0.416667  0.0  0.0  0.449612  0.548467   \n2104   0.477043  0.0  ...  0.0  0.500000  0.0  0.0  0.379845  0.438277   \n2105   0.352296  0.0  ...  0.0  0.250000  0.0  0.0  0.558140  0.537006   \n2106   0.469109  0.0  ...  0.0  0.500000  0.0  0.0  0.534884  0.393123   \n2107   0.490378  0.0  ...  0.0  0.500000  0.0  0.0  0.356589  0.604529   \n...         ...  ...  ...  ...       ...  ...  ...       ...       ...   \n13091  0.566172  0.0  ...  0.0  0.500000  0.0  0.0  0.395349  0.418669   \n13092  0.671843  0.0  ...  0.0  0.583333  0.0  0.0  0.333333  0.528721   \n13093  0.414754  0.0  ...  0.0  0.583333  0.0  0.0  0.372093  0.429301   \n13094  0.626435  0.0  ...  0.0  0.583333  0.0  0.0  0.403101  0.518779   \n13095  0.721472  0.0  ...  0.0  0.666667  0.0  0.0  0.434109  0.402237   \n\n       cycle_norm  RUL  label1  label2  \n2103     0.332410   40       0       0  \n2104     0.335180   39       0       0  \n2105     0.337950   38       0       0  \n2106     0.340720   37       0       0  \n2107     0.343490   36       0       0  \n...           ...  ...     ...     ...  \n13091    0.534626   24       1       1  \n13092    0.537396   23       1       1  \n13093    0.540166   22       1       1  \n13094    0.542936   21       1       1  \n13095    0.545706   20       1       1  \n\n[596 rows x 30 columns]",
      "text/html": "<div>\n<style scoped>\n    .dataframe tbody tr th:only-of-type {\n        vertical-align: middle;\n    }\n\n    .dataframe tbody tr th {\n        vertical-align: top;\n    }\n\n    .dataframe thead th {\n        text-align: right;\n    }\n</style>\n<table border=\"1\" class=\"dataframe\">\n  <thead>\n    <tr style=\"text-align: right;\">\n      <th></th>\n      <th>id</th>\n      <th>cycle</th>\n      <th>setting1</th>\n      <th>setting2</th>\n      <th>setting3</th>\n      <th>s1</th>\n      <th>s2</th>\n      <th>s3</th>\n      <th>s4</th>\n      <th>s5</th>\n      <th>...</th>\n      <th>s16</th>\n      <th>s17</th>\n      <th>s18</th>\n      <th>s19</th>\n      <th>s20</th>\n      <th>s21</th>\n      <th>cycle_norm</th>\n      <th>RUL</th>\n      <th>label1</th>\n      <th>label2</th>\n    </tr>\n  </thead>\n  <tbody>\n    <tr>\n      <th>2103</th>\n      <td>18</td>\n      <td>121</td>\n      <td>0.390805</td>\n      <td>0.666667</td>\n      <td>0.0</td>\n      <td>0.0</td>\n      <td>0.602410</td>\n      <td>0.615653</td>\n      <td>0.382681</td>\n      <td>0.0</td>\n      <td>...</td>\n      <td>0.0</td>\n      <td>0.416667</td>\n      <td>0.0</td>\n      <td>0.0</td>\n      <td>0.449612</td>\n      <td>0.548467</td>\n      <td>0.332410</td>\n      <td>40</td>\n      <td>0</td>\n      <td>0</td>\n    </tr>\n    <tr>\n      <th>2104</th>\n      <td>18</td>\n      <td>122</td>\n      <td>0.339080</td>\n      <td>0.250000</td>\n      <td>0.0</td>\n      <td>0.0</td>\n      <td>0.373494</td>\n      <td>0.420754</td>\n      <td>0.477043</td>\n      <td>0.0</td>\n      <td>...</td>\n      <td>0.0</td>\n      <td>0.500000</td>\n      <td>0.0</td>\n      <td>0.0</td>\n      <td>0.379845</td>\n      <td>0.438277</td>\n      <td>0.335180</td>\n      <td>39</td>\n      <td>0</td>\n      <td>0</td>\n    </tr>\n    <tr>\n      <th>2105</th>\n      <td>18</td>\n      <td>123</td>\n      <td>0.609195</td>\n      <td>0.750000</td>\n      <td>0.0</td>\n      <td>0.0</td>\n      <td>0.391566</td>\n      <td>0.435797</td>\n      <td>0.352296</td>\n      <td>0.0</td>\n      <td>...</td>\n      <td>0.0</td>\n      <td>0.250000</td>\n      <td>0.0</td>\n      <td>0.0</td>\n      <td>0.558140</td>\n      <td>0.537006</td>\n      <td>0.337950</td>\n      <td>38</td>\n      <td>0</td>\n      <td>0</td>\n    </tr>\n    <tr>\n      <th>2106</th>\n      <td>18</td>\n      <td>124</td>\n      <td>0.385057</td>\n      <td>0.833333</td>\n      <td>0.0</td>\n      <td>0.0</td>\n      <td>0.373494</td>\n      <td>0.452583</td>\n      <td>0.469109</td>\n      <td>0.0</td>\n      <td>...</td>\n      <td>0.0</td>\n      <td>0.500000</td>\n      <td>0.0</td>\n      <td>0.0</td>\n      <td>0.534884</td>\n      <td>0.393123</td>\n      <td>0.340720</td>\n      <td>37</td>\n      <td>0</td>\n      <td>0</td>\n    </tr>\n    <tr>\n      <th>2107</th>\n      <td>18</td>\n      <td>125</td>\n      <td>0.551724</td>\n      <td>0.166667</td>\n      <td>0.0</td>\n      <td>0.0</td>\n      <td>0.472892</td>\n      <td>0.378461</td>\n      <td>0.490378</td>\n      <td>0.0</td>\n      <td>...</td>\n      <td>0.0</td>\n      <td>0.500000</td>\n      <td>0.0</td>\n      <td>0.0</td>\n      <td>0.356589</td>\n      <td>0.604529</td>\n      <td>0.343490</td>\n      <td>36</td>\n      <td>0</td>\n      <td>0</td>\n    </tr>\n    <tr>\n      <th>...</th>\n      <td>...</td>\n      <td>...</td>\n      <td>...</td>\n      <td>...</td>\n      <td>...</td>\n      <td>...</td>\n      <td>...</td>\n      <td>...</td>\n      <td>...</td>\n      <td>...</td>\n      <td>...</td>\n      <td>...</td>\n      <td>...</td>\n      <td>...</td>\n      <td>...</td>\n      <td>...</td>\n      <td>...</td>\n      <td>...</td>\n      <td>...</td>\n      <td>...</td>\n      <td>...</td>\n    </tr>\n    <tr>\n      <th>13091</th>\n      <td>100</td>\n      <td>194</td>\n      <td>0.781609</td>\n      <td>0.500000</td>\n      <td>0.0</td>\n      <td>0.0</td>\n      <td>0.611446</td>\n      <td>0.619359</td>\n      <td>0.566172</td>\n      <td>0.0</td>\n      <td>...</td>\n      <td>0.0</td>\n      <td>0.500000</td>\n      <td>0.0</td>\n      <td>0.0</td>\n      <td>0.395349</td>\n      <td>0.418669</td>\n      <td>0.534626</td>\n      <td>24</td>\n      <td>1</td>\n      <td>1</td>\n    </tr>\n    <tr>\n      <th>13092</th>\n      <td>100</td>\n      <td>195</td>\n      <td>0.436782</td>\n      <td>0.416667</td>\n      <td>0.0</td>\n      <td>0.0</td>\n      <td>0.605422</td>\n      <td>0.537388</td>\n      <td>0.671843</td>\n      <td>0.0</td>\n      <td>...</td>\n      <td>0.0</td>\n      <td>0.583333</td>\n      <td>0.0</td>\n      <td>0.0</td>\n      <td>0.333333</td>\n      <td>0.528721</td>\n      <td>0.537396</td>\n      <td>23</td>\n      <td>1</td>\n      <td>1</td>\n    </tr>\n    <tr>\n      <th>13093</th>\n      <td>100</td>\n      <td>196</td>\n      <td>0.465517</td>\n      <td>0.250000</td>\n      <td>0.0</td>\n      <td>0.0</td>\n      <td>0.671687</td>\n      <td>0.482014</td>\n      <td>0.414754</td>\n      <td>0.0</td>\n      <td>...</td>\n      <td>0.0</td>\n      <td>0.583333</td>\n      <td>0.0</td>\n      <td>0.0</td>\n      <td>0.372093</td>\n      <td>0.429301</td>\n      <td>0.540166</td>\n      <td>22</td>\n      <td>1</td>\n      <td>1</td>\n    </tr>\n    <tr>\n      <th>13094</th>\n      <td>100</td>\n      <td>197</td>\n      <td>0.281609</td>\n      <td>0.583333</td>\n      <td>0.0</td>\n      <td>0.0</td>\n      <td>0.617470</td>\n      <td>0.522128</td>\n      <td>0.626435</td>\n      <td>0.0</td>\n      <td>...</td>\n      <td>0.0</td>\n      <td>0.583333</td>\n      <td>0.0</td>\n      <td>0.0</td>\n      <td>0.403101</td>\n      <td>0.518779</td>\n      <td>0.542936</td>\n      <td>21</td>\n      <td>1</td>\n      <td>1</td>\n    </tr>\n    <tr>\n      <th>13095</th>\n      <td>100</td>\n      <td>198</td>\n      <td>0.574713</td>\n      <td>0.750000</td>\n      <td>0.0</td>\n      <td>0.0</td>\n      <td>0.524096</td>\n      <td>0.666667</td>\n      <td>0.721472</td>\n      <td>0.0</td>\n      <td>...</td>\n      <td>0.0</td>\n      <td>0.666667</td>\n      <td>0.0</td>\n      <td>0.0</td>\n      <td>0.434109</td>\n      <td>0.402237</td>\n      <td>0.545706</td>\n      <td>20</td>\n      <td>1</td>\n      <td>1</td>\n    </tr>\n  </tbody>\n</table>\n<p>596 rows × 30 columns</p>\n</div>"
     },
     "execution_count": 47,
     "metadata": {},
     "output_type": "execute_result"
    }
   ],
   "source": [
    "test_df[test_df['RUL']<=40]"
   ],
   "metadata": {
    "collapsed": false,
    "ExecuteTime": {
     "end_time": "2023-12-03T14:53:07.967833500Z",
     "start_time": "2023-12-03T14:53:07.912335200Z"
    }
   },
   "id": "117138af6e6d8233"
  },
  {
   "cell_type": "code",
   "execution_count": 48,
   "outputs": [
    {
     "data": {
      "text/plain": "array([0.], dtype=float32)"
     },
     "execution_count": 48,
     "metadata": {},
     "output_type": "execute_result"
    }
   ],
   "source": [
    "label_array_test_last[37]"
   ],
   "metadata": {
    "collapsed": false,
    "ExecuteTime": {
     "end_time": "2023-12-03T14:53:08.047655800Z",
     "start_time": "2023-12-03T14:53:07.948348900Z"
    }
   },
   "id": "1cbba070d4bde930"
  },
  {
   "cell_type": "code",
   "execution_count": 49,
   "outputs": [
    {
     "name": "stdout",
     "output_type": "stream",
     "text": [
      "1/1 [==============================] - 0s 33ms/step\n",
      "[[0.]]\n"
     ]
    }
   ],
   "source": [
    "new_seq_array_test_last = seq_array_test_last[37].reshape(1, 50, 25)\n",
    "# использование метода predict для получения вероятностей\n",
    "y_pred_test_prob = model.predict(new_seq_array_test_last, batch_size=200)\n",
    "# преобразование полученных вероятностей в бинарные предсказания с помощью сравнения с пороговым значением 0.5\n",
    "y_pred_test = (y_pred_test_prob > 0.5).astype(\"float32\")\n",
    "print(y_pred_test)"
   ],
   "metadata": {
    "collapsed": false,
    "ExecuteTime": {
     "end_time": "2023-12-03T14:53:08.193847900Z",
     "start_time": "2023-12-03T14:53:07.975828700Z"
    }
   },
   "id": "ff1f26e15ef9dc4c"
  },
  {
   "cell_type": "code",
   "execution_count": 50,
   "outputs": [],
   "source": [
    "new_seq_array_test_last = seq_array_test_last[0].reshape(1, 50, 25)"
   ],
   "metadata": {
    "collapsed": false,
    "ExecuteTime": {
     "end_time": "2023-12-03T14:53:08.193847900Z",
     "start_time": "2023-12-03T14:53:08.097522300Z"
    }
   },
   "id": "ab7f111a44d878e5"
  }
 ],
 "metadata": {
  "kernelspec": {
   "display_name": "Python 3",
   "language": "python",
   "name": "python3"
  },
  "language_info": {
   "codemirror_mode": {
    "name": "ipython",
    "version": 2
   },
   "file_extension": ".py",
   "mimetype": "text/x-python",
   "name": "python",
   "nbconvert_exporter": "python",
   "pygments_lexer": "ipython2",
   "version": "2.7.6"
  }
 },
 "nbformat": 4,
 "nbformat_minor": 5
}
